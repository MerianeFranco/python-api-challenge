{
 "cells": [
  {
   "cell_type": "markdown",
   "metadata": {},
   "source": [
    "# WeatherPy\n",
    "----\n",
    "\n",
    "#### Note\n",
    "* Instructions have been included for each segment. You do not have to follow them exactly, but they are included to help you think through the steps."
   ]
  },
  {
   "cell_type": "code",
   "execution_count": 1,
   "metadata": {
    "scrolled": true
   },
   "outputs": [],
   "source": [
    "# Dependencies and Setup\n",
    "import matplotlib.pyplot as plt\n",
    "import pandas as pd\n",
    "import numpy as np\n",
    "import requests\n",
    "import time\n",
    "from scipy.stats import linregress\n",
    "\n",
    "# Import API key\n",
    "from api_keys import weather_api_key\n",
    "\n",
    "# Incorporated citipy to determine city based on latitude and longitude\n",
    "from citipy import citipy\n",
    "\n",
    "# Output File (CSV)\n",
    "output_data_file = \"output_data/cities.csv\"\n",
    "\n",
    "# Range of latitudes and longitudes\n",
    "lat_range = (-90, 90)\n",
    "lng_range = (-180, 180)"
   ]
  },
  {
   "cell_type": "markdown",
   "metadata": {},
   "source": [
    "## Generate Cities List"
   ]
  },
  {
   "cell_type": "code",
   "execution_count": 2,
   "metadata": {},
   "outputs": [
    {
     "name": "stdout",
     "output_type": "stream",
     "text": [
      "573\n"
     ]
    }
   ],
   "source": [
    "# List for holding lat_lngs and cities\n",
    "lat_lngs = []\n",
    "cities = []\n",
    "\n",
    "# Create a set of random lat and lng combinations\n",
    "lats = np.random.uniform(lat_range[0], lat_range[1], size=1500)\n",
    "lngs = np.random.uniform(lng_range[0], lng_range[1], size=1500)\n",
    "lat_lngs = zip(lats, lngs)\n",
    "\n",
    "# Identify nearest city for each lat, lng combination\n",
    "for lat_lng in lat_lngs:\n",
    "    city = citipy.nearest_city(lat_lng[0], lat_lng[1]).city_name\n",
    "    \n",
    "    # If the city is unique, then add it to a our cities list\n",
    "    if city not in cities:\n",
    "        cities.append(city)\n",
    "\n",
    "# Print the city count to confirm sufficient count\n",
    "print(len(cities))\n",
    "\n"
   ]
  },
  {
   "cell_type": "code",
   "execution_count": 3,
   "metadata": {},
   "outputs": [],
   "source": [
    "# Save config information from openweather url.\n",
    "url = \"http://api.openweathermap.org/data/2.5/weather?\"\n",
    "units = \"imperial\"\n",
    "\n",
    "# Build partial query URL\n",
    "query_url = f\"{url}appid={weather_api_key}&units={units}&q=\""
   ]
  },
  {
   "cell_type": "markdown",
   "metadata": {},
   "source": [
    "### Perform API Calls\n",
    "* Perform a weather check on each city using a series of successive API calls.\n",
    "* Include a print log of each city as it'sbeing processed (with the city number and city name).\n"
   ]
  },
  {
   "cell_type": "code",
   "execution_count": 4,
   "metadata": {},
   "outputs": [
    {
     "name": "stdout",
     "output_type": "stream",
     "text": [
      "Processing record 0 | ushuaia\n",
      "Processing record 1 | kapaa\n",
      "Processing record 2 | dikson\n",
      "Processing record 3 | cape town\n",
      "Processing record 4 | atuona\n",
      "Processing record 5 | lebu\n",
      "Processing record 6 | rikitea\n",
      "Processing record 7 | punta arenas\n",
      "Processing record 8 | hithadhoo\n",
      "Processing record 9 | floresta\n",
      "Processing record 10 | myitkyina\n",
      "Processing record 11 | airai\n",
      "Processing record 12 | plettenberg bay\n",
      "Processing record 13 | rybnoye\n",
      "Processing record 14 | mancio lima\n",
      "Processing record 15 | san andres\n",
      "Processing record 16 | saskylakh\n",
      "Processing record 17 | new norfolk\n",
      "Processing record 18 | port alfred\n",
      "Processing record 19 | busselton\n",
      "Processing record 20 | albany\n",
      "Processing record 21 | evensk\n",
      "Processing record 22 | bluff\n",
      "City not found\n",
      "City not found\n",
      "Processing record 25 | dana point\n",
      "Processing record 26 | edson\n",
      "Processing record 27 | thompson\n",
      "City not found\n",
      "Processing record 29 | mataura\n",
      "Processing record 30 | port elizabeth\n",
      "Processing record 31 | dunda\n",
      "Processing record 32 | dingle\n",
      "City not found\n",
      "Processing record 34 | avarua\n",
      "Processing record 35 | labuhan\n",
      "Processing record 36 | la ronge\n",
      "Processing record 37 | vostok\n",
      "Processing record 38 | yellowknife\n",
      "Processing record 39 | pochutla\n",
      "Processing record 40 | bathsheba\n",
      "Processing record 41 | cabo san lucas\n",
      "Processing record 42 | tasiilaq\n",
      "Processing record 43 | puerto ayora\n",
      "Processing record 44 | cockburn town\n",
      "Processing record 45 | ponta do sol\n",
      "Processing record 46 | vaini\n",
      "Processing record 47 | chingirlau\n",
      "Processing record 48 | sol-iletsk\n",
      "City not found\n",
      "Processing record 50 | hermanus\n",
      "Processing record 51 | sao jose da coroa grande\n",
      "Processing record 52 | narsaq\n",
      "Processing record 53 | henties bay\n",
      "Processing record 54 | souillac\n",
      "Processing record 55 | touros\n",
      "Processing record 56 | hilo\n",
      "Processing record 57 | pak phanang\n",
      "Processing record 58 | constitucion\n",
      "Processing record 59 | celestun\n",
      "City not found\n",
      "Processing record 61 | mahebourg\n",
      "Processing record 62 | nanortalik\n",
      "Processing record 63 | georgetown\n",
      "Processing record 64 | barrow\n",
      "Processing record 65 | flinders\n",
      "Processing record 66 | marzuq\n",
      "Processing record 67 | jamestown\n",
      "Processing record 68 | auki\n",
      "Processing record 69 | khatanga\n",
      "Processing record 70 | upernavik\n",
      "Processing record 71 | hobart\n",
      "Processing record 72 | benalla\n",
      "Processing record 73 | sola\n",
      "Processing record 74 | kidal\n",
      "Processing record 75 | kulhudhuffushi\n",
      "Processing record 76 | bredasdorp\n",
      "City not found\n",
      "Processing record 78 | broome\n",
      "Processing record 79 | chapais\n",
      "City not found\n",
      "Processing record 81 | cherskiy\n",
      "Processing record 82 | urumqi\n",
      "City not found\n",
      "Processing record 84 | petatlan\n",
      "Processing record 85 | cidreira\n",
      "Processing record 86 | koungou\n",
      "Processing record 87 | valparaiso\n",
      "Processing record 88 | iqaluit\n",
      "Processing record 89 | mar del plata\n",
      "Processing record 90 | sao joao da barra\n",
      "Processing record 91 | qaqortoq\n",
      "Processing record 92 | pangody\n",
      "Processing record 93 | khani\n",
      "City not found\n",
      "City not found\n",
      "Processing record 96 | hovd\n",
      "Processing record 97 | vestmannaeyjar\n",
      "Processing record 98 | clyde river\n",
      "Processing record 99 | castro\n",
      "Processing record 100 | namibe\n",
      "Processing record 101 | tuatapere\n",
      "Processing record 102 | ancud\n",
      "Processing record 103 | kodiak\n",
      "Processing record 104 | butaritari\n",
      "Processing record 105 | charters towers\n",
      "City not found\n",
      "Processing record 107 | chilca\n",
      "Processing record 108 | talnakh\n",
      "Processing record 109 | bambous virieux\n",
      "Processing record 110 | salalah\n",
      "Processing record 111 | tuktoyaktuk\n",
      "Processing record 112 | qaanaaq\n",
      "Processing record 113 | luderitz\n",
      "Processing record 114 | barabash\n",
      "Processing record 115 | changzhou\n",
      "City not found\n",
      "Processing record 117 | arcata\n",
      "Processing record 118 | aklavik\n",
      "Processing record 119 | alenquer\n",
      "Processing record 120 | matadi\n",
      "Processing record 121 | ustrzyki dolne\n",
      "Processing record 122 | east london\n",
      "City not found\n",
      "Processing record 124 | inhambane\n",
      "Processing record 125 | port moresby\n",
      "Processing record 126 | bandarbeyla\n",
      "Processing record 127 | camana\n",
      "Processing record 128 | khowst\n",
      "Processing record 129 | birao\n",
      "Processing record 130 | hami\n",
      "Processing record 131 | kataysk\n",
      "Processing record 132 | hasaki\n",
      "Processing record 133 | lalibela\n",
      "Processing record 134 | shu\n",
      "Processing record 135 | mount gambier\n",
      "Processing record 136 | sidrolandia\n",
      "Processing record 137 | provideniya\n",
      "Processing record 138 | aix-en-provence\n",
      "Processing record 139 | pangnirtung\n",
      "Processing record 140 | atar\n",
      "Processing record 141 | longyearbyen\n",
      "Processing record 142 | tual\n",
      "Processing record 143 | ashcroft\n",
      "Processing record 144 | arraial do cabo\n",
      "Processing record 145 | hofn\n",
      "Processing record 146 | kahului\n",
      "City not found\n",
      "Processing record 148 | vila velha\n",
      "Processing record 149 | tshikapa\n",
      "Processing record 150 | ucluelet\n",
      "City not found\n",
      "Processing record 152 | laguna\n",
      "Processing record 153 | ogrezeni\n",
      "Processing record 154 | helena\n",
      "Processing record 155 | leningradskiy\n",
      "City not found\n",
      "Processing record 157 | meulaboh\n",
      "Processing record 158 | vanimo\n",
      "Processing record 159 | ostrovnoy\n",
      "Processing record 160 | prince rupert\n",
      "Processing record 161 | bethel\n",
      "Processing record 162 | tuljapur\n",
      "Processing record 163 | ranong\n",
      "Processing record 164 | portland\n",
      "Processing record 165 | aloleng\n",
      "Processing record 166 | beira\n",
      "Processing record 167 | alice springs\n",
      "Processing record 168 | holly hill\n",
      "Processing record 169 | morki\n",
      "Processing record 170 | paredon\n",
      "Processing record 171 | liepaja\n",
      "Processing record 172 | maningrida\n",
      "Processing record 173 | nikolskoye\n",
      "Processing record 174 | hualmay\n",
      "Processing record 175 | victoria\n",
      "Processing record 176 | lompoc\n",
      "Processing record 177 | deer lake\n",
      "Processing record 178 | lander\n",
      "City not found\n",
      "Processing record 180 | saint-philippe\n",
      "Processing record 181 | axim\n",
      "City not found\n",
      "Processing record 183 | carnarvon\n",
      "Processing record 184 | bengkulu\n",
      "Processing record 185 | bayonet point\n",
      "Processing record 186 | sitka\n",
      "Processing record 187 | fortuna\n",
      "City not found\n",
      "City not found\n",
      "Processing record 190 | shirokiy\n",
      "Processing record 191 | awbari\n",
      "Processing record 192 | maragogi\n",
      "City not found\n",
      "Processing record 194 | ixtapa\n",
      "Processing record 195 | wattegama\n",
      "Processing record 196 | kampene\n",
      "Processing record 197 | mattru\n",
      "Processing record 198 | togur\n",
      "Processing record 199 | belaya gora\n",
      "Processing record 200 | geraldton\n",
      "Processing record 201 | hakkari\n",
      "Processing record 202 | cayenne\n",
      "Processing record 203 | tawang\n",
      "Processing record 204 | key west\n",
      "Processing record 205 | katsuura\n",
      "Processing record 206 | dukhovshchina\n",
      "Processing record 207 | beecher\n",
      "Processing record 208 | carsamba\n",
      "Processing record 209 | gorgan\n",
      "Processing record 210 | bielsk podlaski\n",
      "Processing record 211 | klaksvik\n",
      "Processing record 212 | sturgeon bay\n",
      "City not found\n",
      "Processing record 214 | kangaatsiaq\n",
      "Processing record 215 | acheng\n",
      "Processing record 216 | kenai\n",
      "Processing record 217 | gizo\n",
      "Processing record 218 | lahij\n",
      "Processing record 219 | vardo\n",
      "Processing record 220 | eyl\n",
      "Processing record 221 | fairbanks\n",
      "Processing record 222 | zachary\n",
      "City not found\n",
      "Processing record 224 | mount isa\n",
      "Processing record 225 | tura\n",
      "Processing record 226 | saint george\n",
      "Processing record 227 | eureka\n",
      "Processing record 228 | saint-augustin\n",
      "Processing record 229 | chuy\n",
      "Processing record 230 | kirando\n",
      "Processing record 231 | kaitangata\n",
      "Processing record 232 | rabak\n",
      "Processing record 233 | codrington\n",
      "Processing record 234 | kyzyl-suu\n",
      "Processing record 235 | santa marta\n",
      "Processing record 236 | buraydah\n",
      "Processing record 237 | ust-nera\n",
      "Processing record 238 | ribeira grande\n",
      "Processing record 239 | beringovskiy\n",
      "City not found\n",
      "Processing record 241 | kabare\n",
      "Processing record 242 | grandola\n",
      "Processing record 243 | moses lake\n",
      "Processing record 244 | russell\n",
      "Processing record 245 | inirida\n",
      "Processing record 246 | severo-kurilsk\n",
      "Processing record 247 | boissevain\n",
      "Processing record 248 | chokurdakh\n",
      "Processing record 249 | san rafael\n",
      "Processing record 250 | tiksi\n",
      "Processing record 251 | monrovia\n",
      "Processing record 252 | greencastle\n",
      "Processing record 253 | college\n",
      "Processing record 254 | kloulklubed\n",
      "Processing record 255 | issia\n",
      "Processing record 256 | ambilobe\n",
      "Processing record 257 | karratha\n",
      "City not found\n",
      "Processing record 259 | pitiquito\n",
      "City not found\n",
      "Processing record 261 | cukai\n",
      "Processing record 262 | bilma\n",
      "Processing record 263 | margate\n"
     ]
    },
    {
     "name": "stdout",
     "output_type": "stream",
     "text": [
      "Processing record 264 | pavlikeni\n",
      "Processing record 265 | padang\n",
      "Processing record 266 | xining\n",
      "Processing record 267 | westport\n",
      "Processing record 268 | diamantina\n",
      "Processing record 269 | yar-sale\n",
      "Processing record 270 | ugoofaaru\n",
      "Processing record 271 | port hedland\n",
      "Processing record 272 | omaruru\n",
      "Processing record 273 | esperance\n",
      "Processing record 274 | rio grande\n",
      "Processing record 275 | moron\n",
      "Processing record 276 | yulara\n",
      "Processing record 277 | gorokhovets\n",
      "Processing record 278 | ulaangom\n",
      "City not found\n",
      "Processing record 280 | canatlan\n",
      "Processing record 281 | lavrentiya\n",
      "Processing record 282 | kosh-agach\n",
      "Processing record 283 | necochea\n",
      "Processing record 284 | acari\n",
      "City not found\n",
      "Processing record 286 | coquimbo\n",
      "Processing record 287 | manakara\n",
      "Processing record 288 | dobryatino\n",
      "Processing record 289 | longhua\n",
      "Processing record 290 | krasnoselkup\n",
      "City not found\n",
      "City not found\n",
      "Processing record 293 | oud-beijerland\n",
      "Processing record 294 | faanui\n",
      "Processing record 295 | thiruvananthapuram\n",
      "Processing record 296 | kirakira\n",
      "Processing record 297 | pombas\n",
      "Processing record 298 | hambantota\n",
      "Processing record 299 | faya\n",
      "Processing record 300 | caravelas\n",
      "Processing record 301 | diban\n",
      "Processing record 302 | pacific grove\n",
      "Processing record 303 | marawi\n",
      "Processing record 304 | makakilo city\n",
      "Processing record 305 | okhotsk\n",
      "Processing record 306 | jiehu\n",
      "City not found\n",
      "Processing record 308 | gabu\n",
      "Processing record 309 | havoysund\n",
      "Processing record 310 | norman wells\n",
      "Processing record 311 | fort nelson\n",
      "Processing record 312 | baherden\n",
      "Processing record 313 | sabang\n",
      "Processing record 314 | amet\n",
      "City not found\n",
      "Processing record 316 | amuntai\n",
      "Processing record 317 | fukue\n",
      "Processing record 318 | pemba\n",
      "Processing record 319 | saldanha\n",
      "Processing record 320 | abakaliki\n",
      "Processing record 321 | kavieng\n",
      "Processing record 322 | naze\n",
      "Processing record 323 | caxito\n",
      "Processing record 324 | poli\n",
      "Processing record 325 | adre\n",
      "Processing record 326 | nanakuli\n",
      "Processing record 327 | bubaque\n",
      "Processing record 328 | abyek\n",
      "Processing record 329 | port lincoln\n",
      "Processing record 330 | paamiut\n",
      "Processing record 331 | the valley\n",
      "Processing record 332 | petrovskaya\n",
      "Processing record 333 | caldwell\n",
      "Processing record 334 | zhigansk\n",
      "Processing record 335 | deputatskiy\n",
      "City not found\n",
      "Processing record 337 | linden\n",
      "Processing record 338 | labytnangi\n",
      "Processing record 339 | maputo\n",
      "Processing record 340 | aragarcas\n",
      "Processing record 341 | demba\n",
      "Processing record 342 | puerto escondido\n",
      "Processing record 343 | ingham\n",
      "Processing record 344 | grand gaube\n",
      "Processing record 345 | severnoye\n",
      "Processing record 346 | berezna\n",
      "Processing record 347 | romny\n",
      "Processing record 348 | altay\n",
      "Processing record 349 | taoudenni\n",
      "Processing record 350 | marsa matruh\n",
      "Processing record 351 | huarmey\n",
      "Processing record 352 | tarma\n",
      "Processing record 353 | nioro\n",
      "Processing record 354 | guaruja\n",
      "Processing record 355 | rundu\n",
      "Processing record 356 | buala\n",
      "Processing record 357 | bozeman\n",
      "Processing record 358 | francistown\n",
      "Processing record 359 | porto nacional\n",
      "Processing record 360 | atambua\n",
      "Processing record 361 | tailai\n",
      "Processing record 362 | muroto\n",
      "Processing record 363 | sterling\n",
      "Processing record 364 | mokhsogollokh\n",
      "Processing record 365 | tautira\n",
      "Processing record 366 | zhadovka\n",
      "Processing record 367 | russkiy aktash\n",
      "Processing record 368 | yeppoon\n",
      "Processing record 369 | vaitape\n",
      "Processing record 370 | abeche\n",
      "Processing record 371 | porbandar\n",
      "Processing record 372 | ratnagiri\n",
      "City not found\n",
      "Processing record 374 | perpignan\n",
      "Processing record 375 | lagoa\n",
      "Processing record 376 | pemangkat\n",
      "Processing record 377 | srednekolymsk\n",
      "City not found\n",
      "Processing record 379 | atlantic city\n",
      "Processing record 380 | olinda\n",
      "City not found\n",
      "Processing record 382 | vyritsa\n",
      "Processing record 383 | los llanos de aridane\n",
      "Processing record 384 | gravdal\n",
      "Processing record 385 | san cristobal\n",
      "Processing record 386 | clinton\n",
      "Processing record 387 | troitskoye\n",
      "Processing record 388 | shimoda\n",
      "Processing record 389 | havre\n",
      "Processing record 390 | nizwa\n",
      "Processing record 391 | torbay\n",
      "Processing record 392 | port blair\n",
      "Processing record 393 | tynset\n",
      "Processing record 394 | kutum\n",
      "Processing record 395 | pingxiang\n",
      "Processing record 396 | arlit\n",
      "Processing record 397 | komsomolskiy\n",
      "Processing record 398 | port-cartier\n",
      "Processing record 399 | beaufort\n",
      "Processing record 400 | adrar\n",
      "Processing record 401 | honiara\n",
      "Processing record 402 | waingapu\n",
      "Processing record 403 | kadnikov\n",
      "Processing record 404 | cervo\n",
      "Processing record 405 | nayoro\n",
      "Processing record 406 | chirongui\n",
      "Processing record 407 | alofi\n",
      "City not found\n",
      "Processing record 409 | mount darwin\n",
      "Processing record 410 | markova\n",
      "Processing record 411 | avera\n",
      "Processing record 412 | omsukchan\n",
      "Processing record 413 | tazovskiy\n",
      "Processing record 414 | gboko\n",
      "Processing record 415 | namatanai\n",
      "Processing record 416 | southampton\n",
      "Processing record 417 | stykkisholmur\n",
      "Processing record 418 | imbituba\n",
      "Processing record 419 | beidao\n",
      "Processing record 420 | werda\n",
      "Processing record 421 | nhulunbuy\n",
      "Processing record 422 | neiafu\n",
      "Processing record 423 | rio gallegos\n",
      "Processing record 424 | vestmanna\n",
      "Processing record 425 | tateyama\n",
      "Processing record 426 | panguna\n",
      "Processing record 427 | aitape\n",
      "Processing record 428 | edgewater\n",
      "Processing record 429 | ithaca\n",
      "Processing record 430 | olinala\n",
      "Processing record 431 | arenzano\n",
      "Processing record 432 | turukhansk\n",
      "Processing record 433 | gedo\n",
      "Processing record 434 | thinadhoo\n",
      "Processing record 435 | miracema do tocantins\n",
      "Processing record 436 | zanesville\n",
      "Processing record 437 | husavik\n",
      "Processing record 438 | wladyslawowo\n",
      "Processing record 439 | maumere\n",
      "Processing record 440 | havelock\n",
      "Processing record 441 | bonavista\n",
      "Processing record 442 | anqing\n",
      "Processing record 443 | aksu\n",
      "City not found\n",
      "Processing record 445 | luau\n",
      "Processing record 446 | mahibadhoo\n",
      "Processing record 447 | mandali\n",
      "Processing record 448 | biak\n",
      "Processing record 449 | central point\n",
      "Processing record 450 | california\n",
      "Processing record 451 | ahuimanu\n",
      "Processing record 452 | la tuque\n",
      "Processing record 453 | salto\n",
      "Processing record 454 | entre rios\n",
      "Processing record 455 | lubyany\n",
      "Processing record 456 | bac lieu\n",
      "Processing record 457 | san patricio\n",
      "Processing record 458 | banjar\n",
      "Processing record 459 | isla mujeres\n",
      "Processing record 460 | bangassou\n",
      "Processing record 461 | suntar\n",
      "Processing record 462 | ouallam\n",
      "Processing record 463 | mackenzie\n",
      "City not found\n",
      "Processing record 465 | kachug\n",
      "Processing record 466 | chernyshevskiy\n",
      "Processing record 467 | anadyr\n",
      "Processing record 468 | kyren\n",
      "City not found\n",
      "Processing record 470 | sandakan\n",
      "Processing record 471 | hay river\n",
      "Processing record 472 | hamilton\n",
      "Processing record 473 | pandan\n",
      "Processing record 474 | jalu\n",
      "Processing record 475 | berlevag\n",
      "Processing record 476 | presidencia roque saenz pena\n",
      "Processing record 477 | leh\n",
      "Processing record 478 | ilanskiy\n",
      "Processing record 479 | pisco\n",
      "Processing record 480 | key largo\n",
      "Processing record 481 | zwedru\n",
      "Processing record 482 | zhangjiakou\n",
      "Processing record 483 | santa fe\n",
      "Processing record 484 | caraquet\n",
      "Processing record 485 | saurimo\n",
      "Processing record 486 | ilulissat\n",
      "Processing record 487 | buin\n",
      "Processing record 488 | camopi\n",
      "Processing record 489 | parsabad\n",
      "Processing record 490 | presidente epitacio\n",
      "Processing record 491 | lerwick\n",
      "Processing record 492 | sioux lookout\n",
      "Processing record 493 | porteirinha\n",
      "Processing record 494 | udachnyy\n",
      "Processing record 495 | nabire\n",
      "Processing record 496 | tilichiki\n",
      "City not found\n",
      "Processing record 498 | vieste\n",
      "Processing record 499 | turayf\n",
      "Processing record 500 | orange\n",
      "Processing record 501 | kruisfontein\n",
      "Processing record 502 | laureles\n",
      "Processing record 503 | arys\n",
      "Processing record 504 | bukoba\n",
      "Processing record 505 | goryachegorsk\n",
      "Processing record 506 | marathon\n",
      "Processing record 507 | lashio\n",
      "Processing record 508 | sao felix do xingu\n",
      "Processing record 509 | taybad\n",
      "Processing record 510 | kijang\n",
      "Processing record 511 | asfi\n",
      "Processing record 512 | tambopata\n",
      "Processing record 513 | stantsionno-oyashinskiy\n",
      "Processing record 514 | tsumeb\n",
      "City not found\n",
      "Processing record 516 | grindavik\n",
      "Processing record 517 | chimbote\n",
      "Processing record 518 | asau\n",
      "Processing record 519 | vila franca do campo\n"
     ]
    },
    {
     "name": "stdout",
     "output_type": "stream",
     "text": [
      "Processing record 520 | dudinka\n",
      "Processing record 521 | itarema\n",
      "Processing record 522 | angoche\n",
      "Processing record 523 | muros\n",
      "Processing record 524 | maloy\n",
      "Processing record 525 | nanjing\n",
      "Processing record 526 | ghatanji\n",
      "Processing record 527 | kindia\n",
      "Processing record 528 | palimbang\n",
      "Processing record 529 | binzhou\n",
      "Processing record 530 | isaka\n",
      "Processing record 531 | quatre cocos\n",
      "Processing record 532 | brownsville\n",
      "Processing record 533 | sorland\n",
      "Processing record 534 | lahad datu\n",
      "Processing record 535 | punalur\n",
      "City not found\n",
      "Processing record 537 | abnub\n",
      "Processing record 538 | kattivakkam\n",
      "Processing record 539 | pavagada\n",
      "Processing record 540 | giaveno\n",
      "Processing record 541 | nishihara\n",
      "Processing record 542 | dutse\n",
      "Processing record 543 | gubkinskiy\n",
      "Processing record 544 | goundam\n",
      "City not found\n",
      "Processing record 546 | xinzhi\n",
      "City not found\n",
      "City not found\n",
      "Processing record 549 | machiques\n",
      "Processing record 550 | bosaso\n",
      "Processing record 551 | peterhead\n",
      "Processing record 552 | balotra\n",
      "Processing record 553 | port hardy\n",
      "Processing record 554 | oranjemund\n",
      "Processing record 555 | ambanja\n",
      "Processing record 556 | leusden\n",
      "Processing record 557 | petropavlovsk-kamchatskiy\n",
      "Processing record 558 | xuanhua\n",
      "Processing record 559 | haines junction\n",
      "Processing record 560 | oksfjord\n",
      "Processing record 561 | tomatlan\n",
      "City not found\n",
      "City not found\n",
      "City not found\n",
      "Processing record 565 | kantunilkin\n",
      "City not found\n",
      "Processing record 567 | bereda\n",
      "Processing record 568 | sao lourenco do oeste\n",
      "Processing record 569 | takestan\n",
      "Processing record 570 | erzin\n",
      "Processing record 571 | mawlaik\n",
      "City not found\n"
     ]
    }
   ],
   "source": [
    "# set up lists to hold reponse info that will be used in a DataFrame\n",
    "lat = []\n",
    "lon = []\n",
    "temp = []\n",
    "windspeed =[]\n",
    "hum = []\n",
    "cloud = []\n",
    "dt = []\n",
    "country = []\n",
    "city_name = []\n",
    "\n",
    "# Loop through the list of cities and perform a request for data on each\n",
    "for i,city in enumerate(cities):\n",
    "\n",
    "    try:\n",
    "        response = requests.get(query_url + city).json()\n",
    "        lat.append(response['coord']['lat'])\n",
    "        lon.append(response['coord']['lon'])\n",
    "        temp.append(response['main']['temp_max'])\n",
    "        hum.append(response['main']['humidity'])\n",
    "        windspeed.append((response['wind']['speed']))\n",
    "        cloud.append(response['clouds']['all'])\n",
    "        dt.append(response['dt'])\n",
    "        country.append(response['sys']['country'])\n",
    "        city_name.append(city)\n",
    "        print(f\"Processing record {i} | {city}\")\n",
    "    except:\n",
    "     \n",
    "        print(\"City not found\")"
   ]
  },
  {
   "cell_type": "markdown",
   "metadata": {},
   "source": [
    "### Convert Raw Data to DataFrame\n",
    "* Export the city data into a .csv.\n",
    "* Display the DataFrame"
   ]
  },
  {
   "cell_type": "code",
   "execution_count": 7,
   "metadata": {},
   "outputs": [],
   "source": [
    "# Converting raw data to a DataFrame\n",
    "weather_df = pd.DataFrame({\"City\":city_name,\n",
    "             \"Lat\":lat,\n",
    "             \"Lng\":lon,\n",
    "             \"Max Temp\":temp,\n",
    "             \"Humidity\":hum,\n",
    "             \"Cloudiness\":cloud,\n",
    "             \"Wind Speed\":windspeed,\n",
    "             \"Country\":country,\n",
    "             \"Date\":dt\n",
    "             })\n"
   ]
  },
  {
   "cell_type": "code",
   "execution_count": 8,
   "metadata": {},
   "outputs": [
    {
     "data": {
      "text/html": [
       "<div>\n",
       "<style scoped>\n",
       "    .dataframe tbody tr th:only-of-type {\n",
       "        vertical-align: middle;\n",
       "    }\n",
       "\n",
       "    .dataframe tbody tr th {\n",
       "        vertical-align: top;\n",
       "    }\n",
       "\n",
       "    .dataframe thead th {\n",
       "        text-align: right;\n",
       "    }\n",
       "</style>\n",
       "<table border=\"1\" class=\"dataframe\">\n",
       "  <thead>\n",
       "    <tr style=\"text-align: right;\">\n",
       "      <th></th>\n",
       "      <th>City</th>\n",
       "      <th>Lat</th>\n",
       "      <th>Lng</th>\n",
       "      <th>Max Temp</th>\n",
       "      <th>Humidity</th>\n",
       "      <th>Cloudiness</th>\n",
       "      <th>Wind Speed</th>\n",
       "      <th>Country</th>\n",
       "      <th>Date</th>\n",
       "    </tr>\n",
       "  </thead>\n",
       "  <tbody>\n",
       "    <tr>\n",
       "      <th>0</th>\n",
       "      <td>ushuaia</td>\n",
       "      <td>-54.8000</td>\n",
       "      <td>-68.3000</td>\n",
       "      <td>50.00</td>\n",
       "      <td>66</td>\n",
       "      <td>75</td>\n",
       "      <td>4.61</td>\n",
       "      <td>AR</td>\n",
       "      <td>1616845069</td>\n",
       "    </tr>\n",
       "    <tr>\n",
       "      <th>1</th>\n",
       "      <td>kapaa</td>\n",
       "      <td>22.0752</td>\n",
       "      <td>-159.3190</td>\n",
       "      <td>73.40</td>\n",
       "      <td>83</td>\n",
       "      <td>1</td>\n",
       "      <td>13.80</td>\n",
       "      <td>US</td>\n",
       "      <td>1616845159</td>\n",
       "    </tr>\n",
       "    <tr>\n",
       "      <th>2</th>\n",
       "      <td>dikson</td>\n",
       "      <td>73.5069</td>\n",
       "      <td>80.5464</td>\n",
       "      <td>-11.07</td>\n",
       "      <td>98</td>\n",
       "      <td>28</td>\n",
       "      <td>8.70</td>\n",
       "      <td>RU</td>\n",
       "      <td>1616845160</td>\n",
       "    </tr>\n",
       "    <tr>\n",
       "      <th>3</th>\n",
       "      <td>cape town</td>\n",
       "      <td>-33.9258</td>\n",
       "      <td>18.4232</td>\n",
       "      <td>72.00</td>\n",
       "      <td>52</td>\n",
       "      <td>20</td>\n",
       "      <td>18.41</td>\n",
       "      <td>ZA</td>\n",
       "      <td>1616844916</td>\n",
       "    </tr>\n",
       "    <tr>\n",
       "      <th>4</th>\n",
       "      <td>atuona</td>\n",
       "      <td>-9.8000</td>\n",
       "      <td>-139.0333</td>\n",
       "      <td>80.02</td>\n",
       "      <td>79</td>\n",
       "      <td>86</td>\n",
       "      <td>19.37</td>\n",
       "      <td>PF</td>\n",
       "      <td>1616845161</td>\n",
       "    </tr>\n",
       "  </tbody>\n",
       "</table>\n",
       "</div>"
      ],
      "text/plain": [
       "        City      Lat       Lng  Max Temp  Humidity  Cloudiness  Wind Speed  \\\n",
       "0    ushuaia -54.8000  -68.3000     50.00        66          75        4.61   \n",
       "1      kapaa  22.0752 -159.3190     73.40        83           1       13.80   \n",
       "2     dikson  73.5069   80.5464    -11.07        98          28        8.70   \n",
       "3  cape town -33.9258   18.4232     72.00        52          20       18.41   \n",
       "4     atuona  -9.8000 -139.0333     80.02        79          86       19.37   \n",
       "\n",
       "  Country        Date  \n",
       "0      AR  1616845069  \n",
       "1      US  1616845159  \n",
       "2      RU  1616845160  \n",
       "3      ZA  1616844916  \n",
       "4      PF  1616845161  "
      ]
     },
     "execution_count": 8,
     "metadata": {},
     "output_type": "execute_result"
    }
   ],
   "source": [
    "#Exporting the DataFrame weather_df in a csv file and reading the DataFrame\n",
    "weather_df.to_csv(\"weather.csv\")\n",
    "weather_df.head() "
   ]
  },
  {
   "cell_type": "code",
   "execution_count": 60,
   "metadata": {},
   "outputs": [
    {
     "data": {
      "text/html": [
       "<div>\n",
       "<style scoped>\n",
       "    .dataframe tbody tr th:only-of-type {\n",
       "        vertical-align: middle;\n",
       "    }\n",
       "\n",
       "    .dataframe tbody tr th {\n",
       "        vertical-align: top;\n",
       "    }\n",
       "\n",
       "    .dataframe thead th {\n",
       "        text-align: right;\n",
       "    }\n",
       "</style>\n",
       "<table border=\"1\" class=\"dataframe\">\n",
       "  <thead>\n",
       "    <tr style=\"text-align: right;\">\n",
       "      <th></th>\n",
       "      <th>Lat</th>\n",
       "      <th>Lng</th>\n",
       "      <th>Max Temp</th>\n",
       "      <th>Humidity</th>\n",
       "      <th>Cloudiness</th>\n",
       "      <th>Wind Speed</th>\n",
       "      <th>Date</th>\n",
       "    </tr>\n",
       "  </thead>\n",
       "  <tbody>\n",
       "    <tr>\n",
       "      <th>count</th>\n",
       "      <td>521.000000</td>\n",
       "      <td>521.000000</td>\n",
       "      <td>521.000000</td>\n",
       "      <td>521.000000</td>\n",
       "      <td>521.000000</td>\n",
       "      <td>521.000000</td>\n",
       "      <td>5.210000e+02</td>\n",
       "    </tr>\n",
       "    <tr>\n",
       "      <th>mean</th>\n",
       "      <td>20.890001</td>\n",
       "      <td>14.168091</td>\n",
       "      <td>58.010154</td>\n",
       "      <td>69.111324</td>\n",
       "      <td>50.988484</td>\n",
       "      <td>8.038388</td>\n",
       "      <td>1.616845e+09</td>\n",
       "    </tr>\n",
       "    <tr>\n",
       "      <th>std</th>\n",
       "      <td>32.618822</td>\n",
       "      <td>89.936015</td>\n",
       "      <td>28.039787</td>\n",
       "      <td>24.265025</td>\n",
       "      <td>37.651691</td>\n",
       "      <td>6.243449</td>\n",
       "      <td>9.135932e+01</td>\n",
       "    </tr>\n",
       "    <tr>\n",
       "      <th>min</th>\n",
       "      <td>-54.800000</td>\n",
       "      <td>-175.200000</td>\n",
       "      <td>-29.380000</td>\n",
       "      <td>3.000000</td>\n",
       "      <td>0.000000</td>\n",
       "      <td>0.090000</td>\n",
       "      <td>1.616845e+09</td>\n",
       "    </tr>\n",
       "    <tr>\n",
       "      <th>25%</th>\n",
       "      <td>-8.103000</td>\n",
       "      <td>-66.865400</td>\n",
       "      <td>41.000000</td>\n",
       "      <td>57.000000</td>\n",
       "      <td>16.000000</td>\n",
       "      <td>3.510000</td>\n",
       "      <td>1.616845e+09</td>\n",
       "    </tr>\n",
       "    <tr>\n",
       "      <th>50%</th>\n",
       "      <td>23.613700</td>\n",
       "      <td>22.266700</td>\n",
       "      <td>64.990000</td>\n",
       "      <td>74.000000</td>\n",
       "      <td>55.000000</td>\n",
       "      <td>5.790000</td>\n",
       "      <td>1.616845e+09</td>\n",
       "    </tr>\n",
       "    <tr>\n",
       "      <th>75%</th>\n",
       "      <td>48.649900</td>\n",
       "      <td>88.666700</td>\n",
       "      <td>79.750000</td>\n",
       "      <td>87.000000</td>\n",
       "      <td>90.000000</td>\n",
       "      <td>10.360000</td>\n",
       "      <td>1.616845e+09</td>\n",
       "    </tr>\n",
       "    <tr>\n",
       "      <th>max</th>\n",
       "      <td>78.218600</td>\n",
       "      <td>179.316700</td>\n",
       "      <td>104.610000</td>\n",
       "      <td>100.000000</td>\n",
       "      <td>100.000000</td>\n",
       "      <td>34.520000</td>\n",
       "      <td>1.616845e+09</td>\n",
       "    </tr>\n",
       "  </tbody>\n",
       "</table>\n",
       "</div>"
      ],
      "text/plain": [
       "              Lat         Lng    Max Temp    Humidity  Cloudiness  Wind Speed  \\\n",
       "count  521.000000  521.000000  521.000000  521.000000  521.000000  521.000000   \n",
       "mean    20.890001   14.168091   58.010154   69.111324   50.988484    8.038388   \n",
       "std     32.618822   89.936015   28.039787   24.265025   37.651691    6.243449   \n",
       "min    -54.800000 -175.200000  -29.380000    3.000000    0.000000    0.090000   \n",
       "25%     -8.103000  -66.865400   41.000000   57.000000   16.000000    3.510000   \n",
       "50%     23.613700   22.266700   64.990000   74.000000   55.000000    5.790000   \n",
       "75%     48.649900   88.666700   79.750000   87.000000   90.000000   10.360000   \n",
       "max     78.218600  179.316700  104.610000  100.000000  100.000000   34.520000   \n",
       "\n",
       "               Date  \n",
       "count  5.210000e+02  \n",
       "mean   1.616845e+09  \n",
       "std    9.135932e+01  \n",
       "min    1.616845e+09  \n",
       "25%    1.616845e+09  \n",
       "50%    1.616845e+09  \n",
       "75%    1.616845e+09  \n",
       "max    1.616845e+09  "
      ]
     },
     "execution_count": 60,
     "metadata": {},
     "output_type": "execute_result"
    }
   ],
   "source": [
    "# A summary statistics was displayed\n",
    "summary_df = weather_df[[\"Lat\",\"Lng\",\"Max Temp\", \"Humidity\",\"Cloudiness\",\"Wind Speed\", \"Date\"]].describe()\n",
    "summary_df.to_csv(\"summary.csv\")\n",
    "summary_df"
   ]
  },
  {
   "cell_type": "markdown",
   "metadata": {},
   "source": [
    "## Inspect the data and remove the cities where the humidity > 100%.\n",
    "----\n",
    "Skip this step if there are no cities that have humidity > 100%. "
   ]
  },
  {
   "cell_type": "code",
   "execution_count": 10,
   "metadata": {},
   "outputs": [
    {
     "data": {
      "text/html": [
       "<div>\n",
       "<style scoped>\n",
       "    .dataframe tbody tr th:only-of-type {\n",
       "        vertical-align: middle;\n",
       "    }\n",
       "\n",
       "    .dataframe tbody tr th {\n",
       "        vertical-align: top;\n",
       "    }\n",
       "\n",
       "    .dataframe thead th {\n",
       "        text-align: right;\n",
       "    }\n",
       "</style>\n",
       "<table border=\"1\" class=\"dataframe\">\n",
       "  <thead>\n",
       "    <tr style=\"text-align: right;\">\n",
       "      <th></th>\n",
       "      <th>City</th>\n",
       "      <th>Lat</th>\n",
       "      <th>Lng</th>\n",
       "      <th>Max Temp</th>\n",
       "      <th>Humidity</th>\n",
       "      <th>Cloudiness</th>\n",
       "      <th>Wind Speed</th>\n",
       "      <th>Country</th>\n",
       "      <th>Date</th>\n",
       "    </tr>\n",
       "  </thead>\n",
       "  <tbody>\n",
       "  </tbody>\n",
       "</table>\n",
       "</div>"
      ],
      "text/plain": [
       "Empty DataFrame\n",
       "Columns: [City, Lat, Lng, Max Temp, Humidity, Cloudiness, Wind Speed, Country, Date]\n",
       "Index: []"
      ]
     },
     "execution_count": 10,
     "metadata": {},
     "output_type": "execute_result"
    }
   ],
   "source": [
    "weather_df.loc[weather_df[\"Humidity\"]>100]\n"
   ]
  },
  {
   "cell_type": "code",
   "execution_count": 9,
   "metadata": {},
   "outputs": [],
   "source": [
    "# As no city was listed with humidity >100%, this step will be skipped."
   ]
  },
  {
   "cell_type": "markdown",
   "metadata": {},
   "source": [
    "## Plotting the Data\n",
    "* Use proper labeling of the plots using plot titles (including date of analysis) and axes labels.\n",
    "* Save the plotted figures as .pngs."
   ]
  },
  {
   "cell_type": "markdown",
   "metadata": {},
   "source": [
    "## Latitude vs. Temperature Plot"
   ]
  },
  {
   "cell_type": "code",
   "execution_count": 23,
   "metadata": {
    "scrolled": true
   },
   "outputs": [
    {
     "name": "stdout",
     "output_type": "stream",
     "text": [
      "This chart shows how latitude influences the temperature. The Southern Hemispher is warmer than the Northern. Cities with latitude -40 to -60 in the Southern Hemisphere are way warmer than cities with Latitude 40 to 60 in the Northern Hemisphere.\n"
     ]
    },
    {
     "data": {
      "image/png": "[encoded data removed]",
      "text/plain": [
       "<Figure size 432x288 with 1 Axes>"
      ]
     },
     "metadata": {
      "needs_background": "light"
     },
     "output_type": "display_data"
    }
   ],
   "source": [
    "x_axis = weather_df[\"Lat\"]\n",
    "y_axis = weather_df[\"Max Temp\"]\n",
    "plt.title(\"City Latitude vs. Max Temperature (3/12/2021)\") # To ask help\n",
    "plt.xlabel(\"Latitude\")\n",
    "plt.ylabel(\"Max temperature (F)\")\n",
    "plt.scatter(x_axis, y_axis,marker=\"o\", facecolors=\"cyan\", edgecolors=\"black\")\n",
    "plt.plot()\n",
    "print(\"This chart shows how latitude influences the temperature. The Southern Hemispher is warmer than the Northern. Cities with latitude -40 to -60 in the Southern Hemisphere are way warmer than cities with Latitude 40 to 60 in the Northern Hemisphere.\")"
   ]
  },
  {
   "cell_type": "markdown",
   "metadata": {},
   "source": [
    "#Latitude vs. Humidity Plot"
   ]
  },
  {
   "cell_type": "code",
   "execution_count": 24,
   "metadata": {
    "scrolled": true
   },
   "outputs": [
    {
     "name": "stdout",
     "output_type": "stream",
     "text": [
      "This chart shows how latitude influences the humidity. We can see that humidity around 20% or lower are found in latitudes betwen 0 -40, which are in the Northern Hemisfere, but very close to the Equatorial line.  \n"
     ]
    },
    {
     "data": {
      "image/png": "[encoded data removed]",
      "text/plain": [
       "<Figure size 432x288 with 1 Axes>"
      ]
     },
     "metadata": {
      "needs_background": "light"
     },
     "output_type": "display_data"
    }
   ],
   "source": [
    "x_axis = weather_df[\"Lat\"]\n",
    "y_axis = weather_df[\"Humidity\"]\n",
    "plt.title(\"City Latitude vs. Humidity (3/12/2021)\")\n",
    "plt.xlabel(\"Latitude\")\n",
    "plt.ylabel(\"Humidity (%)\")\n",
    "plt.scatter(x_axis, y_axis,marker=\"o\", facecolors=\"cyan\", edgecolors=\"black\")\n",
    "plt.plot()\n",
    "print(\"This chart shows how latitude influences the humidity. We can see that humidity around 20% or lower are found in latitudes between 0 -40, which are in the Northern Hemisfere, but very close to the Equatorial line.  \")"
   ]
  },
  {
   "cell_type": "markdown",
   "metadata": {},
   "source": [
    "##### Latitude vs. Cloudiness Plot"
   ]
  },
  {
   "cell_type": "code",
   "execution_count": 25,
   "metadata": {},
   "outputs": [
    {
     "name": "stdout",
     "output_type": "stream",
     "text": [
      "This chart shows how latitude influences the cloudiness. We can see that there is not that much relation between those two parameters.  \n"
     ]
    },
    {
     "data": {
      "image/png": "[encoded data removed]",
      "text/plain": [
       "<Figure size 432x288 with 1 Axes>"
      ]
     },
     "metadata": {
      "needs_background": "light"
     },
     "output_type": "display_data"
    }
   ],
   "source": [
    "\n",
    "x_axis = weather_df[\"Lat\"]\n",
    "y_axis = weather_df[\"Cloudiness\"]\n",
    "plt.title(\"City Latitude vs. Cloudiness (3/12/2021)\") # To ask help\n",
    "plt.xlabel(\"Latitude\")\n",
    "plt.ylabel(\"Cloudiness (%)\")\n",
    "plt.scatter(x_axis, y_axis,marker=\"o\", facecolors=\"cyan\", edgecolors=\"black\")\n",
    "plt.plot()\n",
    "print(\"This chart shows how latitude influences the cloudiness. We can see that there is not that much relation between those two parameters.  \")"
   ]
  },
  {
   "cell_type": "markdown",
   "metadata": {},
   "source": [
    "## Latitude vs. Wind Speed Plot"
   ]
  },
  {
   "cell_type": "code",
   "execution_count": 26,
   "metadata": {},
   "outputs": [
    {
     "name": "stdout",
     "output_type": "stream",
     "text": [
      "This chart shows how latitude influences the wind speed. Most of the cities from our data set has wind speed below 15 mph, but for the few cities that has higer values of wind speed, they are mostly located at the Northern Hemisphere.\n"
     ]
    },
    {
     "data": {
      "image/png": "[encoded data removed]",
      "text/plain": [
       "<Figure size 432x288 with 1 Axes>"
      ]
     },
     "metadata": {
      "needs_background": "light"
     },
     "output_type": "display_data"
    }
   ],
   "source": [
    "x_axis = weather_df[\"Lat\"]\n",
    "y_axis = weather_df[\"Wind Speed\"]\n",
    "plt.title(\"City Latitude vs. Wind Speed (3/12/2021)\") # To ask help\n",
    "plt.xlabel(\"Latitude\")\n",
    "plt.ylabel(\"Wind Speed (mph)\")\n",
    "plt.scatter(x_axis, y_axis,marker=\"o\", facecolors=\"cyan\", edgecolors=\"black\")\n",
    "plt.plot()\n",
    "print(\"This chart shows how latitude influences the wind speed. Most of the cities from our data set has wind speed below 15 mph, but for the few cities that has higer values of wind speed, they are mostly located at the Northern Hemisphere.\")"
   ]
  },
  {
   "cell_type": "markdown",
   "metadata": {},
   "source": [
    "## Linear Regression"
   ]
  },
  {
   "cell_type": "code",
   "execution_count": 28,
   "metadata": {},
   "outputs": [
    {
     "data": {
      "text/html": [
       "<div>\n",
       "<style scoped>\n",
       "    .dataframe tbody tr th:only-of-type {\n",
       "        vertical-align: middle;\n",
       "    }\n",
       "\n",
       "    .dataframe tbody tr th {\n",
       "        vertical-align: top;\n",
       "    }\n",
       "\n",
       "    .dataframe thead th {\n",
       "        text-align: right;\n",
       "    }\n",
       "</style>\n",
       "<table border=\"1\" class=\"dataframe\">\n",
       "  <thead>\n",
       "    <tr style=\"text-align: right;\">\n",
       "      <th></th>\n",
       "      <th>City</th>\n",
       "      <th>Lat</th>\n",
       "      <th>Lng</th>\n",
       "      <th>Max Temp</th>\n",
       "      <th>Humidity</th>\n",
       "      <th>Cloudiness</th>\n",
       "      <th>Wind Speed</th>\n",
       "      <th>Country</th>\n",
       "      <th>Date</th>\n",
       "    </tr>\n",
       "  </thead>\n",
       "  <tbody>\n",
       "    <tr>\n",
       "      <th>1</th>\n",
       "      <td>kapaa</td>\n",
       "      <td>22.0752</td>\n",
       "      <td>-159.3190</td>\n",
       "      <td>73.40</td>\n",
       "      <td>83</td>\n",
       "      <td>1</td>\n",
       "      <td>13.80</td>\n",
       "      <td>US</td>\n",
       "      <td>1616845159</td>\n",
       "    </tr>\n",
       "    <tr>\n",
       "      <th>2</th>\n",
       "      <td>dikson</td>\n",
       "      <td>73.5069</td>\n",
       "      <td>80.5464</td>\n",
       "      <td>-11.07</td>\n",
       "      <td>98</td>\n",
       "      <td>28</td>\n",
       "      <td>8.70</td>\n",
       "      <td>RU</td>\n",
       "      <td>1616845160</td>\n",
       "    </tr>\n",
       "    <tr>\n",
       "      <th>10</th>\n",
       "      <td>myitkyina</td>\n",
       "      <td>25.3833</td>\n",
       "      <td>97.4000</td>\n",
       "      <td>81.07</td>\n",
       "      <td>18</td>\n",
       "      <td>0</td>\n",
       "      <td>0.65</td>\n",
       "      <td>MM</td>\n",
       "      <td>1616845164</td>\n",
       "    </tr>\n",
       "    <tr>\n",
       "      <th>13</th>\n",
       "      <td>rybnoye</td>\n",
       "      <td>54.7256</td>\n",
       "      <td>39.5119</td>\n",
       "      <td>35.46</td>\n",
       "      <td>99</td>\n",
       "      <td>100</td>\n",
       "      <td>7.58</td>\n",
       "      <td>RU</td>\n",
       "      <td>1616845165</td>\n",
       "    </tr>\n",
       "    <tr>\n",
       "      <th>15</th>\n",
       "      <td>san andres</td>\n",
       "      <td>12.5847</td>\n",
       "      <td>-81.7006</td>\n",
       "      <td>80.60</td>\n",
       "      <td>74</td>\n",
       "      <td>20</td>\n",
       "      <td>17.27</td>\n",
       "      <td>CO</td>\n",
       "      <td>1616845166</td>\n",
       "    </tr>\n",
       "  </tbody>\n",
       "</table>\n",
       "</div>"
      ],
      "text/plain": [
       "          City      Lat       Lng  Max Temp  Humidity  Cloudiness  Wind Speed  \\\n",
       "1        kapaa  22.0752 -159.3190     73.40        83           1       13.80   \n",
       "2       dikson  73.5069   80.5464    -11.07        98          28        8.70   \n",
       "10   myitkyina  25.3833   97.4000     81.07        18           0        0.65   \n",
       "13     rybnoye  54.7256   39.5119     35.46        99         100        7.58   \n",
       "15  san andres  12.5847  -81.7006     80.60        74          20       17.27   \n",
       "\n",
       "   Country        Date  \n",
       "1       US  1616845159  \n",
       "2       RU  1616845160  \n",
       "10      MM  1616845164  \n",
       "13      RU  1616845165  \n",
       "15      CO  1616845166  "
      ]
     },
     "execution_count": 28,
     "metadata": {},
     "output_type": "execute_result"
    }
   ],
   "source": [
    "#Separate the data in 2 dataframes to get the North and the South regions for ploting\n",
    "\n",
    "#North ['Lat']>=0]\n",
    "n_weather_df = weather_df.loc[weather_df['Lat']>=0]\n",
    "n_weather_df.head()"
   ]
  },
  {
   "cell_type": "code",
   "execution_count": 29,
   "metadata": {},
   "outputs": [
    {
     "data": {
      "text/html": [
       "<div>\n",
       "<style scoped>\n",
       "    .dataframe tbody tr th:only-of-type {\n",
       "        vertical-align: middle;\n",
       "    }\n",
       "\n",
       "    .dataframe tbody tr th {\n",
       "        vertical-align: top;\n",
       "    }\n",
       "\n",
       "    .dataframe thead th {\n",
       "        text-align: right;\n",
       "    }\n",
       "</style>\n",
       "<table border=\"1\" class=\"dataframe\">\n",
       "  <thead>\n",
       "    <tr style=\"text-align: right;\">\n",
       "      <th></th>\n",
       "      <th>City</th>\n",
       "      <th>Lat</th>\n",
       "      <th>Lng</th>\n",
       "      <th>Max Temp</th>\n",
       "      <th>Humidity</th>\n",
       "      <th>Cloudiness</th>\n",
       "      <th>Wind Speed</th>\n",
       "      <th>Country</th>\n",
       "      <th>Date</th>\n",
       "    </tr>\n",
       "  </thead>\n",
       "  <tbody>\n",
       "    <tr>\n",
       "      <th>0</th>\n",
       "      <td>ushuaia</td>\n",
       "      <td>-54.8000</td>\n",
       "      <td>-68.3000</td>\n",
       "      <td>50.00</td>\n",
       "      <td>66</td>\n",
       "      <td>75</td>\n",
       "      <td>4.61</td>\n",
       "      <td>AR</td>\n",
       "      <td>1616845069</td>\n",
       "    </tr>\n",
       "    <tr>\n",
       "      <th>3</th>\n",
       "      <td>cape town</td>\n",
       "      <td>-33.9258</td>\n",
       "      <td>18.4232</td>\n",
       "      <td>72.00</td>\n",
       "      <td>52</td>\n",
       "      <td>20</td>\n",
       "      <td>18.41</td>\n",
       "      <td>ZA</td>\n",
       "      <td>1616844916</td>\n",
       "    </tr>\n",
       "    <tr>\n",
       "      <th>4</th>\n",
       "      <td>atuona</td>\n",
       "      <td>-9.8000</td>\n",
       "      <td>-139.0333</td>\n",
       "      <td>80.02</td>\n",
       "      <td>79</td>\n",
       "      <td>86</td>\n",
       "      <td>19.37</td>\n",
       "      <td>PF</td>\n",
       "      <td>1616845161</td>\n",
       "    </tr>\n",
       "    <tr>\n",
       "      <th>5</th>\n",
       "      <td>lebu</td>\n",
       "      <td>-37.6167</td>\n",
       "      <td>-73.6500</td>\n",
       "      <td>53.35</td>\n",
       "      <td>72</td>\n",
       "      <td>70</td>\n",
       "      <td>14.67</td>\n",
       "      <td>CL</td>\n",
       "      <td>1616845161</td>\n",
       "    </tr>\n",
       "    <tr>\n",
       "      <th>6</th>\n",
       "      <td>rikitea</td>\n",
       "      <td>-23.1203</td>\n",
       "      <td>-134.9692</td>\n",
       "      <td>79.54</td>\n",
       "      <td>69</td>\n",
       "      <td>64</td>\n",
       "      <td>19.82</td>\n",
       "      <td>PF</td>\n",
       "      <td>1616845162</td>\n",
       "    </tr>\n",
       "  </tbody>\n",
       "</table>\n",
       "</div>"
      ],
      "text/plain": [
       "        City      Lat       Lng  Max Temp  Humidity  Cloudiness  Wind Speed  \\\n",
       "0    ushuaia -54.8000  -68.3000     50.00        66          75        4.61   \n",
       "3  cape town -33.9258   18.4232     72.00        52          20       18.41   \n",
       "4     atuona  -9.8000 -139.0333     80.02        79          86       19.37   \n",
       "5       lebu -37.6167  -73.6500     53.35        72          70       14.67   \n",
       "6    rikitea -23.1203 -134.9692     79.54        69          64       19.82   \n",
       "\n",
       "  Country        Date  \n",
       "0      AR  1616845069  \n",
       "3      ZA  1616844916  \n",
       "4      PF  1616845161  \n",
       "5      CL  1616845161  \n",
       "6      PF  1616845162  "
      ]
     },
     "execution_count": 29,
     "metadata": {},
     "output_type": "execute_result"
    }
   ],
   "source": [
    "#South ['Lat']<0]\n",
    "s_weather_df = weather_df.loc[weather_df['Lat']<0]\n",
    "s_weather_df.head()"
   ]
  },
  {
   "cell_type": "code",
   "execution_count": 50,
   "metadata": {},
   "outputs": [],
   "source": [
    "#Using a unic function to simplify the plotting steps\n",
    "def correlation_plot(x, y,\n",
    "                     title,\n",
    "                     xlabel, ylabel, xmin, ymin):\n",
    "    plt.scatter(x, y)\n",
    "    slope, intercept, r_value, p_value, std_err = linregress(x,y)\n",
    "    \n",
    "    regress_values = x * slope + intercept\n",
    "    line_eq = \"y = \" + str(round(slope,2)) + \"x + \" + str(round(intercept,2))\n",
    "    plt.plot(x,regress_values,\"r-\")\n",
    "    plt.annotate(line_eq,(xmin,ymin),fontsize=14,color=\"red\")\n",
    "      \n",
    "    \n",
    "    print(f'r-value is = {r_value**2}')\n",
    "    plt.title(title)\n",
    "    plt.xlabel(xlabel)\n",
    "    plt.ylabel(ylabel)\n",
    "     \n",
    "    plt.show\n"
   ]
  },
  {
   "cell_type": "markdown",
   "metadata": {},
   "source": [
    "####  Northern Hemisphere - Max Temp vs. Latitude Linear Regression"
   ]
  },
  {
   "cell_type": "code",
   "execution_count": 52,
   "metadata": {
    "scrolled": false
   },
   "outputs": [
    {
     "name": "stdout",
     "output_type": "stream",
     "text": [
      "r-value is = 0.7813374606932812\n"
     ]
    },
    {
     "data": {
      "image/png": "[encoded data removed]",
      "text/plain": [
       "<Figure size 432x288 with 1 Axes>"
      ]
     },
     "metadata": {
      "needs_background": "light"
     },
     "output_type": "display_data"
    }
   ],
   "source": [
    "x = n_weather_df[\"Lat\"]\n",
    "y = n_weather_df[\"Max Temp\"]\n",
    "xmin = n_weather_df[\"Lat\"].min()\n",
    "ymin = n_weather_df[\"Max Temp\"].min()\n",
    "title = \"Northern Hemisphere - Max Temp vs. Latitude Linear Regression\"\n",
    "xlabel = \"Latitude\"\n",
    "ylabel = \"Max Temperature\"\n",
    "correlation_plot(x, y, title, xlabel, ylabel, xmin, ymin)"
   ]
  },
  {
   "cell_type": "markdown",
   "metadata": {},
   "source": [
    "####  Southern Hemisphere - Max Temp vs. Latitude Linear Regression"
   ]
  },
  {
   "cell_type": "code",
   "execution_count": 53,
   "metadata": {},
   "outputs": [
    {
     "name": "stdout",
     "output_type": "stream",
     "text": [
      "r-value is = 0.41161915921901976\n"
     ]
    },
    {
     "data": {
      "image/png": "[encoded data removed]",
      "text/plain": [
       "<Figure size 432x288 with 1 Axes>"
      ]
     },
     "metadata": {
      "needs_background": "light"
     },
     "output_type": "display_data"
    }
   ],
   "source": [
    "x = s_weather_df[\"Lat\"]\n",
    "y = s_weather_df[\"Max Temp\"]\n",
    "xmin = s_weather_df[\"Lat\"].min()\n",
    "ymin = s_weather_df[\"Max Temp\"].min()\n",
    "title = \"Southern Hemisphere - Max Temp vs. Latitude Linear Regression\"\n",
    "xlabel = \"Latitude\"\n",
    "ylabel = \"Max Temperature\"\n",
    "correlation_plot(x, y, title, xlabel, ylabel, xmin, ymin)"
   ]
  },
  {
   "cell_type": "markdown",
   "metadata": {},
   "source": [
    "####  Northern Hemisphere - Humidity (%) vs. Latitude Linear Regression"
   ]
  },
  {
   "cell_type": "code",
   "execution_count": 54,
   "metadata": {},
   "outputs": [
    {
     "name": "stdout",
     "output_type": "stream",
     "text": [
      "r-value is = 0.13138818299772334\n"
     ]
    },
    {
     "data": {
      "image/png": "[encoded data removed]",
      "text/plain": [
       "<Figure size 432x288 with 1 Axes>"
      ]
     },
     "metadata": {
      "needs_background": "light"
     },
     "output_type": "display_data"
    }
   ],
   "source": [
    "x = n_weather_df[\"Lat\"]\n",
    "y = n_weather_df[\"Humidity\"]\n",
    "xmin = n_weather_df[\"Lat\"].min()\n",
    "ymin = n_weather_df[\"Humidity\"].min()\n",
    "title = \"Northern Hemisphere - Humidity (%) vs. Latitude Linear Regression\"\n",
    "xlabel = \"Latitude\"\n",
    "ylabel = \"Humidity (%)\"\n",
    "correlation_plot(x, y, title, xlabel, ylabel, xmin, ymin)"
   ]
  },
  {
   "cell_type": "markdown",
   "metadata": {},
   "source": [
    "####  Southern Hemisphere - Humidity (%) vs. Latitude Linear Regression"
   ]
  },
  {
   "cell_type": "code",
   "execution_count": 55,
   "metadata": {},
   "outputs": [
    {
     "name": "stdout",
     "output_type": "stream",
     "text": [
      "r-value is = 0.035856514194205685\n"
     ]
    },
    {
     "data": {
      "image/png": "[encoded data removed]",
      "text/plain": [
       "<Figure size 432x288 with 1 Axes>"
      ]
     },
     "metadata": {
      "needs_background": "light"
     },
     "output_type": "display_data"
    }
   ],
   "source": [
    "x = s_weather_df[\"Lat\"]\n",
    "y = s_weather_df[\"Humidity\"]\n",
    "xmin = s_weather_df[\"Lat\"].min()\n",
    "ymin = s_weather_df[\"Humidity\"].min()\n",
    "title = \"Southern Hemisphere - Humidity (%) vs. Latitude Linear Regression\"\n",
    "xlabel = \"Latitude\"\n",
    "ylabel = \"Humidity (%)\"\n",
    "correlation_plot(x, y, title, xlabel, ylabel, xmin, ymin)"
   ]
  },
  {
   "cell_type": "markdown",
   "metadata": {},
   "source": [
    "####  Northern Hemisphere - Cloudiness (%) vs. Latitude Linear Regression"
   ]
  },
  {
   "cell_type": "code",
   "execution_count": 56,
   "metadata": {},
   "outputs": [
    {
     "name": "stdout",
     "output_type": "stream",
     "text": [
      "r-value is = 0.0405924995127131\n"
     ]
    },
    {
     "data": {
      "image/png": "[encoded data removed]",
      "text/plain": [
       "<Figure size 432x288 with 1 Axes>"
      ]
     },
     "metadata": {
      "needs_background": "light"
     },
     "output_type": "display_data"
    }
   ],
   "source": [
    "x = n_weather_df[\"Lat\"]\n",
    "y = n_weather_df[\"Cloudiness\"]\n",
    "xmin = n_weather_df[\"Lat\"].min()\n",
    "ymin = n_weather_df[\"Cloudiness\"].min()\n",
    "title = \"Northern Hemisphere - Cloudiness (%) vs. Latitude Linear Regression\"\n",
    "xlabel = \"Latitude\"\n",
    "ylabel = \"Cloudiness\"\n",
    "correlation_plot(x, y, title, xlabel, ylabel, xmin, ymin)"
   ]
  },
  {
   "cell_type": "markdown",
   "metadata": {},
   "source": [
    "####  Southern Hemisphere - Cloudiness (%) vs. Latitude Linear Regression"
   ]
  },
  {
   "cell_type": "code",
   "execution_count": 57,
   "metadata": {},
   "outputs": [
    {
     "name": "stdout",
     "output_type": "stream",
     "text": [
      "r-value is = 0.05881056668191563\n"
     ]
    },
    {
     "data": {
      "image/png": "[encoded data removed]",
      "text/plain": [
       "<Figure size 432x288 with 1 Axes>"
      ]
     },
     "metadata": {
      "needs_background": "light"
     },
     "output_type": "display_data"
    }
   ],
   "source": [
    "x = s_weather_df[\"Lat\"]\n",
    "y = s_weather_df[\"Cloudiness\"]\n",
    "xmin = s_weather_df[\"Lat\"].min()\n",
    "ymin = s_weather_df[\"Cloudiness\"].min()\n",
    "title = \"Southern Hemisphere - Cloudiness (%) vs. Latitude Linear Regression\"\n",
    "xlabel = \"Latitude\"\n",
    "ylabel = \"Cloudiness\"\n",
    "correlation_plot(x, y, title, xlabel, ylabel, xmin, ymin)"
   ]
  },
  {
   "cell_type": "markdown",
   "metadata": {},
   "source": [
    "####  Northern Hemisphere - Wind Speed (mph) vs. Latitude Linear Regression"
   ]
  },
  {
   "cell_type": "code",
   "execution_count": 58,
   "metadata": {},
   "outputs": [
    {
     "name": "stdout",
     "output_type": "stream",
     "text": [
      "r-value is = 0.001096638361694317\n"
     ]
    },
    {
     "data": {
      "image/png": "[encoded data removed]",
      "text/plain": [
       "<Figure size 432x288 with 1 Axes>"
      ]
     },
     "metadata": {
      "needs_background": "light"
     },
     "output_type": "display_data"
    }
   ],
   "source": [
    "x = n_weather_df[\"Lat\"]\n",
    "y = n_weather_df[\"Wind Speed\"]\n",
    "xmin = n_weather_df[\"Lat\"].min()\n",
    "ymin = n_weather_df[\"Wind Speed\"].min()\n",
    "title = \"Northern Hemisphere - Wind Speed (mph) vs. Latitude Linear Regression\"\n",
    "xlabel = \"Latitude\"\n",
    "ylabel = \"Wind Speed (mph)\"\n",
    "correlation_plot(x, y, title, xlabel, ylabel, xmin, ymin)"
   ]
  },
  {
   "cell_type": "markdown",
   "metadata": {},
   "source": [
    "####  Southern Hemisphere - Wind Speed (mph) vs. Latitude Linear Regression"
   ]
  },
  {
   "cell_type": "code",
   "execution_count": 59,
   "metadata": {},
   "outputs": [
    {
     "name": "stdout",
     "output_type": "stream",
     "text": [
      "r-value is = 0.04588843437678633\n"
     ]
    },
    {
     "data": {
      "image/png": "[encoded data removed]",
      "text/plain": [
       "<Figure size 432x288 with 1 Axes>"
      ]
     },
     "metadata": {
      "needs_background": "light"
     },
     "output_type": "display_data"
    }
   ],
   "source": [
    "x = s_weather_df[\"Lat\"]\n",
    "y = s_weather_df[\"Wind Speed\"]\n",
    "xmin = s_weather_df[\"Lat\"].min()\n",
    "ymin = s_weather_df[\"Wind Speed\"].min()\n",
    "title = \"Southern Hemisphere - Wind Speed (mph) vs. Latitude Linear Regression\"\n",
    "xlabel = \"Latitude\"\n",
    "ylabel = \"Wind Speed (mph)\"\n",
    "correlation_plot(x, y, title, xlabel, ylabel, xmin, ymin)"
   ]
  },
  {
   "cell_type": "code",
   "execution_count": null,
   "metadata": {},
   "outputs": [],
   "source": []
  }
 ],
 "metadata": {
  "anaconda-cloud": {},
  "kernel_info": {
   "name": "python3"
  },
  "kernelspec": {
   "display_name": "Python 3",
   "language": "python",
   "name": "python3"
  },
  "language_info": {
   "codemirror_mode": {
    "name": "ipython",
    "version": 3
   },
   "file_extension": ".py",
   "mimetype": "text/x-python",
   "name": "python",
   "nbconvert_exporter": "python",
   "pygments_lexer": "ipython3",
   "version": "3.8.5"
  },
  "latex_envs": {
   "LaTeX_envs_menu_present": true,
   "autoclose": false,
   "autocomplete": true,
   "bibliofile": "biblio.bib",
   "cite_by": "apalike",
   "current_citInitial": 1,
   "eqLabelWithNumbers": true,
   "eqNumInitial": 1,
   "hotkeys": {
    "equation": "Ctrl-E",
    "itemize": "Ctrl-I"
   },
   "labels_anchors": false,
   "latex_user_defs": false,
   "report_style_numbering": false,
   "user_envs_cfg": false
  },
  "nteract": {
   "version": "0.12.3"
  }
 },
 "nbformat": 4,
 "nbformat_minor": 2
}
