{
 "cells": [
  {
   "cell_type": "markdown",
   "metadata": {},
   "source": [
    "# WeatherPy\n",
    "----\n",
    "\n",
    "#### Note\n",
    "* Instructions have been included for each segment. You do not have to follow them exactly, but they are included to help you think through the steps."
   ]
  },
  {
   "cell_type": "code",
   "execution_count": 24,
   "metadata": {
    "scrolled": true
   },
   "outputs": [],
   "source": [
    "# Dependencies and Setup\n",
    "import matplotlib.pyplot as plt\n",
    "import pandas as pd\n",
    "import numpy as np\n",
    "import requests\n",
    "import time\n",
    "import os\n",
    "from scipy.stats import linregress\n",
    "\n",
    "# Import API key\n",
    "from api_keys import weather_api_key\n",
    "\n",
    "# Incorporated citipy to determine city based on latitude and longitude\n",
    "from citipy import citipy\n",
    "\n",
    "# Output File (CSV)\n",
    "output_data_file = \"output_data/cities.csv\"\n",
    "\n",
    "# Range of latitudes and longitudes\n",
    "lat_range = (-90, 90)\n",
    "lng_range = (-180, 180)"
   ]
  },
  {
   "cell_type": "markdown",
   "metadata": {},
   "source": [
    "## Generate Cities List"
   ]
  },
  {
   "cell_type": "code",
   "execution_count": 2,
   "metadata": {},
   "outputs": [
    {
     "name": "stdout",
     "output_type": "stream",
     "text": [
      "616\n"
     ]
    }
   ],
   "source": [
    "# List for holding lat_lngs and cities\n",
    "lat_lngs = []\n",
    "cities = []\n",
    "\n",
    "# Create a set of random lat and lng combinations\n",
    "lats = np.random.uniform(lat_range[0], lat_range[1], size=1500)\n",
    "lngs = np.random.uniform(lng_range[0], lng_range[1], size=1500)\n",
    "lat_lngs = zip(lats, lngs)\n",
    "\n",
    "# Identify nearest city for each lat, lng combination\n",
    "for lat_lng in lat_lngs:\n",
    "    city = citipy.nearest_city(lat_lng[0], lat_lng[1]).city_name\n",
    "    \n",
    "    # If the city is unique, then add it to a our cities list\n",
    "    if city not in cities:\n",
    "        cities.append(city)\n",
    "\n",
    "# Print the city count to confirm sufficient count\n",
    "print(len(cities))\n",
    "\n"
   ]
  },
  {
   "cell_type": "code",
   "execution_count": 3,
   "metadata": {},
   "outputs": [],
   "source": [
    "# Save config information from openweather url.\n",
    "url = \"http://api.openweathermap.org/data/2.5/weather?\"\n",
    "units = \"imperial\"\n",
    "\n",
    "# Build partial query URL\n",
    "query_url = f\"{url}appid={weather_api_key}&units={units}&q=\""
   ]
  },
  {
   "cell_type": "markdown",
   "metadata": {},
   "source": [
    "### Perform API Calls\n",
    "* Perform a weather check on each city using a series of successive API calls.\n",
    "* Include a print log of each city as it'sbeing processed (with the city number and city name).\n"
   ]
  },
  {
   "cell_type": "code",
   "execution_count": 4,
   "metadata": {},
   "outputs": [
    {
     "name": "stdout",
     "output_type": "stream",
     "text": [
      "Processing record 0 | busselton\n",
      "Processing record 1 | coquimbo\n",
      "City not found\n",
      "Processing record 3 | pandan\n",
      "Processing record 4 | husavik\n",
      "Processing record 5 | albany\n",
      "Processing record 6 | jardim\n",
      "Processing record 7 | vaini\n",
      "Processing record 8 | dikson\n",
      "Processing record 9 | eirunepe\n",
      "City not found\n",
      "Processing record 11 | mataura\n",
      "Processing record 12 | barra\n",
      "Processing record 13 | wembley\n",
      "Processing record 14 | victoria\n",
      "Processing record 15 | saint-philippe\n",
      "City not found\n",
      "Processing record 17 | qaanaaq\n",
      "Processing record 18 | waidhofen\n",
      "Processing record 19 | bluff\n",
      "Processing record 20 | rikitea\n",
      "Processing record 21 | ushuaia\n",
      "Processing record 22 | punta arenas\n",
      "Processing record 23 | kandrian\n",
      "Processing record 24 | sayyan\n",
      "Processing record 25 | cape town\n",
      "Processing record 26 | stryn\n",
      "City not found\n",
      "Processing record 28 | saint-pierre\n",
      "Processing record 29 | jamestown\n",
      "Processing record 30 | mar del plata\n",
      "Processing record 31 | saldanha\n",
      "Processing record 32 | new norfolk\n",
      "Processing record 33 | butaritari\n",
      "Processing record 34 | barrow\n",
      "Processing record 35 | kruisfontein\n",
      "Processing record 36 | hobart\n",
      "Processing record 37 | waingapu\n",
      "Processing record 38 | xapuri\n",
      "Processing record 39 | mahebourg\n",
      "Processing record 40 | tilichiki\n",
      "Processing record 41 | yaring\n",
      "Processing record 42 | vostok\n",
      "Processing record 43 | hilo\n",
      "Processing record 44 | salalah\n",
      "Processing record 45 | mahajanga\n",
      "Processing record 46 | chimore\n",
      "Processing record 47 | roma\n",
      "Processing record 48 | chokurdakh\n",
      "Processing record 49 | airai\n",
      "Processing record 50 | arraial do cabo\n",
      "Processing record 51 | chuy\n",
      "Processing record 52 | antofagasta\n",
      "Processing record 53 | dzhebariki-khaya\n",
      "Processing record 54 | port alfred\n",
      "City not found\n",
      "Processing record 56 | hermanus\n",
      "City not found\n",
      "Processing record 58 | kapaa\n",
      "Processing record 59 | mahanoro\n",
      "Processing record 60 | yellowknife\n",
      "Processing record 61 | saint anthony\n",
      "Processing record 62 | san quintin\n",
      "Processing record 63 | luohe\n",
      "Processing record 64 | college\n",
      "Processing record 65 | baruun-urt\n",
      "Processing record 66 | vangaindrano\n",
      "Processing record 67 | zaysan\n",
      "Processing record 68 | isangel\n",
      "Processing record 69 | ahipara\n",
      "City not found\n",
      "Processing record 71 | deputatskiy\n",
      "Processing record 72 | mancora\n",
      "City not found\n",
      "Processing record 74 | lebu\n",
      "Processing record 75 | puerto ayora\n",
      "Processing record 76 | fandriana\n",
      "Processing record 77 | amapa\n",
      "Processing record 78 | sioux lookout\n",
      "Processing record 79 | pathardi\n",
      "Processing record 80 | sidi ali\n",
      "Processing record 81 | taitung\n",
      "Processing record 82 | hithadhoo\n",
      "Processing record 83 | anadyr\n",
      "Processing record 84 | axim\n",
      "Processing record 85 | itupiranga\n",
      "Processing record 86 | natal\n",
      "Processing record 87 | khatanga\n",
      "Processing record 88 | mazagao\n",
      "Processing record 89 | touros\n",
      "Processing record 90 | kodinsk\n",
      "Processing record 91 | narsaq\n",
      "Processing record 92 | cangzhou\n",
      "Processing record 93 | saint george\n",
      "Processing record 94 | bilibino\n",
      "City not found\n",
      "Processing record 96 | general pico\n",
      "Processing record 97 | ures\n",
      "Processing record 98 | lebyazhye\n",
      "Processing record 99 | killarney\n",
      "Processing record 100 | longyearbyen\n",
      "Processing record 101 | harper\n",
      "Processing record 102 | nikolskoye\n",
      "Processing record 103 | margate\n",
      "Processing record 104 | boguchany\n",
      "Processing record 105 | fenoarivo\n",
      "Processing record 106 | bloomfield\n",
      "Processing record 107 | belmonte\n",
      "Processing record 108 | stony plain\n",
      "Processing record 109 | pombia\n",
      "Processing record 110 | atuona\n",
      "Processing record 111 | sorland\n",
      "Processing record 112 | ouadda\n",
      "Processing record 113 | traverse city\n",
      "Processing record 114 | bredasdorp\n",
      "Processing record 115 | goderich\n",
      "Processing record 116 | nouadhibou\n",
      "Processing record 117 | srednekolymsk\n",
      "Processing record 118 | nhulunbuy\n",
      "Processing record 119 | nishihara\n",
      "Processing record 120 | namibe\n",
      "Processing record 121 | luanda\n",
      "Processing record 122 | palmer\n",
      "Processing record 123 | pangoa\n",
      "Processing record 124 | sal rei\n",
      "Processing record 125 | katangli\n",
      "Processing record 126 | wynyard\n",
      "Processing record 127 | faanui\n",
      "City not found\n",
      "City not found\n",
      "Processing record 130 | westport\n",
      "Processing record 131 | sainte-anne-des-monts\n",
      "City not found\n",
      "Processing record 133 | vao\n",
      "Processing record 134 | serenje\n",
      "Processing record 135 | kuching\n",
      "Processing record 136 | mackay\n",
      "Processing record 137 | kaifeng\n",
      "Processing record 138 | puerto escondido\n",
      "Processing record 139 | atar\n",
      "Processing record 140 | norman wells\n",
      "Processing record 141 | asau\n",
      "Processing record 142 | tiksi\n",
      "Processing record 143 | babynino\n",
      "Processing record 144 | ponta delgada\n",
      "Processing record 145 | saskylakh\n",
      "Processing record 146 | sinnamary\n",
      "Processing record 147 | manglaur\n",
      "City not found\n",
      "Processing record 149 | gretna\n",
      "Processing record 150 | komsomolskiy\n",
      "Processing record 151 | luderitz\n",
      "Processing record 152 | kushmurun\n",
      "Processing record 153 | hamilton\n",
      "Processing record 154 | saint-georges\n",
      "Processing record 155 | byron bay\n",
      "Processing record 156 | hobyo\n",
      "Processing record 157 | olafsvik\n",
      "Processing record 158 | ayan\n",
      "Processing record 159 | emerald\n",
      "Processing record 160 | la seyne-sur-mer\n",
      "Processing record 161 | ulaanbaatar\n",
      "City not found\n",
      "Processing record 163 | ponta do sol\n",
      "Processing record 164 | umm lajj\n",
      "Processing record 165 | bambous virieux\n",
      "Processing record 166 | viedma\n",
      "Processing record 167 | gazojak\n",
      "Processing record 168 | muisne\n",
      "Processing record 169 | tuatapere\n",
      "Processing record 170 | castro\n",
      "Processing record 171 | kifri\n",
      "Processing record 172 | pasighat\n",
      "Processing record 173 | sabzevar\n",
      "Processing record 174 | bubaque\n",
      "Processing record 175 | kysyl-syr\n",
      "Processing record 176 | bandarbeyla\n",
      "City not found\n",
      "Processing record 178 | banjar\n",
      "Processing record 179 | kungurtug\n",
      "Processing record 180 | cherskiy\n",
      "Processing record 181 | coahuayana\n",
      "Processing record 182 | wukari\n",
      "Processing record 183 | evinayong\n",
      "Processing record 184 | kodiak\n",
      "Processing record 185 | den helder\n",
      "Processing record 186 | vestmannaeyjar\n",
      "City not found\n",
      "Processing record 188 | haines junction\n",
      "Processing record 189 | agirish\n",
      "Processing record 190 | saint-augustin\n",
      "Processing record 191 | toamasina\n",
      "Processing record 192 | noboribetsu\n",
      "Processing record 193 | comodoro rivadavia\n",
      "City not found\n",
      "Processing record 195 | arona\n",
      "Processing record 196 | los llanos de aridane\n",
      "City not found\n",
      "Processing record 198 | sitka\n",
      "Processing record 199 | minab\n",
      "Processing record 200 | cabedelo\n",
      "Processing record 201 | kirakira\n",
      "Processing record 202 | east london\n",
      "Processing record 203 | severo-kurilsk\n",
      "Processing record 204 | cayenne\n",
      "Processing record 205 | egvekinot\n",
      "Processing record 206 | georgiyevka\n",
      "Processing record 207 | vestmanna\n",
      "Processing record 208 | awjilah\n",
      "Processing record 209 | ostrovnoy\n",
      "Processing record 210 | labuhan\n",
      "Processing record 211 | pinheiro machado\n",
      "Processing record 212 | massakory\n",
      "Processing record 213 | wasilla\n",
      "Processing record 214 | rimouski\n",
      "Processing record 215 | souillac\n",
      "Processing record 216 | sao filipe\n",
      "Processing record 217 | west plains\n",
      "Processing record 218 | rovaniemi\n",
      "Processing record 219 | marquette\n",
      "Processing record 220 | tevaitoa\n",
      "Processing record 221 | cabo san lucas\n",
      "Processing record 222 | pierre\n",
      "Processing record 223 | simpang empat\n",
      "Processing record 224 | minuri\n",
      "Processing record 225 | iqaluit\n",
      "Processing record 226 | beringovskiy\n",
      "Processing record 227 | vihti\n",
      "Processing record 228 | mezen\n",
      "Processing record 229 | visnes\n",
      "Processing record 230 | provideniya\n",
      "Processing record 231 | bom conselho\n",
      "Processing record 232 | tautira\n",
      "Processing record 233 | coihaique\n",
      "Processing record 234 | hurghada\n",
      "City not found\n",
      "City not found\n",
      "Processing record 237 | ornskoldsvik\n",
      "Processing record 238 | upernavik\n",
      "Processing record 239 | penzance\n",
      "Processing record 240 | udachnyy\n",
      "Processing record 241 | whitehorse\n",
      "City not found\n",
      "Processing record 243 | katsuura\n",
      "Processing record 244 | omsukchan\n",
      "Processing record 245 | guerrero negro\n",
      "Processing record 246 | la ronge\n",
      "Processing record 247 | lancaster\n",
      "Processing record 248 | quelimane\n",
      "Processing record 249 | manggar\n",
      "Processing record 250 | rio grande\n",
      "Processing record 251 | punta alta\n",
      "City not found\n",
      "Processing record 253 | geraldton\n",
      "Processing record 254 | lensk\n",
      "Processing record 255 | farkhor\n",
      "Processing record 256 | kenai\n",
      "Processing record 257 | baturaja\n",
      "Processing record 258 | port hardy\n",
      "City not found\n"
     ]
    },
    {
     "name": "stdout",
     "output_type": "stream",
     "text": [
      "Processing record 260 | ingham\n",
      "Processing record 261 | general roca\n",
      "Processing record 262 | talcahuano\n",
      "Processing record 263 | georgetown\n",
      "Processing record 264 | kyabe\n",
      "Processing record 265 | pisco\n",
      "City not found\n",
      "Processing record 267 | mahalingpur\n",
      "Processing record 268 | matagami\n",
      "City not found\n",
      "Processing record 270 | salaverry\n",
      "City not found\n",
      "Processing record 272 | inverness\n",
      "Processing record 273 | majene\n",
      "Processing record 274 | alice springs\n",
      "Processing record 275 | vredendal\n",
      "Processing record 276 | aprelevka\n",
      "Processing record 277 | myitkyina\n",
      "Processing record 278 | pangnirtung\n",
      "Processing record 279 | gat\n",
      "Processing record 280 | lodja\n",
      "Processing record 281 | porto novo\n",
      "City not found\n",
      "Processing record 283 | ossora\n",
      "City not found\n",
      "Processing record 285 | tijara\n",
      "Processing record 286 | mahibadhoo\n",
      "Processing record 287 | sulangan\n",
      "Processing record 288 | kaitangata\n",
      "Processing record 289 | kavieng\n",
      "Processing record 290 | walvis bay\n",
      "Processing record 291 | cidreira\n",
      "Processing record 292 | klaksvik\n",
      "Processing record 293 | merauke\n",
      "Processing record 294 | micheweni\n",
      "Processing record 295 | mangan\n",
      "Processing record 296 | jieshi\n",
      "Processing record 297 | ribeira grande\n",
      "Processing record 298 | keti bandar\n",
      "Processing record 299 | panaba\n",
      "Processing record 300 | dingle\n",
      "Processing record 301 | malkapur\n",
      "Processing record 302 | duluth\n",
      "Processing record 303 | rocky mountain house\n",
      "Processing record 304 | itoman\n",
      "Processing record 305 | te anau\n",
      "Processing record 306 | bama\n",
      "Processing record 307 | magistralnyy\n",
      "Processing record 308 | verkhnyaya toyma\n",
      "Processing record 309 | sao jose da coroa grande\n",
      "Processing record 310 | vila velha\n",
      "Processing record 311 | nome\n",
      "City not found\n",
      "Processing record 313 | avarua\n",
      "Processing record 314 | nueva loja\n",
      "City not found\n",
      "Processing record 316 | jiaojiang\n",
      "City not found\n",
      "City not found\n",
      "Processing record 319 | pacific grove\n",
      "Processing record 320 | barstow\n",
      "Processing record 321 | punganuru\n",
      "Processing record 322 | bonthe\n",
      "Processing record 323 | tasiilaq\n",
      "Processing record 324 | troitskoye\n",
      "City not found\n",
      "Processing record 326 | nanortalik\n",
      "Processing record 327 | clyde river\n",
      "Processing record 328 | mount gambier\n",
      "Processing record 329 | fairbanks\n",
      "Processing record 330 | constitucion\n",
      "Processing record 331 | bethel\n",
      "City not found\n",
      "Processing record 333 | yeppoon\n",
      "Processing record 334 | rio gallegos\n",
      "Processing record 335 | magdalena\n",
      "Processing record 336 | tezu\n",
      "Processing record 337 | neftcala\n",
      "Processing record 338 | xining\n",
      "Processing record 339 | saurimo\n",
      "Processing record 340 | huilong\n",
      "Processing record 341 | ewa beach\n",
      "Processing record 342 | urengoy\n",
      "Processing record 343 | inhambane\n",
      "Processing record 344 | tuktoyaktuk\n",
      "City not found\n",
      "Processing record 346 | kahului\n",
      "Processing record 347 | solnechnogorsk\n",
      "Processing record 348 | newport\n",
      "Processing record 349 | san patricio\n",
      "Processing record 350 | meulaboh\n",
      "Processing record 351 | bridlington\n",
      "Processing record 352 | kanniyakumari\n",
      "Processing record 353 | chapais\n",
      "Processing record 354 | hasaki\n",
      "Processing record 355 | oxford\n",
      "Processing record 356 | ambon\n",
      "Processing record 357 | cheyenne\n",
      "Processing record 358 | carnarvon\n",
      "Processing record 359 | caravelas\n",
      "Processing record 360 | grand gaube\n",
      "Processing record 361 | rapu-rapu\n",
      "Processing record 362 | nguruka\n",
      "Processing record 363 | ouargaye\n",
      "Processing record 364 | henties bay\n",
      "Processing record 365 | upata\n",
      "Processing record 366 | kavaratti\n",
      "Processing record 367 | port-gentil\n",
      "Processing record 368 | itaituba\n",
      "Processing record 369 | fairview\n",
      "Processing record 370 | aswan\n",
      "Processing record 371 | bengkulu\n",
      "Processing record 372 | katherine\n",
      "Processing record 373 | moberly\n",
      "Processing record 374 | jalu\n",
      "Processing record 375 | zalantun\n",
      "Processing record 376 | xichang\n",
      "Processing record 377 | hami\n",
      "Processing record 378 | grindavik\n",
      "Processing record 379 | san bartolome de tirajana\n",
      "Processing record 380 | mangrol\n",
      "City not found\n",
      "Processing record 382 | santiago\n",
      "Processing record 383 | torbay\n",
      "Processing record 384 | vagur\n",
      "Processing record 385 | ashington\n",
      "Processing record 386 | taltal\n",
      "Processing record 387 | bauchi\n",
      "Processing record 388 | aklavik\n",
      "Processing record 389 | muros\n",
      "Processing record 390 | povenets\n",
      "Processing record 391 | furano\n",
      "Processing record 392 | olinda\n",
      "City not found\n",
      "Processing record 394 | jiwani\n",
      "Processing record 395 | rockland\n",
      "Processing record 396 | lerwick\n",
      "Processing record 397 | belen\n",
      "Processing record 398 | kargasok\n",
      "Processing record 399 | doha\n",
      "Processing record 400 | boyolangu\n",
      "Processing record 401 | portoferraio\n",
      "City not found\n",
      "Processing record 403 | praia da vitoria\n",
      "Processing record 404 | biak\n",
      "Processing record 405 | zambezi\n",
      "Processing record 406 | ranong\n",
      "Processing record 407 | cobija\n",
      "Processing record 408 | chenzhou\n",
      "Processing record 409 | kasongo-lunda\n",
      "Processing record 410 | qinzhou\n",
      "Processing record 411 | san jose\n",
      "Processing record 412 | omboue\n",
      "Processing record 413 | pevek\n",
      "Processing record 414 | naze\n",
      "Processing record 415 | hare bay\n",
      "Processing record 416 | naliya\n",
      "Processing record 417 | odweyne\n",
      "Processing record 418 | ketchikan\n",
      "Processing record 419 | hervey bay\n",
      "Processing record 420 | chanika\n",
      "Processing record 421 | nuevo imperial\n",
      "Processing record 422 | agadir\n",
      "Processing record 423 | loiza\n",
      "City not found\n",
      "Processing record 425 | sokoni\n",
      "Processing record 426 | sampit\n",
      "Processing record 427 | lorengau\n",
      "Processing record 428 | jacareacanga\n",
      "Processing record 429 | kokopo\n",
      "Processing record 430 | labuan\n",
      "Processing record 431 | catamarca\n",
      "Processing record 432 | najran\n",
      "Processing record 433 | westerland\n",
      "Processing record 434 | pangai\n",
      "Processing record 435 | el prat de llobregat\n",
      "Processing record 436 | richards bay\n",
      "Processing record 437 | nanakuli\n",
      "Processing record 438 | alamor\n",
      "Processing record 439 | burns lake\n",
      "Processing record 440 | tiszavasvari\n",
      "Processing record 441 | karoi\n",
      "Processing record 442 | flin flon\n",
      "Processing record 443 | sona\n",
      "Processing record 444 | mareeba\n",
      "Processing record 445 | giurgita\n",
      "Processing record 446 | mlalo\n",
      "Processing record 447 | auriflama\n",
      "Processing record 448 | venancio aires\n",
      "Processing record 449 | fuyu\n",
      "Processing record 450 | namtsy\n",
      "Processing record 451 | magole\n",
      "Processing record 452 | liptovsky hradok\n",
      "Processing record 453 | san cristobal\n",
      "Processing record 454 | pontianak\n",
      "Processing record 455 | thompson\n",
      "Processing record 456 | valleyview\n",
      "Processing record 457 | mafinga\n",
      "Processing record 458 | bilma\n",
      "Processing record 459 | dukat\n",
      "Processing record 460 | inirida\n",
      "Processing record 461 | tecoanapa\n",
      "Processing record 462 | shache\n",
      "Processing record 463 | porto murtinho\n",
      "City not found\n",
      "Processing record 465 | crnomelj\n",
      "Processing record 466 | tiarei\n",
      "Processing record 467 | khamaria\n",
      "Processing record 468 | pangody\n",
      "Processing record 469 | gewane\n",
      "Processing record 470 | callaway\n",
      "Processing record 471 | avera\n",
      "Processing record 472 | dasoguz\n",
      "Processing record 473 | freeport\n",
      "Processing record 474 | urucara\n",
      "City not found\n",
      "Processing record 476 | hay river\n",
      "Processing record 477 | cooma\n",
      "Processing record 478 | berezovyy\n",
      "Processing record 479 | medina\n",
      "Processing record 480 | alvand\n",
      "Processing record 481 | samarai\n",
      "Processing record 482 | hirara\n",
      "Processing record 483 | beloha\n",
      "Processing record 484 | buldana\n",
      "Processing record 485 | new orleans\n",
      "Processing record 486 | wad rawah\n",
      "Processing record 487 | portland\n",
      "Processing record 488 | riyadh\n",
      "Processing record 489 | ngunguru\n",
      "Processing record 490 | cap malheureux\n",
      "Processing record 491 | qaqortoq\n",
      "Processing record 492 | masterton\n",
      "City not found\n",
      "Processing record 494 | igarka\n",
      "Processing record 495 | svetlogorsk\n",
      "Processing record 496 | bayir\n",
      "Processing record 497 | laguna\n",
      "Processing record 498 | mao\n",
      "Processing record 499 | slave lake\n",
      "City not found\n",
      "Processing record 501 | rafai\n",
      "Processing record 502 | valparaiso\n",
      "Processing record 503 | korla\n",
      "Processing record 504 | tocopilla\n",
      "Processing record 505 | mount pleasant\n",
      "Processing record 506 | mapiri\n",
      "Processing record 507 | marystown\n",
      "Processing record 508 | mabaruma\n",
      "Processing record 509 | lagoa\n",
      "Processing record 510 | cockburn town\n",
      "Processing record 511 | changping\n",
      "Processing record 512 | ibra\n",
      "Processing record 513 | primero de marzo\n",
      "Processing record 514 | shaoxing\n",
      "Processing record 515 | vardo\n",
      "Processing record 516 | itarema\n",
      "City not found\n",
      "Processing record 518 | maua\n"
     ]
    },
    {
     "name": "stdout",
     "output_type": "stream",
     "text": [
      "Processing record 519 | whitefish\n",
      "Processing record 520 | altay\n",
      "Processing record 521 | cap-aux-meules\n",
      "Processing record 522 | sabha\n",
      "Processing record 523 | sao felix do xingu\n",
      "Processing record 524 | beyneu\n",
      "Processing record 525 | binabalian\n",
      "Processing record 526 | neuquen\n",
      "Processing record 527 | hofn\n",
      "Processing record 528 | kapit\n",
      "Processing record 529 | high level\n",
      "Processing record 530 | sao gabriel da cachoeira\n",
      "Processing record 531 | ilulissat\n",
      "Processing record 532 | mocuba\n",
      "Processing record 533 | mount isa\n",
      "Processing record 534 | worland\n",
      "Processing record 535 | imeni poliny osipenko\n",
      "Processing record 536 | ust-kuyga\n",
      "Processing record 537 | mehamn\n",
      "Processing record 538 | kismayo\n",
      "Processing record 539 | port elizabeth\n",
      "Processing record 540 | dauphin\n",
      "City not found\n",
      "Processing record 542 | serrinha\n",
      "Processing record 543 | talnakh\n",
      "Processing record 544 | burgeo\n",
      "Processing record 545 | trelew\n",
      "Processing record 546 | high prairie\n",
      "City not found\n",
      "Processing record 548 | qandala\n",
      "Processing record 549 | jiuquan\n",
      "Processing record 550 | shalya\n",
      "Processing record 551 | palmas bellas\n",
      "Processing record 552 | dong hoi\n",
      "Processing record 553 | ola\n",
      "Processing record 554 | half moon bay\n",
      "Processing record 555 | kaspiyskiy\n",
      "Processing record 556 | tarnogskiy gorodok\n",
      "City not found\n",
      "Processing record 558 | yuxia\n",
      "Processing record 559 | shimoda\n",
      "Processing record 560 | nipawin\n",
      "Processing record 561 | praia\n",
      "Processing record 562 | north bend\n",
      "Processing record 563 | leningradskiy\n",
      "Processing record 564 | northam\n",
      "Processing record 565 | rawson\n",
      "Processing record 566 | yablonovo\n",
      "Processing record 567 | esperance\n",
      "Processing record 568 | padang\n",
      "Processing record 569 | lavrentiya\n",
      "Processing record 570 | galle\n",
      "Processing record 571 | tessalit\n",
      "Processing record 572 | teya\n",
      "Processing record 573 | lucapa\n",
      "Processing record 574 | ahuimanu\n",
      "Processing record 575 | sisimiut\n",
      "City not found\n",
      "Processing record 577 | babushkin\n",
      "Processing record 578 | port hedland\n",
      "Processing record 579 | kasiri\n",
      "City not found\n",
      "Processing record 581 | batagay\n",
      "Processing record 582 | verkhnevilyuysk\n",
      "City not found\n",
      "Processing record 584 | otane\n",
      "Processing record 585 | shulan\n",
      "Processing record 586 | vuktyl\n",
      "Processing record 587 | sola\n",
      "Processing record 588 | novikovo\n",
      "Processing record 589 | port moresby\n",
      "Processing record 590 | lata\n",
      "Processing record 591 | nueva helvecia\n",
      "Processing record 592 | mildura\n",
      "Processing record 593 | altona\n",
      "Processing record 594 | loukhi\n",
      "Processing record 595 | innisfail\n",
      "Processing record 596 | tucuman\n",
      "Processing record 597 | alamogordo\n",
      "Processing record 598 | yerbogachen\n",
      "Processing record 599 | tartus\n",
      "Processing record 600 | mwinilunga\n",
      "Processing record 601 | adrar\n",
      "Processing record 602 | vila franca do campo\n",
      "Processing record 603 | sao paulo de olivenca\n",
      "Processing record 604 | alta floresta\n",
      "Processing record 605 | puerto narino\n",
      "Processing record 606 | moose factory\n",
      "Processing record 607 | mandurah\n",
      "City not found\n",
      "Processing record 609 | tres arroyos\n",
      "Processing record 610 | goruia\n",
      "Processing record 611 | nynashamn\n",
      "Processing record 612 | gimli\n",
      "Processing record 613 | bjorkelangen\n",
      "Processing record 614 | fuerte olimpo\n",
      "Processing record 615 | minot\n"
     ]
    }
   ],
   "source": [
    "# set up lists to hold reponse info that will be used in a DataFrame\n",
    "lat = []\n",
    "lon = []\n",
    "temp = []\n",
    "windspeed =[]\n",
    "hum = []\n",
    "cloud = []\n",
    "dt = []\n",
    "country = []\n",
    "city_name = []\n",
    "\n",
    "# Loop through the list of cities and perform a request for data on each\n",
    "for i,city in enumerate(cities):\n",
    "\n",
    "    try:\n",
    "        response = requests.get(query_url + city).json()\n",
    "        lat.append(response['coord']['lat'])\n",
    "        lon.append(response['coord']['lon'])\n",
    "        temp.append(response['main']['temp_max'])\n",
    "        hum.append(response['main']['humidity'])\n",
    "        windspeed.append((response['wind']['speed']))\n",
    "        cloud.append(response['clouds']['all'])\n",
    "        dt.append(response['dt'])\n",
    "        country.append(response['sys']['country'])\n",
    "        city_name.append(city)\n",
    "        print(f\"Processing record {i} | {city}\")\n",
    "    except:\n",
    "     \n",
    "        print(\"City not found\")"
   ]
  },
  {
   "cell_type": "markdown",
   "metadata": {},
   "source": [
    "### Convert Raw Data to DataFrame\n",
    "* Export the city data into a .csv.\n",
    "* Display the DataFrame"
   ]
  },
  {
   "cell_type": "code",
   "execution_count": 8,
   "metadata": {},
   "outputs": [],
   "source": [
    "# Converting raw data to a DataFrame\n",
    "weather_df = pd.DataFrame({\"City\":city_name,\n",
    "             \"Lat\":lat,\n",
    "             \"Lng\":lon,\n",
    "             \"Max Temp\":temp,\n",
    "             \"Humidity\":hum,\n",
    "             \"Cloudiness\":cloud,\n",
    "             \"Wind Speed\":windspeed,\n",
    "             \"Country\":country,\n",
    "             \"Date\":dt\n",
    "             })\n"
   ]
  },
  {
   "cell_type": "code",
   "execution_count": 9,
   "metadata": {},
   "outputs": [
    {
     "data": {
      "text/html": [
       "<div>\n",
       "<style scoped>\n",
       "    .dataframe tbody tr th:only-of-type {\n",
       "        vertical-align: middle;\n",
       "    }\n",
       "\n",
       "    .dataframe tbody tr th {\n",
       "        vertical-align: top;\n",
       "    }\n",
       "\n",
       "    .dataframe thead th {\n",
       "        text-align: right;\n",
       "    }\n",
       "</style>\n",
       "<table border=\"1\" class=\"dataframe\">\n",
       "  <thead>\n",
       "    <tr style=\"text-align: right;\">\n",
       "      <th></th>\n",
       "      <th>City</th>\n",
       "      <th>Lat</th>\n",
       "      <th>Lng</th>\n",
       "      <th>Max Temp</th>\n",
       "      <th>Humidity</th>\n",
       "      <th>Cloudiness</th>\n",
       "      <th>Wind Speed</th>\n",
       "      <th>Country</th>\n",
       "      <th>Date</th>\n",
       "    </tr>\n",
       "  </thead>\n",
       "  <tbody>\n",
       "    <tr>\n",
       "      <th>0</th>\n",
       "      <td>busselton</td>\n",
       "      <td>-33.6500</td>\n",
       "      <td>115.3333</td>\n",
       "      <td>63.19</td>\n",
       "      <td>71</td>\n",
       "      <td>0</td>\n",
       "      <td>7.36</td>\n",
       "      <td>AU</td>\n",
       "      <td>1616888878</td>\n",
       "    </tr>\n",
       "    <tr>\n",
       "      <th>1</th>\n",
       "      <td>coquimbo</td>\n",
       "      <td>-29.9533</td>\n",
       "      <td>-71.3436</td>\n",
       "      <td>59.00</td>\n",
       "      <td>88</td>\n",
       "      <td>75</td>\n",
       "      <td>9.22</td>\n",
       "      <td>CL</td>\n",
       "      <td>1616888879</td>\n",
       "    </tr>\n",
       "    <tr>\n",
       "      <th>2</th>\n",
       "      <td>pandan</td>\n",
       "      <td>14.0453</td>\n",
       "      <td>124.1694</td>\n",
       "      <td>80.26</td>\n",
       "      <td>83</td>\n",
       "      <td>84</td>\n",
       "      <td>8.03</td>\n",
       "      <td>PH</td>\n",
       "      <td>1616888880</td>\n",
       "    </tr>\n",
       "    <tr>\n",
       "      <th>3</th>\n",
       "      <td>husavik</td>\n",
       "      <td>66.0449</td>\n",
       "      <td>-17.3389</td>\n",
       "      <td>19.40</td>\n",
       "      <td>86</td>\n",
       "      <td>90</td>\n",
       "      <td>13.80</td>\n",
       "      <td>IS</td>\n",
       "      <td>1616888881</td>\n",
       "    </tr>\n",
       "    <tr>\n",
       "      <th>4</th>\n",
       "      <td>albany</td>\n",
       "      <td>42.6001</td>\n",
       "      <td>-73.9662</td>\n",
       "      <td>54.00</td>\n",
       "      <td>56</td>\n",
       "      <td>79</td>\n",
       "      <td>1.90</td>\n",
       "      <td>US</td>\n",
       "      <td>1616888882</td>\n",
       "    </tr>\n",
       "  </tbody>\n",
       "</table>\n",
       "</div>"
      ],
      "text/plain": [
       "        City      Lat       Lng  Max Temp  Humidity  Cloudiness  Wind Speed  \\\n",
       "0  busselton -33.6500  115.3333     63.19        71           0        7.36   \n",
       "1   coquimbo -29.9533  -71.3436     59.00        88          75        9.22   \n",
       "2     pandan  14.0453  124.1694     80.26        83          84        8.03   \n",
       "3    husavik  66.0449  -17.3389     19.40        86          90       13.80   \n",
       "4     albany  42.6001  -73.9662     54.00        56          79        1.90   \n",
       "\n",
       "  Country        Date  \n",
       "0      AU  1616888878  \n",
       "1      CL  1616888879  \n",
       "2      PH  1616888880  \n",
       "3      IS  1616888881  \n",
       "4      US  1616888882  "
      ]
     },
     "execution_count": 9,
     "metadata": {},
     "output_type": "execute_result"
    }
   ],
   "source": [
    "#Exporting the DataFrame weather_df in a csv file and reading the DataFrame\n",
    "weather_df.to_csv(\"weather.csv\")\n",
    "weather_df.head() "
   ]
  },
  {
   "cell_type": "code",
   "execution_count": 10,
   "metadata": {},
   "outputs": [
    {
     "data": {
      "text/html": [
       "<div>\n",
       "<style scoped>\n",
       "    .dataframe tbody tr th:only-of-type {\n",
       "        vertical-align: middle;\n",
       "    }\n",
       "\n",
       "    .dataframe tbody tr th {\n",
       "        vertical-align: top;\n",
       "    }\n",
       "\n",
       "    .dataframe thead th {\n",
       "        text-align: right;\n",
       "    }\n",
       "</style>\n",
       "<table border=\"1\" class=\"dataframe\">\n",
       "  <thead>\n",
       "    <tr style=\"text-align: right;\">\n",
       "      <th></th>\n",
       "      <th>Lat</th>\n",
       "      <th>Lng</th>\n",
       "      <th>Max Temp</th>\n",
       "      <th>Humidity</th>\n",
       "      <th>Cloudiness</th>\n",
       "      <th>Wind Speed</th>\n",
       "      <th>Date</th>\n",
       "    </tr>\n",
       "  </thead>\n",
       "  <tbody>\n",
       "    <tr>\n",
       "      <th>count</th>\n",
       "      <td>565.000000</td>\n",
       "      <td>565.000000</td>\n",
       "      <td>565.000000</td>\n",
       "      <td>565.000000</td>\n",
       "      <td>565.000000</td>\n",
       "      <td>565.000000</td>\n",
       "      <td>5.650000e+02</td>\n",
       "    </tr>\n",
       "    <tr>\n",
       "      <th>mean</th>\n",
       "      <td>19.958908</td>\n",
       "      <td>13.665167</td>\n",
       "      <td>56.091310</td>\n",
       "      <td>72.638938</td>\n",
       "      <td>53.180531</td>\n",
       "      <td>8.272938</td>\n",
       "      <td>1.616889e+09</td>\n",
       "    </tr>\n",
       "    <tr>\n",
       "      <th>std</th>\n",
       "      <td>33.940462</td>\n",
       "      <td>91.209238</td>\n",
       "      <td>24.800526</td>\n",
       "      <td>22.001142</td>\n",
       "      <td>38.582820</td>\n",
       "      <td>6.664107</td>\n",
       "      <td>1.180260e+02</td>\n",
       "    </tr>\n",
       "    <tr>\n",
       "      <th>min</th>\n",
       "      <td>-54.800000</td>\n",
       "      <td>-179.166700</td>\n",
       "      <td>-30.240000</td>\n",
       "      <td>3.000000</td>\n",
       "      <td>0.000000</td>\n",
       "      <td>0.070000</td>\n",
       "      <td>1.616889e+09</td>\n",
       "    </tr>\n",
       "    <tr>\n",
       "      <th>25%</th>\n",
       "      <td>-8.466700</td>\n",
       "      <td>-65.880200</td>\n",
       "      <td>41.000000</td>\n",
       "      <td>62.000000</td>\n",
       "      <td>13.000000</td>\n",
       "      <td>3.440000</td>\n",
       "      <td>1.616889e+09</td>\n",
       "    </tr>\n",
       "    <tr>\n",
       "      <th>50%</th>\n",
       "      <td>24.144700</td>\n",
       "      <td>17.947900</td>\n",
       "      <td>63.000000</td>\n",
       "      <td>78.000000</td>\n",
       "      <td>63.000000</td>\n",
       "      <td>6.420000</td>\n",
       "      <td>1.616889e+09</td>\n",
       "    </tr>\n",
       "    <tr>\n",
       "      <th>75%</th>\n",
       "      <td>49.783400</td>\n",
       "      <td>97.400000</td>\n",
       "      <td>76.530000</td>\n",
       "      <td>89.000000</td>\n",
       "      <td>90.000000</td>\n",
       "      <td>11.500000</td>\n",
       "      <td>1.616889e+09</td>\n",
       "    </tr>\n",
       "    <tr>\n",
       "      <th>max</th>\n",
       "      <td>78.218600</td>\n",
       "      <td>179.316700</td>\n",
       "      <td>89.600000</td>\n",
       "      <td>100.000000</td>\n",
       "      <td>100.000000</td>\n",
       "      <td>43.730000</td>\n",
       "      <td>1.616889e+09</td>\n",
       "    </tr>\n",
       "  </tbody>\n",
       "</table>\n",
       "</div>"
      ],
      "text/plain": [
       "              Lat         Lng    Max Temp    Humidity  Cloudiness  Wind Speed  \\\n",
       "count  565.000000  565.000000  565.000000  565.000000  565.000000  565.000000   \n",
       "mean    19.958908   13.665167   56.091310   72.638938   53.180531    8.272938   \n",
       "std     33.940462   91.209238   24.800526   22.001142   38.582820    6.664107   \n",
       "min    -54.800000 -179.166700  -30.240000    3.000000    0.000000    0.070000   \n",
       "25%     -8.466700  -65.880200   41.000000   62.000000   13.000000    3.440000   \n",
       "50%     24.144700   17.947900   63.000000   78.000000   63.000000    6.420000   \n",
       "75%     49.783400   97.400000   76.530000   89.000000   90.000000   11.500000   \n",
       "max     78.218600  179.316700   89.600000  100.000000  100.000000   43.730000   \n",
       "\n",
       "               Date  \n",
       "count  5.650000e+02  \n",
       "mean   1.616889e+09  \n",
       "std    1.180260e+02  \n",
       "min    1.616889e+09  \n",
       "25%    1.616889e+09  \n",
       "50%    1.616889e+09  \n",
       "75%    1.616889e+09  \n",
       "max    1.616889e+09  "
      ]
     },
     "execution_count": 10,
     "metadata": {},
     "output_type": "execute_result"
    }
   ],
   "source": [
    "# A summary statistics was displayed\n",
    "summary_df = weather_df[[\"Lat\",\"Lng\",\"Max Temp\", \"Humidity\",\"Cloudiness\",\"Wind Speed\", \"Date\"]].describe()\n",
    "summary_df.to_csv(\"summary.csv\")\n",
    "summary_df"
   ]
  },
  {
   "cell_type": "markdown",
   "metadata": {},
   "source": [
    "## Inspect the data and remove the cities where the humidity > 100%.\n",
    "----\n",
    "Skip this step if there are no cities that have humidity > 100%. "
   ]
  },
  {
   "cell_type": "code",
   "execution_count": 11,
   "metadata": {},
   "outputs": [
    {
     "data": {
      "text/html": [
       "<div>\n",
       "<style scoped>\n",
       "    .dataframe tbody tr th:only-of-type {\n",
       "        vertical-align: middle;\n",
       "    }\n",
       "\n",
       "    .dataframe tbody tr th {\n",
       "        vertical-align: top;\n",
       "    }\n",
       "\n",
       "    .dataframe thead th {\n",
       "        text-align: right;\n",
       "    }\n",
       "</style>\n",
       "<table border=\"1\" class=\"dataframe\">\n",
       "  <thead>\n",
       "    <tr style=\"text-align: right;\">\n",
       "      <th></th>\n",
       "      <th>City</th>\n",
       "      <th>Lat</th>\n",
       "      <th>Lng</th>\n",
       "      <th>Max Temp</th>\n",
       "      <th>Humidity</th>\n",
       "      <th>Cloudiness</th>\n",
       "      <th>Wind Speed</th>\n",
       "      <th>Country</th>\n",
       "      <th>Date</th>\n",
       "    </tr>\n",
       "  </thead>\n",
       "  <tbody>\n",
       "  </tbody>\n",
       "</table>\n",
       "</div>"
      ],
      "text/plain": [
       "Empty DataFrame\n",
       "Columns: [City, Lat, Lng, Max Temp, Humidity, Cloudiness, Wind Speed, Country, Date]\n",
       "Index: []"
      ]
     },
     "execution_count": 11,
     "metadata": {},
     "output_type": "execute_result"
    }
   ],
   "source": [
    "weather_df.loc[weather_df[\"Humidity\"]>100]\n"
   ]
  },
  {
   "cell_type": "code",
   "execution_count": 9,
   "metadata": {},
   "outputs": [],
   "source": [
    "# As no city was listed with humidity >100%, this step will be skipped."
   ]
  },
  {
   "cell_type": "markdown",
   "metadata": {},
   "source": [
    "## Plotting the Data\n",
    "* Use proper labeling of the plots using plot titles (including date of analysis) and axes labels.\n",
    "* Save the plotted figures as .pngs."
   ]
  },
  {
   "cell_type": "markdown",
   "metadata": {},
   "source": [
    "## Latitude vs. Temperature Plot"
   ]
  },
  {
   "cell_type": "code",
   "execution_count": 13,
   "metadata": {
    "scrolled": true
   },
   "outputs": [
    {
     "name": "stdout",
     "output_type": "stream",
     "text": [
      "This chart shows how latitude influences the temperature. The Southern Hemispher is warmer than the Northern. Cities with latitude -40 to -60 in the Southern Hemisphere are way warmer than cities with Latitude 40 to 60 in the Northern Hemisphere.\n"
     ]
    },
    {
     "data": {
      "image/png": "[encoded data removed]",
      "text/plain": [
       "<Figure size 432x288 with 1 Axes>"
      ]
     },
     "metadata": {
      "needs_background": "light"
     },
     "output_type": "display_data"
    }
   ],
   "source": [
    "x_axis = weather_df[\"Lat\"]\n",
    "y_axis = weather_df[\"Max Temp\"]\n",
    "plt.title(\"City Latitude vs. Max Temperature (3/12/2021)\") # To ask help\n",
    "plt.xlabel(\"Latitude\")\n",
    "plt.ylabel(\"Max temperature (F)\")\n",
    "plt.scatter(x_axis, y_axis,marker=\"o\", facecolors=\"cyan\", edgecolors=\"black\")\n",
    "plt.plot()\n",
    "print(\"This chart shows how latitude influences the temperature. The Southern Hemispher is warmer than the Northern. Cities with latitude -40 to -60 in the Southern Hemisphere are way warmer than cities with Latitude 40 to 60 in the Northern Hemisphere.\")"
   ]
  },
  {
   "cell_type": "markdown",
   "metadata": {},
   "source": [
    "#Latitude vs. Humidity Plot"
   ]
  },
  {
   "cell_type": "code",
   "execution_count": 14,
   "metadata": {
    "scrolled": true
   },
   "outputs": [
    {
     "name": "stdout",
     "output_type": "stream",
     "text": [
      "This chart shows how latitude influences the humidity. We can see that humidity around 20% or lower are found in latitudes between 0 -40, which are in the Northern Hemisfere, but very close to the Equatorial line.  \n"
     ]
    },
    {
     "data": {
      "image/png": "[encoded data removed]",
      "text/plain": [
       "<Figure size 432x288 with 1 Axes>"
      ]
     },
     "metadata": {
      "needs_background": "light"
     },
     "output_type": "display_data"
    }
   ],
   "source": [
    "x_axis = weather_df[\"Lat\"]\n",
    "y_axis = weather_df[\"Humidity\"]\n",
    "plt.title(\"City Latitude vs. Humidity (3/12/2021)\")\n",
    "plt.xlabel(\"Latitude\")\n",
    "plt.ylabel(\"Humidity (%)\")\n",
    "plt.scatter(x_axis, y_axis,marker=\"o\", facecolors=\"cyan\", edgecolors=\"black\")\n",
    "plt.plot()\n",
    "print(\"This chart shows how latitude influences the humidity. We can see that humidity around 20% or lower are found in latitudes between 0 -40, which are in the Northern Hemisfere, but very close to the Equatorial line.  \")"
   ]
  },
  {
   "cell_type": "markdown",
   "metadata": {},
   "source": [
    "##### Latitude vs. Cloudiness Plot"
   ]
  },
  {
   "cell_type": "code",
   "execution_count": 15,
   "metadata": {},
   "outputs": [
    {
     "name": "stdout",
     "output_type": "stream",
     "text": [
      "This chart shows how latitude influences the cloudiness. We can see that there is not that much relation between those two parameters.  \n"
     ]
    },
    {
     "data": {
      "image/png": "[encoded data removed]",
      "text/plain": [
       "<Figure size 432x288 with 1 Axes>"
      ]
     },
     "metadata": {
      "needs_background": "light"
     },
     "output_type": "display_data"
    }
   ],
   "source": [
    "\n",
    "x_axis = weather_df[\"Lat\"]\n",
    "y_axis = weather_df[\"Cloudiness\"]\n",
    "plt.title(\"City Latitude vs. Cloudiness (3/12/2021)\") # To ask help\n",
    "plt.xlabel(\"Latitude\")\n",
    "plt.ylabel(\"Cloudiness (%)\")\n",
    "plt.scatter(x_axis, y_axis,marker=\"o\", facecolors=\"cyan\", edgecolors=\"black\")\n",
    "plt.plot()\n",
    "print(\"This chart shows how latitude influences the cloudiness. We can see that there is not that much relation between those two parameters.  \")"
   ]
  },
  {
   "cell_type": "markdown",
   "metadata": {},
   "source": [
    "## Latitude vs. Wind Speed Plot"
   ]
  },
  {
   "cell_type": "code",
   "execution_count": 16,
   "metadata": {},
   "outputs": [
    {
     "name": "stdout",
     "output_type": "stream",
     "text": [
      "This chart shows how latitude influences the wind speed. Most of the cities from our data set has wind speed below 15 mph, but for the few cities that has higer values of wind speed, they are mostly located at the Northern Hemisphere.\n"
     ]
    },
    {
     "data": {
      "image/png": "[encoded data removed]",
      "text/plain": [
       "<Figure size 432x288 with 1 Axes>"
      ]
     },
     "metadata": {
      "needs_background": "light"
     },
     "output_type": "display_data"
    }
   ],
   "source": [
    "x_axis = weather_df[\"Lat\"]\n",
    "y_axis = weather_df[\"Wind Speed\"]\n",
    "plt.title(\"City Latitude vs. Wind Speed (3/12/2021)\") # To ask help\n",
    "plt.xlabel(\"Latitude\")\n",
    "plt.ylabel(\"Wind Speed (mph)\")\n",
    "plt.scatter(x_axis, y_axis,marker=\"o\", facecolors=\"cyan\", edgecolors=\"black\")\n",
    "plt.plot()\n",
    "print(\"This chart shows how latitude influences the wind speed. Most of the cities from our data set has wind speed below 15 mph, but for the few cities that has higer values of wind speed, they are mostly located at the Northern Hemisphere.\")"
   ]
  },
  {
   "cell_type": "markdown",
   "metadata": {},
   "source": [
    "## Linear Regression"
   ]
  },
  {
   "cell_type": "code",
   "execution_count": 17,
   "metadata": {},
   "outputs": [
    {
     "data": {
      "text/html": [
       "<div>\n",
       "<style scoped>\n",
       "    .dataframe tbody tr th:only-of-type {\n",
       "        vertical-align: middle;\n",
       "    }\n",
       "\n",
       "    .dataframe tbody tr th {\n",
       "        vertical-align: top;\n",
       "    }\n",
       "\n",
       "    .dataframe thead th {\n",
       "        text-align: right;\n",
       "    }\n",
       "</style>\n",
       "<table border=\"1\" class=\"dataframe\">\n",
       "  <thead>\n",
       "    <tr style=\"text-align: right;\">\n",
       "      <th></th>\n",
       "      <th>City</th>\n",
       "      <th>Lat</th>\n",
       "      <th>Lng</th>\n",
       "      <th>Max Temp</th>\n",
       "      <th>Humidity</th>\n",
       "      <th>Cloudiness</th>\n",
       "      <th>Wind Speed</th>\n",
       "      <th>Country</th>\n",
       "      <th>Date</th>\n",
       "    </tr>\n",
       "  </thead>\n",
       "  <tbody>\n",
       "    <tr>\n",
       "      <th>2</th>\n",
       "      <td>pandan</td>\n",
       "      <td>14.0453</td>\n",
       "      <td>124.1694</td>\n",
       "      <td>80.26</td>\n",
       "      <td>83</td>\n",
       "      <td>84</td>\n",
       "      <td>8.03</td>\n",
       "      <td>PH</td>\n",
       "      <td>1616888880</td>\n",
       "    </tr>\n",
       "    <tr>\n",
       "      <th>3</th>\n",
       "      <td>husavik</td>\n",
       "      <td>66.0449</td>\n",
       "      <td>-17.3389</td>\n",
       "      <td>19.40</td>\n",
       "      <td>86</td>\n",
       "      <td>90</td>\n",
       "      <td>13.80</td>\n",
       "      <td>IS</td>\n",
       "      <td>1616888881</td>\n",
       "    </tr>\n",
       "    <tr>\n",
       "      <th>4</th>\n",
       "      <td>albany</td>\n",
       "      <td>42.6001</td>\n",
       "      <td>-73.9662</td>\n",
       "      <td>54.00</td>\n",
       "      <td>56</td>\n",
       "      <td>79</td>\n",
       "      <td>1.90</td>\n",
       "      <td>US</td>\n",
       "      <td>1616888882</td>\n",
       "    </tr>\n",
       "    <tr>\n",
       "      <th>7</th>\n",
       "      <td>dikson</td>\n",
       "      <td>73.5069</td>\n",
       "      <td>80.5464</td>\n",
       "      <td>-21.44</td>\n",
       "      <td>100</td>\n",
       "      <td>98</td>\n",
       "      <td>8.12</td>\n",
       "      <td>RU</td>\n",
       "      <td>1616888885</td>\n",
       "    </tr>\n",
       "    <tr>\n",
       "      <th>12</th>\n",
       "      <td>victoria</td>\n",
       "      <td>22.2855</td>\n",
       "      <td>114.1577</td>\n",
       "      <td>75.00</td>\n",
       "      <td>86</td>\n",
       "      <td>10</td>\n",
       "      <td>4.29</td>\n",
       "      <td>HK</td>\n",
       "      <td>1616888652</td>\n",
       "    </tr>\n",
       "  </tbody>\n",
       "</table>\n",
       "</div>"
      ],
      "text/plain": [
       "        City      Lat       Lng  Max Temp  Humidity  Cloudiness  Wind Speed  \\\n",
       "2     pandan  14.0453  124.1694     80.26        83          84        8.03   \n",
       "3    husavik  66.0449  -17.3389     19.40        86          90       13.80   \n",
       "4     albany  42.6001  -73.9662     54.00        56          79        1.90   \n",
       "7     dikson  73.5069   80.5464    -21.44       100          98        8.12   \n",
       "12  victoria  22.2855  114.1577     75.00        86          10        4.29   \n",
       "\n",
       "   Country        Date  \n",
       "2       PH  1616888880  \n",
       "3       IS  1616888881  \n",
       "4       US  1616888882  \n",
       "7       RU  1616888885  \n",
       "12      HK  1616888652  "
      ]
     },
     "execution_count": 17,
     "metadata": {},
     "output_type": "execute_result"
    }
   ],
   "source": [
    "#Separate the data in 2 dataframes to get the North and the South regions for ploting\n",
    "\n",
    "#North ['Lat']>=0]\n",
    "n_weather_df = weather_df.loc[weather_df['Lat']>=0]\n",
    "n_weather_df.head()"
   ]
  },
  {
   "cell_type": "code",
   "execution_count": 18,
   "metadata": {},
   "outputs": [
    {
     "data": {
      "text/html": [
       "<div>\n",
       "<style scoped>\n",
       "    .dataframe tbody tr th:only-of-type {\n",
       "        vertical-align: middle;\n",
       "    }\n",
       "\n",
       "    .dataframe tbody tr th {\n",
       "        vertical-align: top;\n",
       "    }\n",
       "\n",
       "    .dataframe thead th {\n",
       "        text-align: right;\n",
       "    }\n",
       "</style>\n",
       "<table border=\"1\" class=\"dataframe\">\n",
       "  <thead>\n",
       "    <tr style=\"text-align: right;\">\n",
       "      <th></th>\n",
       "      <th>City</th>\n",
       "      <th>Lat</th>\n",
       "      <th>Lng</th>\n",
       "      <th>Max Temp</th>\n",
       "      <th>Humidity</th>\n",
       "      <th>Cloudiness</th>\n",
       "      <th>Wind Speed</th>\n",
       "      <th>Country</th>\n",
       "      <th>Date</th>\n",
       "    </tr>\n",
       "  </thead>\n",
       "  <tbody>\n",
       "    <tr>\n",
       "      <th>0</th>\n",
       "      <td>busselton</td>\n",
       "      <td>-33.6500</td>\n",
       "      <td>115.3333</td>\n",
       "      <td>63.19</td>\n",
       "      <td>71</td>\n",
       "      <td>0</td>\n",
       "      <td>7.36</td>\n",
       "      <td>AU</td>\n",
       "      <td>1616888878</td>\n",
       "    </tr>\n",
       "    <tr>\n",
       "      <th>1</th>\n",
       "      <td>coquimbo</td>\n",
       "      <td>-29.9533</td>\n",
       "      <td>-71.3436</td>\n",
       "      <td>59.00</td>\n",
       "      <td>88</td>\n",
       "      <td>75</td>\n",
       "      <td>9.22</td>\n",
       "      <td>CL</td>\n",
       "      <td>1616888879</td>\n",
       "    </tr>\n",
       "    <tr>\n",
       "      <th>5</th>\n",
       "      <td>jardim</td>\n",
       "      <td>-21.4803</td>\n",
       "      <td>-56.1381</td>\n",
       "      <td>79.05</td>\n",
       "      <td>44</td>\n",
       "      <td>98</td>\n",
       "      <td>2.95</td>\n",
       "      <td>BR</td>\n",
       "      <td>1616888883</td>\n",
       "    </tr>\n",
       "    <tr>\n",
       "      <th>6</th>\n",
       "      <td>vaini</td>\n",
       "      <td>-21.2000</td>\n",
       "      <td>-175.2000</td>\n",
       "      <td>86.00</td>\n",
       "      <td>74</td>\n",
       "      <td>75</td>\n",
       "      <td>6.91</td>\n",
       "      <td>TO</td>\n",
       "      <td>1616888884</td>\n",
       "    </tr>\n",
       "    <tr>\n",
       "      <th>8</th>\n",
       "      <td>eirunepe</td>\n",
       "      <td>-6.6603</td>\n",
       "      <td>-69.8736</td>\n",
       "      <td>74.19</td>\n",
       "      <td>96</td>\n",
       "      <td>94</td>\n",
       "      <td>2.17</td>\n",
       "      <td>BR</td>\n",
       "      <td>1616888885</td>\n",
       "    </tr>\n",
       "  </tbody>\n",
       "</table>\n",
       "</div>"
      ],
      "text/plain": [
       "        City      Lat       Lng  Max Temp  Humidity  Cloudiness  Wind Speed  \\\n",
       "0  busselton -33.6500  115.3333     63.19        71           0        7.36   \n",
       "1   coquimbo -29.9533  -71.3436     59.00        88          75        9.22   \n",
       "5     jardim -21.4803  -56.1381     79.05        44          98        2.95   \n",
       "6      vaini -21.2000 -175.2000     86.00        74          75        6.91   \n",
       "8   eirunepe  -6.6603  -69.8736     74.19        96          94        2.17   \n",
       "\n",
       "  Country        Date  \n",
       "0      AU  1616888878  \n",
       "1      CL  1616888879  \n",
       "5      BR  1616888883  \n",
       "6      TO  1616888884  \n",
       "8      BR  1616888885  "
      ]
     },
     "execution_count": 18,
     "metadata": {},
     "output_type": "execute_result"
    }
   ],
   "source": [
    "#South ['Lat']<0]\n",
    "s_weather_df = weather_df.loc[weather_df['Lat']<0]\n",
    "s_weather_df.head()"
   ]
  },
  {
   "cell_type": "code",
   "execution_count": 38,
   "metadata": {},
   "outputs": [],
   "source": [
    "#Using a unic function to simplify the plotting steps\n",
    "def correlation_plot(x, y,\n",
    "                     title,\n",
    "                     xlabel, ylabel, xmin, ymin):\n",
    "    plt.scatter(x, y)\n",
    "    slope, intercept, r_value, p_value, std_err = linregress(x,y)\n",
    "    \n",
    "    regress_values = x * slope + intercept\n",
    "    line_eq = \"y = \" + str(round(slope,2)) + \"x + \" + str(round(intercept,2))\n",
    "    plt.plot(x,regress_values,\"r-\")\n",
    "    plt.annotate(line_eq,(xmin,ymin),fontsize=14,color=\"red\")\n",
    "      \n",
    "    \n",
    "    print(f'r-value is = {r_value**2}')\n",
    "    plt.title(title)\n",
    "    plt.xlabel(xlabel)\n",
    "    plt.ylabel(ylabel)\n",
    "    plt.savefig(\"fig.png\")\n",
    "    plt.show\n"
   ]
  },
  {
   "cell_type": "markdown",
   "metadata": {},
   "source": [
    "####  Northern Hemisphere - Max Temp vs. Latitude Linear Regression"
   ]
  },
  {
   "cell_type": "code",
   "execution_count": 39,
   "metadata": {
    "scrolled": false
   },
   "outputs": [
    {
     "name": "stdout",
     "output_type": "stream",
     "text": [
      "r-value is = 0.7787327961692014\n"
     ]
    },
    {
     "data": {
      "image/png": "[encoded data removed]",
      "text/plain": [
       "<Figure size 432x288 with 1 Axes>"
      ]
     },
     "metadata": {
      "needs_background": "light"
     },
     "output_type": "display_data"
    }
   ],
   "source": [
    "x = n_weather_df[\"Lat\"]\n",
    "y = n_weather_df[\"Max Temp\"]\n",
    "xmin = n_weather_df[\"Lat\"].min()\n",
    "ymin = n_weather_df[\"Max Temp\"].min()\n",
    "title = \"Northern Hemisphere - Max Temp vs. Latitude Linear Regression\"\n",
    "xlabel = \"Latitude\"\n",
    "ylabel = \"Max Temperature\"\n",
    "correlation_plot(x, y, title, xlabel, ylabel, xmin, ymin)\n",
    "os.rename(\"fig.png\", \"Northern Hemisphere - Max Temp vs. Latitude Linear Regression.png\")"
   ]
  },
  {
   "cell_type": "markdown",
   "metadata": {},
   "source": [
    "####  Southern Hemisphere - Max Temp vs. Latitude Linear Regression"
   ]
  },
  {
   "cell_type": "code",
   "execution_count": 40,
   "metadata": {},
   "outputs": [
    {
     "name": "stdout",
     "output_type": "stream",
     "text": [
      "r-value is = 0.40775684545210716\n"
     ]
    },
    {
     "data": {
      "image/png": "[encoded data removed]",
      "text/plain": [
       "<Figure size 432x288 with 1 Axes>"
      ]
     },
     "metadata": {
      "needs_background": "light"
     },
     "output_type": "display_data"
    }
   ],
   "source": [
    "x = s_weather_df[\"Lat\"]\n",
    "y = s_weather_df[\"Max Temp\"]\n",
    "xmin = s_weather_df[\"Lat\"].min()\n",
    "ymin = s_weather_df[\"Max Temp\"].min()\n",
    "title = \"Southern Hemisphere - Max Temp vs. Latitude Linear Regression\"\n",
    "xlabel = \"Latitude\"\n",
    "ylabel = \"Max Temperature\"\n",
    "correlation_plot(x, y, title, xlabel, ylabel, xmin, ymin)\n",
    "os.rename(\"fig.png\", \"Southern Hemisphere - Max Temp vs. Latitude Linear Regression.png\")"
   ]
  },
  {
   "cell_type": "markdown",
   "metadata": {},
   "source": [
    "####  Northern Hemisphere - Humidity (%) vs. Latitude Linear Regression"
   ]
  },
  {
   "cell_type": "code",
   "execution_count": 41,
   "metadata": {},
   "outputs": [
    {
     "name": "stdout",
     "output_type": "stream",
     "text": [
      "r-value is = 0.060572630828600975\n"
     ]
    },
    {
     "data": {
      "image/png": "[encoded data removed]",
      "text/plain": [
       "<Figure size 432x288 with 1 Axes>"
      ]
     },
     "metadata": {
      "needs_background": "light"
     },
     "output_type": "display_data"
    }
   ],
   "source": [
    "x = n_weather_df[\"Lat\"]\n",
    "y = n_weather_df[\"Humidity\"]\n",
    "xmin = n_weather_df[\"Lat\"].min()\n",
    "ymin = n_weather_df[\"Humidity\"].min()\n",
    "title = \"Northern Hemisphere - Humidity (%) vs. Latitude Linear Regression\"\n",
    "xlabel = \"Latitude\"\n",
    "ylabel = \"Humidity (%)\"\n",
    "correlation_plot(x, y, title, xlabel, ylabel, xmin, ymin)\n",
    "os.rename(\"fig.png\", \"Northern Hemisphere - Humidity (%) vs. Latitude Linear Regression.png\")"
   ]
  },
  {
   "cell_type": "markdown",
   "metadata": {},
   "source": [
    "####  Southern Hemisphere - Humidity (%) vs. Latitude Linear Regression"
   ]
  },
  {
   "cell_type": "code",
   "execution_count": 47,
   "metadata": {},
   "outputs": [
    {
     "name": "stdout",
     "output_type": "stream",
     "text": [
      "r-value is = 0.14123623013980172\n"
     ]
    },
    {
     "data": {
      "image/png": "[encoded data removed]",
      "text/plain": [
       "<Figure size 432x288 with 1 Axes>"
      ]
     },
     "metadata": {
      "needs_background": "light"
     },
     "output_type": "display_data"
    }
   ],
   "source": [
    "x = s_weather_df[\"Lat\"]\n",
    "y = s_weather_df[\"Humidity\"]\n",
    "xmin = s_weather_df[\"Lat\"].min()\n",
    "ymin = s_weather_df[\"Humidity\"].min()\n",
    "title = \"Southern Hemisphere - Humidity (%) vs. Latitude Linear Regression\"\n",
    "xlabel = \"Latitude\"\n",
    "ylabel = \"Humidity (%)\"\n",
    "correlation_plot(x, y, title, xlabel, ylabel, xmin, ymin)\n",
    "os.rename(\"fig.png\", \"Southern Hemisphere - Humidity (%) vs. Latitude Linear Regression.png\")"
   ]
  },
  {
   "cell_type": "markdown",
   "metadata": {},
   "source": [
    "####  Northern Hemisphere - Cloudiness (%) vs. Latitude Linear Regression"
   ]
  },
  {
   "cell_type": "code",
   "execution_count": 48,
   "metadata": {},
   "outputs": [
    {
     "name": "stdout",
     "output_type": "stream",
     "text": [
      "r-value is = 0.11972849342442361\n"
     ]
    },
    {
     "data": {
      "image/png": "[encoded data removed]",
      "text/plain": [
       "<Figure size 432x288 with 1 Axes>"
      ]
     },
     "metadata": {
      "needs_background": "light"
     },
     "output_type": "display_data"
    }
   ],
   "source": [
    "x = n_weather_df[\"Lat\"]\n",
    "y = n_weather_df[\"Cloudiness\"]\n",
    "xmin = n_weather_df[\"Lat\"].min()\n",
    "ymin = n_weather_df[\"Cloudiness\"].min()\n",
    "title = \"Northern Hemisphere - Cloudiness (%) vs. Latitude Linear Regression\"\n",
    "xlabel = \"Latitude\"\n",
    "ylabel = \"Cloudiness\"\n",
    "correlation_plot(x, y, title, xlabel, ylabel, xmin, ymin)\n",
    "os.rename(\"fig.png\", \"Northern Hemisphere - Cloudiness (%) vs. Latitude Linear Regression.png\")"
   ]
  },
  {
   "cell_type": "markdown",
   "metadata": {},
   "source": [
    "####  Southern Hemisphere - Cloudiness (%) vs. Latitude Linear Regression"
   ]
  },
  {
   "cell_type": "code",
   "execution_count": 49,
   "metadata": {},
   "outputs": [
    {
     "name": "stdout",
     "output_type": "stream",
     "text": [
      "r-value is = 0.04968782909693393\n"
     ]
    },
    {
     "data": {
      "image/png": "[encoded data removed]",
      "text/plain": [
       "<Figure size 432x288 with 1 Axes>"
      ]
     },
     "metadata": {
      "needs_background": "light"
     },
     "output_type": "display_data"
    }
   ],
   "source": [
    "x = s_weather_df[\"Lat\"]\n",
    "y = s_weather_df[\"Cloudiness\"]\n",
    "xmin = s_weather_df[\"Lat\"].min()\n",
    "ymin = s_weather_df[\"Cloudiness\"].min()\n",
    "title = \"Southern Hemisphere - Cloudiness (%) vs. Latitude Linear Regression\"\n",
    "xlabel = \"Latitude\"\n",
    "ylabel = \"Cloudiness\"\n",
    "correlation_plot(x, y, title, xlabel, ylabel, xmin, ymin)\n",
    "os.rename(\"fig.png\", \"Southern Hemisphere - Cloudiness (%) vs. Latitude Linear Regression.png\")"
   ]
  },
  {
   "cell_type": "markdown",
   "metadata": {},
   "source": [
    "####  Northern Hemisphere - Wind Speed (mph) vs. Latitude Linear Regression"
   ]
  },
  {
   "cell_type": "code",
   "execution_count": 50,
   "metadata": {},
   "outputs": [
    {
     "name": "stdout",
     "output_type": "stream",
     "text": [
      "r-value is = 0.00979414762435413\n"
     ]
    },
    {
     "data": {
      "image/png": "[encoded data removed]",
      "text/plain": [
       "<Figure size 432x288 with 1 Axes>"
      ]
     },
     "metadata": {
      "needs_background": "light"
     },
     "output_type": "display_data"
    }
   ],
   "source": [
    "x = n_weather_df[\"Lat\"]\n",
    "y = n_weather_df[\"Wind Speed\"]\n",
    "xmin = n_weather_df[\"Lat\"].min()\n",
    "ymin = n_weather_df[\"Wind Speed\"].min()\n",
    "title = \"Northern Hemisphere - Wind Speed (mph) vs. Latitude Linear Regression\"\n",
    "xlabel = \"Latitude\"\n",
    "ylabel = \"Wind Speed (mph)\"\n",
    "correlation_plot(x, y, title, xlabel, ylabel, xmin, ymin)\n",
    "os.rename(\"fig.png\", \"Northern Hemisphere - Wind Speed (mph) vs. Latitude Linear Regression.png\")"
   ]
  },
  {
   "cell_type": "markdown",
   "metadata": {},
   "source": [
    "####  Southern Hemisphere - Wind Speed (mph) vs. Latitude Linear Regression"
   ]
  },
  {
   "cell_type": "code",
   "execution_count": 51,
   "metadata": {},
   "outputs": [
    {
     "name": "stdout",
     "output_type": "stream",
     "text": [
      "r-value is = 0.13902670064273404\n"
     ]
    },
    {
     "data": {
      "image/png": "[encoded data removed]",
      "text/plain": [
       "<Figure size 432x288 with 1 Axes>"
      ]
     },
     "metadata": {
      "needs_background": "light"
     },
     "output_type": "display_data"
    }
   ],
   "source": [
    "x = s_weather_df[\"Lat\"]\n",
    "y = s_weather_df[\"Wind Speed\"]\n",
    "xmin = s_weather_df[\"Lat\"].min()\n",
    "ymin = s_weather_df[\"Wind Speed\"].min()\n",
    "title = \"Southern Hemisphere - Wind Speed (mph) vs. Latitude Linear Regression\"\n",
    "xlabel = \"Latitude\"\n",
    "ylabel = \"Wind Speed (mph)\"\n",
    "correlation_plot(x, y, title, xlabel, ylabel, xmin, ymin)\n",
    "os.rename(\"fig.png\", \"Southern Hemisphere - Wind Speed (mph) vs. Latitude Linear Regression.png\")"
   ]
  },
  {
   "cell_type": "code",
   "execution_count": null,
   "metadata": {},
   "outputs": [],
   "source": []
  }
 ],
 "metadata": {
  "anaconda-cloud": {},
  "kernel_info": {
   "name": "python3"
  },
  "kernelspec": {
   "display_name": "Python 3",
   "language": "python",
   "name": "python3"
  },
  "language_info": {
   "codemirror_mode": {
    "name": "ipython",
    "version": 3
   },
   "file_extension": ".py",
   "mimetype": "text/x-python",
   "name": "python",
   "nbconvert_exporter": "python",
   "pygments_lexer": "ipython3",
   "version": "3.8.5"
  },
  "latex_envs": {
   "LaTeX_envs_menu_present": true,
   "autoclose": false,
   "autocomplete": true,
   "bibliofile": "biblio.bib",
   "cite_by": "apalike",
   "current_citInitial": 1,
   "eqLabelWithNumbers": true,
   "eqNumInitial": 1,
   "hotkeys": {
    "equation": "Ctrl-E",
    "itemize": "Ctrl-I"
   },
   "labels_anchors": false,
   "latex_user_defs": false,
   "report_style_numbering": false,
   "user_envs_cfg": false
  },
  "nteract": {
   "version": "0.12.3"
  }
 },
 "nbformat": 4,
 "nbformat_minor": 2
}
