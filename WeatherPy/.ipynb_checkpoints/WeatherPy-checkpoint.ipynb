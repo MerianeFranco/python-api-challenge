{
 "cells": [
  {
   "cell_type": "markdown",
   "metadata": {},
   "source": [
    "# WeatherPy\n",
    "----\n",
    "\n",
    "#### Note\n",
    "* Instructions have been included for each segment. You do not have to follow them exactly, but they are included to help you think through the steps."
   ]
  },
  {
   "cell_type": "code",
   "execution_count": 56,
   "metadata": {
    "scrolled": true
   },
   "outputs": [],
   "source": [
    "# Dependencies and Setup\n",
    "import matplotlib.pyplot as plt\n",
    "import pandas as pd\n",
    "import numpy as np\n",
    "import requests\n",
    "import time\n",
    "from scipy.stats import linregress\n",
    "\n",
    "# Import API key\n",
    "from api_keys import weather_api_key\n",
    "\n",
    "# Incorporated citipy to determine city based on latitude and longitude\n",
    "from citipy import citipy\n",
    "\n",
    "# Output File (CSV)\n",
    "output_data_file = \"output_data/cities.csv\"\n",
    "\n",
    "# Range of latitudes and longitudes\n",
    "lat_range = (-90, 90)\n",
    "lng_range = (-180, 180)"
   ]
  },
  {
   "cell_type": "markdown",
   "metadata": {},
   "source": [
    "## Generate Cities List"
   ]
  },
  {
   "cell_type": "code",
   "execution_count": 57,
   "metadata": {},
   "outputs": [
    {
     "name": "stdout",
     "output_type": "stream",
     "text": [
      "587\n"
     ]
    }
   ],
   "source": [
    "# List for holding lat_lngs and cities\n",
    "lat_lngs = []\n",
    "cities = []\n",
    "\n",
    "# Create a set of random lat and lng combinations\n",
    "lats = np.random.uniform(lat_range[0], lat_range[1], size=1500)\n",
    "lngs = np.random.uniform(lng_range[0], lng_range[1], size=1500)\n",
    "lat_lngs = zip(lats, lngs)\n",
    "\n",
    "# Identify nearest city for each lat, lng combination\n",
    "for lat_lng in lat_lngs:\n",
    "    city = citipy.nearest_city(lat_lng[0], lat_lng[1]).city_name\n",
    "    \n",
    "    # If the city is unique, then add it to a our cities list\n",
    "    if city not in cities:\n",
    "        cities.append(city)\n",
    "\n",
    "# Print the city count to confirm sufficient count\n",
    "print(len(cities))\n",
    "\n"
   ]
  },
  {
   "cell_type": "code",
   "execution_count": 58,
   "metadata": {},
   "outputs": [],
   "source": [
    "# Save config information from openweather url.\n",
    "url = \"http://api.openweathermap.org/data/2.5/weather?\"\n",
    "units = \"imperial\"\n",
    "\n",
    "# Build partial query URL\n",
    "query_url = f\"{url}appid={weather_api_key}&units={units}&q=\""
   ]
  },
  {
   "cell_type": "markdown",
   "metadata": {},
   "source": [
    "### Perform API Calls\n",
    "* Perform a weather check on each city using a series of successive API calls.\n",
    "* Include a print log of each city as it'sbeing processed (with the city number and city name).\n"
   ]
  },
  {
   "cell_type": "code",
   "execution_count": 59,
   "metadata": {},
   "outputs": [
    {
     "name": "stdout",
     "output_type": "stream",
     "text": [
      "Processing record 0 | ushuaia\n",
      "Processing record 1 | katsuura\n",
      "Processing record 2 | igarka\n",
      "Processing record 3 | avarua\n",
      "Processing record 4 | mataura\n",
      "City not found\n",
      "Processing record 6 | dudinka\n",
      "Processing record 7 | raga\n",
      "Processing record 8 | baykit\n",
      "Processing record 9 | new norfolk\n",
      "Processing record 10 | salalah\n",
      "Processing record 11 | hervey bay\n",
      "Processing record 12 | boa vista\n",
      "Processing record 13 | sao filipe\n",
      "Processing record 14 | castro\n",
      "Processing record 15 | anito\n",
      "City not found\n",
      "Processing record 17 | barrow\n",
      "City not found\n",
      "Processing record 19 | alta floresta\n",
      "Processing record 20 | rikitea\n",
      "Processing record 21 | busselton\n",
      "Processing record 22 | longyearbyen\n",
      "Processing record 23 | georgetown\n",
      "Processing record 24 | aksarka\n",
      "Processing record 25 | torbay\n",
      "Processing record 26 | pevek\n",
      "Processing record 27 | east london\n",
      "Processing record 28 | hermanus\n",
      "Processing record 29 | kodiak\n",
      "Processing record 30 | clyde river\n",
      "Processing record 31 | wanning\n",
      "Processing record 32 | punta arenas\n",
      "Processing record 33 | hobart\n",
      "Processing record 34 | kokopo\n",
      "Processing record 35 | camacha\n",
      "Processing record 36 | jamestown\n",
      "Processing record 37 | puerto ayora\n",
      "Processing record 38 | port blair\n",
      "Processing record 39 | albany\n",
      "Processing record 40 | port elizabeth\n",
      "Processing record 41 | kapaa\n",
      "Processing record 42 | banda aceh\n",
      "Processing record 43 | vila velha\n",
      "Processing record 44 | tubinskiy\n",
      "Processing record 45 | los llanos de aridane\n",
      "Processing record 46 | namibe\n",
      "Processing record 47 | manoel urbano\n",
      "Processing record 48 | atuona\n",
      "Processing record 49 | tromso\n",
      "Processing record 50 | whitehorse\n",
      "Processing record 51 | nouakchott\n",
      "Processing record 52 | boone\n",
      "Processing record 53 | shiyan\n",
      "Processing record 54 | uruzgan\n",
      "Processing record 55 | saskylakh\n",
      "Processing record 56 | oksfjord\n",
      "Processing record 57 | grand gaube\n",
      "Processing record 58 | ribeira grande\n",
      "Processing record 59 | porto walter\n",
      "City not found\n",
      "Processing record 61 | zhuzhou\n",
      "Processing record 62 | tucuma\n",
      "Processing record 63 | bluff\n",
      "Processing record 64 | tongren\n",
      "Processing record 65 | cape town\n",
      "Processing record 66 | bengkulu\n",
      "Processing record 67 | tiksi\n",
      "Processing record 68 | gat\n",
      "Processing record 69 | lorengau\n",
      "Processing record 70 | fort morgan\n",
      "Processing record 71 | yellowknife\n",
      "Processing record 72 | talnakh\n",
      "Processing record 73 | ixtapa\n",
      "Processing record 74 | aklavik\n",
      "Processing record 75 | leningradskiy\n",
      "Processing record 76 | khani\n",
      "Processing record 77 | baley\n",
      "Processing record 78 | nova floresta\n",
      "Processing record 79 | ancud\n",
      "Processing record 80 | airai\n",
      "Processing record 81 | vaini\n",
      "Processing record 82 | north bend\n",
      "Processing record 83 | saint-philippe\n",
      "Processing record 84 | bethel\n",
      "Processing record 85 | hilo\n",
      "Processing record 86 | laredo\n",
      "Processing record 87 | pundaguitan\n",
      "Processing record 88 | hambantota\n",
      "Processing record 89 | srednekolymsk\n",
      "Processing record 90 | nikolskoye\n",
      "Processing record 91 | mount gambier\n",
      "Processing record 92 | port alfred\n",
      "Processing record 93 | butaritari\n",
      "Processing record 94 | redlands\n",
      "Processing record 95 | isangel\n",
      "Processing record 96 | tautira\n",
      "City not found\n",
      "Processing record 98 | kamaishi\n",
      "Processing record 99 | pechenga\n",
      "Processing record 100 | sao geraldo do araguaia\n",
      "Processing record 101 | guerrero negro\n",
      "Processing record 102 | pisco\n",
      "Processing record 103 | bredasdorp\n",
      "Processing record 104 | kavaratti\n",
      "City not found\n",
      "Processing record 106 | nanakuli\n",
      "Processing record 107 | pitimbu\n",
      "Processing record 108 | chuy\n",
      "City not found\n",
      "Processing record 110 | port augusta\n",
      "Processing record 111 | ukmerge\n",
      "Processing record 112 | celestun\n",
      "Processing record 113 | pandan niog\n",
      "Processing record 114 | tuktoyaktuk\n",
      "Processing record 115 | ponta do sol\n",
      "Processing record 116 | salo\n",
      "Processing record 117 | mana\n",
      "Processing record 118 | sitka\n",
      "Processing record 119 | belaya gora\n",
      "Processing record 120 | arraial do cabo\n",
      "Processing record 121 | takapau\n",
      "Processing record 122 | bonavista\n",
      "City not found\n",
      "Processing record 124 | north las vegas\n",
      "Processing record 125 | balintore\n",
      "Processing record 126 | taoudenni\n",
      "Processing record 127 | olafsvik\n",
      "Processing record 128 | narsaq\n",
      "Processing record 129 | san francisco\n",
      "Processing record 130 | lhokseumawe\n",
      "Processing record 131 | shingu\n",
      "Processing record 132 | dwarka\n",
      "Processing record 133 | sillamae\n",
      "Processing record 134 | alofi\n",
      "City not found\n",
      "Processing record 136 | berdigestyakh\n",
      "Processing record 137 | baherden\n",
      "Processing record 138 | veraval\n",
      "Processing record 139 | victoria\n",
      "Processing record 140 | atasu\n",
      "Processing record 141 | banjar\n",
      "Processing record 142 | khatanga\n",
      "Processing record 143 | qaanaaq\n",
      "Processing record 144 | cherskiy\n",
      "Processing record 145 | saint george\n",
      "Processing record 146 | berlevag\n",
      "Processing record 147 | touros\n",
      "Processing record 148 | bardiyah\n",
      "Processing record 149 | tibati\n",
      "Processing record 150 | severo-kurilsk\n",
      "Processing record 151 | lompoc\n",
      "Processing record 152 | rehoboth\n",
      "Processing record 153 | ormara\n",
      "Processing record 154 | general nakar\n",
      "Processing record 155 | vestmannaeyjar\n",
      "Processing record 156 | mar del plata\n",
      "Processing record 157 | road town\n",
      "Processing record 158 | lensk\n",
      "Processing record 159 | chester\n",
      "Processing record 160 | arona\n",
      "Processing record 161 | chokurdakh\n",
      "Processing record 162 | pudozh\n",
      "Processing record 163 | domoni\n",
      "Processing record 164 | sobolevo\n",
      "Processing record 165 | soyo\n",
      "Processing record 166 | half moon bay\n",
      "Processing record 167 | leh\n",
      "Processing record 168 | mahebourg\n",
      "City not found\n",
      "City not found\n",
      "Processing record 171 | saquena\n",
      "Processing record 172 | malanje\n",
      "Processing record 173 | ahipara\n",
      "Processing record 174 | show low\n",
      "Processing record 175 | khirkiya\n",
      "Processing record 176 | vila do maio\n",
      "Processing record 177 | longhua\n",
      "Processing record 178 | necochea\n",
      "Processing record 179 | sfantu gheorghe\n",
      "Processing record 180 | ulundi\n",
      "Processing record 181 | quatre cocos\n",
      "City not found\n",
      "Processing record 183 | saint-pierre\n",
      "Processing record 184 | fort nelson\n",
      "Processing record 185 | havre-saint-pierre\n",
      "Processing record 186 | lata\n",
      "Processing record 187 | rio grande\n",
      "Processing record 188 | constitucion\n",
      "Processing record 189 | dikson\n",
      "Processing record 190 | upernavik\n",
      "Processing record 191 | vanimo\n",
      "Processing record 192 | talara\n",
      "Processing record 193 | tuatapere\n",
      "Processing record 194 | correntina\n",
      "Processing record 195 | obo\n",
      "Processing record 196 | ushtobe\n",
      "Processing record 197 | lethem\n",
      "Processing record 198 | saint-augustin\n",
      "Processing record 199 | upata\n",
      "Processing record 200 | labytnangi\n",
      "Processing record 201 | saint anthony\n",
      "Processing record 202 | kapit\n",
      "City not found\n",
      "Processing record 204 | bang saphan\n",
      "Processing record 205 | mount isa\n",
      "Processing record 206 | miri\n",
      "Processing record 207 | klaksvik\n",
      "City not found\n",
      "Processing record 209 | mehamn\n",
      "Processing record 210 | carnarvon\n",
      "Processing record 211 | anadyr\n",
      "Processing record 212 | hasaki\n",
      "Processing record 213 | kruisfontein\n",
      "Processing record 214 | cidreira\n",
      "Processing record 215 | blackwater\n",
      "Processing record 216 | thompson\n",
      "Processing record 217 | griffith\n",
      "Processing record 218 | piacabucu\n",
      "Processing record 219 | asyut\n",
      "Processing record 220 | qaqortoq\n",
      "Processing record 221 | shimoda\n",
      "Processing record 222 | basse\n",
      "Processing record 223 | ariquemes\n",
      "Processing record 224 | hami\n",
      "Processing record 225 | chulman\n",
      "Processing record 226 | portland\n",
      "Processing record 227 | coihaique\n",
      "Processing record 228 | goderich\n",
      "Processing record 229 | semey\n",
      "Processing record 230 | manzhouli\n",
      "Processing record 231 | dera ismail khan\n",
      "City not found\n",
      "Processing record 233 | rio brilhante\n",
      "Processing record 234 | tabuk\n",
      "Processing record 235 | mukhtolovo\n",
      "Processing record 236 | pinyug\n",
      "Processing record 237 | russell\n",
      "Processing record 238 | springdale\n",
      "Processing record 239 | dingle\n",
      "Processing record 240 | pringsewu\n",
      "Processing record 241 | esna\n",
      "Processing record 242 | ligayan\n",
      "Processing record 243 | anupgarh\n",
      "City not found\n",
      "Processing record 245 | cedar city\n",
      "Processing record 246 | brawley\n",
      "Processing record 247 | pleshanovo\n",
      "Processing record 248 | dhidhdhoo\n",
      "Processing record 249 | eureka\n",
      "Processing record 250 | lembeni\n",
      "Processing record 251 | ostrovnoy\n",
      "Processing record 252 | pozo colorado\n",
      "Processing record 253 | las margaritas\n",
      "City not found\n",
      "Processing record 255 | kysyl-syr\n",
      "Processing record 256 | cayenne\n",
      "Processing record 257 | jennings\n"
     ]
    },
    {
     "name": "stdout",
     "output_type": "stream",
     "text": [
      "Processing record 258 | faanui\n",
      "Processing record 259 | oranjemund\n",
      "Processing record 260 | beringovskiy\n",
      "City not found\n",
      "Processing record 262 | killybegs\n",
      "Processing record 263 | tura\n",
      "Processing record 264 | turukhansk\n",
      "Processing record 265 | dunedin\n",
      "City not found\n",
      "Processing record 267 | pauini\n",
      "Processing record 268 | norman wells\n",
      "Processing record 269 | bolshaya sosnova\n",
      "Processing record 270 | sao joao da barra\n",
      "Processing record 271 | lagoa\n",
      "Processing record 272 | kaitangata\n",
      "Processing record 273 | hithadhoo\n",
      "Processing record 274 | middlebury\n",
      "Processing record 275 | wloszczowa\n",
      "Processing record 276 | belyy yar\n",
      "Processing record 277 | esso\n",
      "Processing record 278 | bandundu\n",
      "Processing record 279 | nabinagar\n",
      "Processing record 280 | abonnema\n",
      "City not found\n",
      "City not found\n",
      "Processing record 283 | hualmay\n",
      "Processing record 284 | walvis bay\n",
      "Processing record 285 | el uvito\n",
      "Processing record 286 | tasiilaq\n",
      "Processing record 287 | saint-joseph\n",
      "Processing record 288 | nome\n",
      "Processing record 289 | nabire\n",
      "City not found\n",
      "Processing record 291 | najran\n",
      "Processing record 292 | grand-lahou\n",
      "Processing record 293 | lebu\n",
      "Processing record 294 | christchurch\n",
      "Processing record 295 | prince rupert\n",
      "Processing record 296 | hamilton\n",
      "Processing record 297 | san angelo\n",
      "Processing record 298 | ust-dzheguta\n",
      "Processing record 299 | kavieng\n",
      "Processing record 300 | aguimes\n",
      "Processing record 301 | verkhnyaya inta\n",
      "Processing record 302 | abay\n",
      "Processing record 303 | grindavik\n",
      "Processing record 304 | phayakkhaphum phisai\n",
      "Processing record 305 | ternate\n",
      "Processing record 306 | nanortalik\n",
      "Processing record 307 | haines junction\n",
      "Processing record 308 | kuusamo\n",
      "Processing record 309 | kudahuvadhoo\n",
      "Processing record 310 | gornopravdinsk\n",
      "Processing record 311 | opuwo\n",
      "Processing record 312 | igra\n",
      "Processing record 313 | monticello\n",
      "Processing record 314 | bubaque\n",
      "Processing record 315 | thomaston\n",
      "Processing record 316 | luganville\n",
      "Processing record 317 | listowel\n",
      "Processing record 318 | bac ninh\n",
      "Processing record 319 | vardo\n",
      "Processing record 320 | saldanha\n",
      "Processing record 321 | marzuq\n",
      "Processing record 322 | hays\n",
      "Processing record 323 | wuwei\n",
      "Processing record 324 | gemena\n",
      "Processing record 325 | huarmey\n",
      "Processing record 326 | cururupu\n",
      "City not found\n",
      "Processing record 328 | beloha\n",
      "Processing record 329 | hirara\n",
      "Processing record 330 | albina\n",
      "Processing record 331 | batemans bay\n",
      "Processing record 332 | minab\n",
      "Processing record 333 | bonga\n",
      "Processing record 334 | acapulco\n",
      "Processing record 335 | provideniya\n",
      "Processing record 336 | balakhninskiy\n",
      "Processing record 337 | itarema\n",
      "Processing record 338 | rundu\n",
      "Processing record 339 | luderitz\n",
      "Processing record 340 | margate\n",
      "Processing record 341 | san jose\n",
      "Processing record 342 | pittsburg\n",
      "Processing record 343 | nemuro\n",
      "City not found\n",
      "Processing record 345 | moyale\n",
      "Processing record 346 | pacific grove\n",
      "Processing record 347 | ati\n",
      "Processing record 348 | sualkuchi\n",
      "Processing record 349 | geraldton\n",
      "Processing record 350 | husavik\n",
      "Processing record 351 | rawlins\n",
      "Processing record 352 | jalu\n",
      "Processing record 353 | codrington\n",
      "Processing record 354 | san quintin\n",
      "Processing record 355 | tricase\n",
      "Processing record 356 | sokoto\n",
      "Processing record 357 | nova olimpia\n",
      "Processing record 358 | pangnirtung\n",
      "Processing record 359 | ballina\n",
      "Processing record 360 | buluang\n",
      "Processing record 361 | la ronge\n",
      "Processing record 362 | tual\n",
      "Processing record 363 | kanniyakumari\n",
      "Processing record 364 | cabedelo\n",
      "Processing record 365 | des moines\n",
      "Processing record 366 | te anau\n",
      "Processing record 367 | northam\n",
      "Processing record 368 | caravelas\n",
      "City not found\n",
      "City not found\n",
      "City not found\n",
      "Processing record 372 | araguacu\n",
      "Processing record 373 | ilulissat\n",
      "Processing record 374 | bowen\n",
      "Processing record 375 | winneba\n",
      "Processing record 376 | takaka\n",
      "Processing record 377 | augusto correa\n",
      "Processing record 378 | zhanaozen\n",
      "Processing record 379 | harper\n",
      "Processing record 380 | monki\n",
      "Processing record 381 | iqaluit\n",
      "Processing record 382 | okhotsk\n",
      "Processing record 383 | bow island\n",
      "Processing record 384 | marion\n",
      "Processing record 385 | znamenskoye\n",
      "Processing record 386 | san cristobal\n",
      "Processing record 387 | yulara\n",
      "Processing record 388 | avera\n",
      "Processing record 389 | waipawa\n",
      "Processing record 390 | salekhard\n",
      "Processing record 391 | marsa matruh\n",
      "Processing record 392 | cabo san lucas\n",
      "Processing record 393 | corrente\n",
      "Processing record 394 | the pas\n",
      "Processing record 395 | tianpeng\n",
      "City not found\n",
      "Processing record 397 | sassandra\n",
      "Processing record 398 | kalmunai\n",
      "Processing record 399 | quelimane\n",
      "Processing record 400 | stornoway\n",
      "Processing record 401 | potsdam\n",
      "City not found\n",
      "Processing record 403 | along\n",
      "Processing record 404 | labuhan\n",
      "Processing record 405 | gornyy\n",
      "Processing record 406 | ozernovskiy\n",
      "Processing record 407 | brookings\n",
      "Processing record 408 | dalbandin\n",
      "Processing record 409 | faya\n",
      "Processing record 410 | rocha\n",
      "Processing record 411 | buala\n",
      "Processing record 412 | pangkalanbuun\n",
      "Processing record 413 | ulladulla\n",
      "Processing record 414 | sakaiminato\n",
      "Processing record 415 | saryg-sep\n",
      "Processing record 416 | bambous virieux\n",
      "City not found\n",
      "Processing record 418 | kawanoe\n",
      "Processing record 419 | khandyga\n",
      "Processing record 420 | odoyev\n",
      "Processing record 421 | coffs harbour\n",
      "Processing record 422 | alihe\n",
      "Processing record 423 | noormarkku\n",
      "Processing record 424 | raudeberg\n",
      "Processing record 425 | san patricio\n",
      "Processing record 426 | sucua\n",
      "Processing record 427 | beipiao\n",
      "Processing record 428 | moron\n",
      "Processing record 429 | kaeo\n",
      "Processing record 430 | manggar\n",
      "Processing record 431 | san isidro\n",
      "Processing record 432 | flin flon\n",
      "Processing record 433 | la rioja\n",
      "Processing record 434 | troitskoye\n",
      "Processing record 435 | praia da vitoria\n",
      "Processing record 436 | majalgaon\n",
      "City not found\n",
      "City not found\n",
      "Processing record 439 | padang\n",
      "Processing record 440 | titlagarh\n",
      "Processing record 441 | kifri\n",
      "Processing record 442 | olga\n",
      "Processing record 443 | silopi\n",
      "Processing record 444 | rabo de peixe\n",
      "Processing record 445 | richards bay\n",
      "Processing record 446 | nyagan\n",
      "City not found\n",
      "Processing record 448 | sadovoye\n",
      "Processing record 449 | alice springs\n",
      "Processing record 450 | fare\n",
      "Processing record 451 | zyryanka\n",
      "Processing record 452 | guaruja\n",
      "Processing record 453 | bundaberg\n",
      "Processing record 454 | terney\n",
      "City not found\n",
      "Processing record 456 | veruela\n",
      "Processing record 457 | tinde\n",
      "Processing record 458 | vila franca do campo\n",
      "Processing record 459 | karratha\n",
      "Processing record 460 | novyy urengoy\n",
      "City not found\n",
      "Processing record 462 | zhenlai\n",
      "Processing record 463 | marawi\n",
      "Processing record 464 | aracuai\n",
      "Processing record 465 | arrifes\n",
      "City not found\n",
      "Processing record 467 | biak\n",
      "Processing record 468 | amapa\n",
      "Processing record 469 | carutapera\n",
      "Processing record 470 | smithers\n",
      "Processing record 471 | eidsvag\n",
      "Processing record 472 | malpe\n",
      "Processing record 473 | santa cecilia\n",
      "Processing record 474 | barrhead\n",
      "Processing record 475 | taksimo\n",
      "Processing record 476 | sadiqabad\n",
      "Processing record 477 | esil\n",
      "Processing record 478 | sao paulo de olivenca\n",
      "Processing record 479 | aquitania\n",
      "Processing record 480 | tokur\n",
      "Processing record 481 | kolosovka\n",
      "Processing record 482 | souillac\n",
      "Processing record 483 | staraya toropa\n",
      "Processing record 484 | vostok\n",
      "Processing record 485 | zhigansk\n",
      "Processing record 486 | inhambane\n",
      "City not found\n",
      "City not found\n",
      "Processing record 489 | umm kaddadah\n",
      "Processing record 490 | niquelandia\n",
      "City not found\n",
      "Processing record 492 | bantou\n",
      "Processing record 493 | severnoye\n",
      "Processing record 494 | aden\n",
      "Processing record 495 | port hardy\n",
      "City not found\n",
      "Processing record 497 | choma\n",
      "Processing record 498 | rio claro\n",
      "Processing record 499 | mgandu\n",
      "Processing record 500 | samana\n",
      "Processing record 501 | vao\n",
      "Processing record 502 | lasa\n",
      "Processing record 503 | tigzirt\n",
      "City not found\n",
      "Processing record 505 | abu samrah\n",
      "Processing record 506 | kupang\n",
      "Processing record 507 | qena\n",
      "Processing record 508 | lavrentiya\n",
      "Processing record 509 | kankan\n",
      "Processing record 510 | salym\n",
      "Processing record 511 | benjamin constant\n",
      "City not found\n",
      "Processing record 513 | kirakira\n",
      "Processing record 514 | sisimiut\n",
      "Processing record 515 | alyangula\n",
      "Processing record 516 | coquimbo\n",
      "Processing record 517 | gobindpur\n"
     ]
    },
    {
     "name": "stdout",
     "output_type": "stream",
     "text": [
      "Processing record 518 | belgrade\n",
      "Processing record 519 | flinders\n",
      "City not found\n",
      "Processing record 521 | moose factory\n",
      "Processing record 522 | hobyo\n",
      "Processing record 523 | omboue\n",
      "Processing record 524 | preobrazheniye\n",
      "Processing record 525 | mastic beach\n",
      "Processing record 526 | dunkwa\n",
      "Processing record 527 | nichinan\n",
      "Processing record 528 | mandera\n",
      "Processing record 529 | galle\n",
      "Processing record 530 | imbituba\n",
      "Processing record 531 | sao felix do xingu\n",
      "Processing record 532 | brae\n",
      "Processing record 533 | kokoda\n",
      "Processing record 534 | garowe\n",
      "Processing record 535 | uyovu\n",
      "Processing record 536 | chipurupalle\n",
      "Processing record 537 | auki\n",
      "Processing record 538 | tosagua\n",
      "Processing record 539 | xudat\n",
      "Processing record 540 | athens\n",
      "Processing record 541 | miami\n",
      "Processing record 542 | komsomolskiy\n",
      "City not found\n",
      "City not found\n",
      "Processing record 545 | khasan\n",
      "Processing record 546 | ganzhou\n",
      "Processing record 547 | kumeny\n",
      "Processing record 548 | general cepeda\n",
      "Processing record 549 | krasnoarmeysk\n",
      "Processing record 550 | neuquen\n",
      "Processing record 551 | porbandar\n",
      "Processing record 552 | baghdad\n",
      "Processing record 553 | yerbogachen\n",
      "Processing record 554 | port-gentil\n",
      "Processing record 555 | valparaiso\n",
      "Processing record 556 | tobol\n",
      "Processing record 557 | napoleon\n",
      "Processing record 558 | zavallya\n",
      "Processing record 559 | san nicolas\n",
      "Processing record 560 | hofn\n",
      "Processing record 561 | humaita\n",
      "Processing record 562 | gualeguay\n",
      "Processing record 563 | roma\n",
      "Processing record 564 | zonguldak\n",
      "Processing record 565 | rawson\n",
      "Processing record 566 | haverfordwest\n",
      "Processing record 567 | gavrilovka vtoraya\n",
      "Processing record 568 | san policarpo\n",
      "Processing record 569 | arman\n",
      "Processing record 570 | betong\n",
      "Processing record 571 | zhangjiakou\n",
      "Processing record 572 | bumba\n",
      "Processing record 573 | conceicao do coite\n",
      "Processing record 574 | port moresby\n",
      "Processing record 575 | ghanzi\n",
      "Processing record 576 | pareora\n",
      "Processing record 577 | colac\n",
      "Processing record 578 | brigantine\n",
      "Processing record 579 | palmer\n",
      "Processing record 580 | naze\n",
      "Processing record 581 | takoradi\n",
      "Processing record 582 | fukue\n",
      "Processing record 583 | port hedland\n",
      "City not found\n",
      "Processing record 585 | luau\n",
      "Processing record 586 | ucluelet\n"
     ]
    }
   ],
   "source": [
    "# set up lists to hold reponse info that will be used in a DataFrame\n",
    "lat = []\n",
    "lon = []\n",
    "temp = []\n",
    "windspeed =[]\n",
    "hum = []\n",
    "cloud = []\n",
    "dt = []\n",
    "country = []\n",
    "city_name = []\n",
    "\n",
    "# Loop through the list of cities and perform a request for data on each\n",
    "for i,city in enumerate(cities):\n",
    "\n",
    "    try:\n",
    "        response = requests.get(query_url + city).json()\n",
    "        lat.append(response['coord']['lat'])\n",
    "        lon.append(response['coord']['lon'])\n",
    "        temp.append(response['main']['temp_max'])\n",
    "        hum.append(response['main']['humidity'])\n",
    "        windspeed.append((response['wind']['speed']))\n",
    "        cloud.append(response['clouds']['all'])\n",
    "        dt.append(response['dt'])\n",
    "        country.append(response['sys']['country'])\n",
    "        city_name.append(city)\n",
    "        print(f\"Processing record {i} | {city}\")\n",
    "    except:\n",
    "     \n",
    "        print(\"City not found\")"
   ]
  },
  {
   "cell_type": "markdown",
   "metadata": {},
   "source": [
    "### Convert Raw Data to DataFrame\n",
    "* Export the city data into a .csv.\n",
    "* Display the DataFrame"
   ]
  },
  {
   "cell_type": "code",
   "execution_count": 60,
   "metadata": {},
   "outputs": [],
   "source": [
    "# Converting raw data to a DataFrame\n",
    "weather_df = pd.DataFrame({\"City\":city_name,\n",
    "             \"Lat\":lat,\n",
    "             \"Lng\":lon,\n",
    "             \"Max Temp\":temp,\n",
    "             \"Humidity\":hum,\n",
    "             \"Cloudiness\":cloud,\n",
    "             \"Wind Speed\":windspeed,\n",
    "             \"Country\":country,\n",
    "             \"Date\":dt\n",
    "             })\n"
   ]
  },
  {
   "cell_type": "code",
   "execution_count": 44,
   "metadata": {},
   "outputs": [
    {
     "data": {
      "text/html": [
       "<div>\n",
       "<style scoped>\n",
       "    .dataframe tbody tr th:only-of-type {\n",
       "        vertical-align: middle;\n",
       "    }\n",
       "\n",
       "    .dataframe tbody tr th {\n",
       "        vertical-align: top;\n",
       "    }\n",
       "\n",
       "    .dataframe thead th {\n",
       "        text-align: right;\n",
       "    }\n",
       "</style>\n",
       "<table border=\"1\" class=\"dataframe\">\n",
       "  <thead>\n",
       "    <tr style=\"text-align: right;\">\n",
       "      <th></th>\n",
       "      <th>City</th>\n",
       "      <th>Lat</th>\n",
       "      <th>Lng</th>\n",
       "      <th>Max Temp</th>\n",
       "      <th>Humidity</th>\n",
       "      <th>Cloudiness</th>\n",
       "      <th>Wind Speed</th>\n",
       "      <th>Country</th>\n",
       "      <th>Date</th>\n",
       "    </tr>\n",
       "  </thead>\n",
       "  <tbody>\n",
       "    <tr>\n",
       "      <th>0</th>\n",
       "      <td>ushuaia</td>\n",
       "      <td>-54.8000</td>\n",
       "      <td>-68.3000</td>\n",
       "      <td>12.0</td>\n",
       "      <td>66</td>\n",
       "      <td>0</td>\n",
       "      <td>5.14</td>\n",
       "      <td>AR</td>\n",
       "      <td>1615560728</td>\n",
       "    </tr>\n",
       "    <tr>\n",
       "      <th>1</th>\n",
       "      <td>ribeira grande</td>\n",
       "      <td>38.5167</td>\n",
       "      <td>-28.7000</td>\n",
       "      <td>16.0</td>\n",
       "      <td>88</td>\n",
       "      <td>75</td>\n",
       "      <td>5.14</td>\n",
       "      <td>PT</td>\n",
       "      <td>1615560729</td>\n",
       "    </tr>\n",
       "    <tr>\n",
       "      <th>2</th>\n",
       "      <td>bonavista</td>\n",
       "      <td>48.6499</td>\n",
       "      <td>-53.1147</td>\n",
       "      <td>4.0</td>\n",
       "      <td>87</td>\n",
       "      <td>99</td>\n",
       "      <td>4.63</td>\n",
       "      <td>CA</td>\n",
       "      <td>1615560729</td>\n",
       "    </tr>\n",
       "    <tr>\n",
       "      <th>3</th>\n",
       "      <td>lamu</td>\n",
       "      <td>-2.2717</td>\n",
       "      <td>40.9020</td>\n",
       "      <td>29.0</td>\n",
       "      <td>70</td>\n",
       "      <td>1</td>\n",
       "      <td>5.14</td>\n",
       "      <td>KE</td>\n",
       "      <td>1615560730</td>\n",
       "    </tr>\n",
       "    <tr>\n",
       "      <th>4</th>\n",
       "      <td>cayenne</td>\n",
       "      <td>4.9333</td>\n",
       "      <td>-52.3333</td>\n",
       "      <td>27.0</td>\n",
       "      <td>83</td>\n",
       "      <td>90</td>\n",
       "      <td>1.03</td>\n",
       "      <td>GF</td>\n",
       "      <td>1615560730</td>\n",
       "    </tr>\n",
       "  </tbody>\n",
       "</table>\n",
       "</div>"
      ],
      "text/plain": [
       "             City      Lat      Lng  Max Temp  Humidity  Cloudiness  \\\n",
       "0         ushuaia -54.8000 -68.3000      12.0        66           0   \n",
       "1  ribeira grande  38.5167 -28.7000      16.0        88          75   \n",
       "2       bonavista  48.6499 -53.1147       4.0        87          99   \n",
       "3            lamu  -2.2717  40.9020      29.0        70           1   \n",
       "4         cayenne   4.9333 -52.3333      27.0        83          90   \n",
       "\n",
       "   Wind Speed Country        Date  \n",
       "0        5.14      AR  1615560728  \n",
       "1        5.14      PT  1615560729  \n",
       "2        4.63      CA  1615560729  \n",
       "3        5.14      KE  1615560730  \n",
       "4        1.03      GF  1615560730  "
      ]
     },
     "execution_count": 44,
     "metadata": {},
     "output_type": "execute_result"
    }
   ],
   "source": [
    "#Exporting the DataFrame weather_df in a csv file and reading the DataFrame\n",
    "weather_df.to_csv(\"weather.csv\")\n",
    "weather_df.head() "
   ]
  },
  {
   "cell_type": "code",
   "execution_count": 61,
   "metadata": {},
   "outputs": [
    {
     "data": {
      "text/html": [
       "<div>\n",
       "<style scoped>\n",
       "    .dataframe tbody tr th:only-of-type {\n",
       "        vertical-align: middle;\n",
       "    }\n",
       "\n",
       "    .dataframe tbody tr th {\n",
       "        vertical-align: top;\n",
       "    }\n",
       "\n",
       "    .dataframe thead th {\n",
       "        text-align: right;\n",
       "    }\n",
       "</style>\n",
       "<table border=\"1\" class=\"dataframe\">\n",
       "  <thead>\n",
       "    <tr style=\"text-align: right;\">\n",
       "      <th></th>\n",
       "      <th>Lat</th>\n",
       "      <th>Lng</th>\n",
       "      <th>Max Temp</th>\n",
       "      <th>Humidity</th>\n",
       "      <th>Cloudiness</th>\n",
       "      <th>Wind Speed</th>\n",
       "      <th>Date</th>\n",
       "    </tr>\n",
       "  </thead>\n",
       "  <tbody>\n",
       "    <tr>\n",
       "      <th>count</th>\n",
       "      <td>541.000000</td>\n",
       "      <td>541.000000</td>\n",
       "      <td>541.000000</td>\n",
       "      <td>541.000000</td>\n",
       "      <td>541.000000</td>\n",
       "      <td>541.000000</td>\n",
       "      <td>5.410000e+02</td>\n",
       "    </tr>\n",
       "    <tr>\n",
       "      <th>mean</th>\n",
       "      <td>19.794416</td>\n",
       "      <td>22.000558</td>\n",
       "      <td>54.918115</td>\n",
       "      <td>71.883549</td>\n",
       "      <td>52.881701</td>\n",
       "      <td>8.498115</td>\n",
       "      <td>1.615571e+09</td>\n",
       "    </tr>\n",
       "    <tr>\n",
       "      <th>std</th>\n",
       "      <td>33.595932</td>\n",
       "      <td>90.940236</td>\n",
       "      <td>28.829947</td>\n",
       "      <td>21.104048</td>\n",
       "      <td>38.111688</td>\n",
       "      <td>6.112909</td>\n",
       "      <td>1.059968e+02</td>\n",
       "    </tr>\n",
       "    <tr>\n",
       "      <th>min</th>\n",
       "      <td>-54.800000</td>\n",
       "      <td>-175.200000</td>\n",
       "      <td>-32.800000</td>\n",
       "      <td>1.000000</td>\n",
       "      <td>0.000000</td>\n",
       "      <td>0.400000</td>\n",
       "      <td>1.615571e+09</td>\n",
       "    </tr>\n",
       "    <tr>\n",
       "      <th>25%</th>\n",
       "      <td>-7.470600</td>\n",
       "      <td>-56.086100</td>\n",
       "      <td>35.010000</td>\n",
       "      <td>61.000000</td>\n",
       "      <td>15.000000</td>\n",
       "      <td>4.070000</td>\n",
       "      <td>1.615571e+09</td>\n",
       "    </tr>\n",
       "    <tr>\n",
       "      <th>50%</th>\n",
       "      <td>23.891700</td>\n",
       "      <td>26.953100</td>\n",
       "      <td>66.040000</td>\n",
       "      <td>77.000000</td>\n",
       "      <td>58.000000</td>\n",
       "      <td>6.910000</td>\n",
       "      <td>1.615571e+09</td>\n",
       "    </tr>\n",
       "    <tr>\n",
       "      <th>75%</th>\n",
       "      <td>49.631100</td>\n",
       "      <td>102.641400</td>\n",
       "      <td>78.460000</td>\n",
       "      <td>88.000000</td>\n",
       "      <td>90.000000</td>\n",
       "      <td>11.100000</td>\n",
       "      <td>1.615571e+09</td>\n",
       "    </tr>\n",
       "    <tr>\n",
       "      <th>max</th>\n",
       "      <td>78.218600</td>\n",
       "      <td>179.316700</td>\n",
       "      <td>100.240000</td>\n",
       "      <td>100.000000</td>\n",
       "      <td>100.000000</td>\n",
       "      <td>32.010000</td>\n",
       "      <td>1.615571e+09</td>\n",
       "    </tr>\n",
       "  </tbody>\n",
       "</table>\n",
       "</div>"
      ],
      "text/plain": [
       "              Lat         Lng    Max Temp    Humidity  Cloudiness  Wind Speed  \\\n",
       "count  541.000000  541.000000  541.000000  541.000000  541.000000  541.000000   \n",
       "mean    19.794416   22.000558   54.918115   71.883549   52.881701    8.498115   \n",
       "std     33.595932   90.940236   28.829947   21.104048   38.111688    6.112909   \n",
       "min    -54.800000 -175.200000  -32.800000    1.000000    0.000000    0.400000   \n",
       "25%     -7.470600  -56.086100   35.010000   61.000000   15.000000    4.070000   \n",
       "50%     23.891700   26.953100   66.040000   77.000000   58.000000    6.910000   \n",
       "75%     49.631100  102.641400   78.460000   88.000000   90.000000   11.100000   \n",
       "max     78.218600  179.316700  100.240000  100.000000  100.000000   32.010000   \n",
       "\n",
       "               Date  \n",
       "count  5.410000e+02  \n",
       "mean   1.615571e+09  \n",
       "std    1.059968e+02  \n",
       "min    1.615571e+09  \n",
       "25%    1.615571e+09  \n",
       "50%    1.615571e+09  \n",
       "75%    1.615571e+09  \n",
       "max    1.615571e+09  "
      ]
     },
     "execution_count": 61,
     "metadata": {},
     "output_type": "execute_result"
    }
   ],
   "source": [
    "# A summary statistics was displayed\n",
    "summary_df = weather_df[[\"Lat\",\"Lng\",\"Max Temp\", \"Humidity\",\"Cloudiness\",\"Wind Speed\", \"Date\"]].describe()\n",
    "summary_df"
   ]
  },
  {
   "cell_type": "markdown",
   "metadata": {},
   "source": [
    "## Inspect the data and remove the cities where the humidity > 100%.\n",
    "----\n",
    "Skip this step if there are no cities that have humidity > 100%. "
   ]
  },
  {
   "cell_type": "code",
   "execution_count": 62,
   "metadata": {},
   "outputs": [
    {
     "data": {
      "text/html": [
       "<div>\n",
       "<style scoped>\n",
       "    .dataframe tbody tr th:only-of-type {\n",
       "        vertical-align: middle;\n",
       "    }\n",
       "\n",
       "    .dataframe tbody tr th {\n",
       "        vertical-align: top;\n",
       "    }\n",
       "\n",
       "    .dataframe thead th {\n",
       "        text-align: right;\n",
       "    }\n",
       "</style>\n",
       "<table border=\"1\" class=\"dataframe\">\n",
       "  <thead>\n",
       "    <tr style=\"text-align: right;\">\n",
       "      <th></th>\n",
       "      <th>City</th>\n",
       "      <th>Lat</th>\n",
       "      <th>Lng</th>\n",
       "      <th>Max Temp</th>\n",
       "      <th>Humidity</th>\n",
       "      <th>Cloudiness</th>\n",
       "      <th>Wind Speed</th>\n",
       "      <th>Country</th>\n",
       "      <th>Date</th>\n",
       "    </tr>\n",
       "  </thead>\n",
       "  <tbody>\n",
       "  </tbody>\n",
       "</table>\n",
       "</div>"
      ],
      "text/plain": [
       "Empty DataFrame\n",
       "Columns: [City, Lat, Lng, Max Temp, Humidity, Cloudiness, Wind Speed, Country, Date]\n",
       "Index: []"
      ]
     },
     "execution_count": 62,
     "metadata": {},
     "output_type": "execute_result"
    }
   ],
   "source": [
    "weather_df.loc[weather_df[\"Humidity\"]>100]\n"
   ]
  },
  {
   "cell_type": "code",
   "execution_count": null,
   "metadata": {},
   "outputs": [],
   "source": [
    "# As no city was listed with humidity >100%, this step will be skipped."
   ]
  },
  {
   "cell_type": "markdown",
   "metadata": {},
   "source": [
    "## Plotting the Data\n",
    "* Use proper labeling of the plots using plot titles (including date of analysis) and axes labels.\n",
    "* Save the plotted figures as .pngs."
   ]
  },
  {
   "cell_type": "markdown",
   "metadata": {},
   "source": [
    "## Latitude vs. Temperature Plot"
   ]
  },
  {
   "cell_type": "code",
   "execution_count": 63,
   "metadata": {
    "scrolled": true
   },
   "outputs": [
    {
     "data": {
      "text/plain": [
       "[]"
      ]
     },
     "execution_count": 63,
     "metadata": {},
     "output_type": "execute_result"
    },
    {
     "data": {
      "image/png": "[encoded data removed]",
      "text/plain": [
       "<Figure size 432x288 with 1 Axes>"
      ]
     },
     "metadata": {
      "needs_background": "light"
     },
     "output_type": "display_data"
    }
   ],
   "source": [
    "x_axis = weather_df[\"Lat\"]\n",
    "y_axis = weather_df[\"Max Temp\"]\n",
    "plt.title(\"City Latitude vs. Max Temperature (3/12/2021)\") # To ask help\n",
    "plt.xlabel(\"Latitude\")\n",
    "plt.ylabel(\"Max temperature (F)\")\n",
    "plt.scatter(x_axis, y_axis,marker=\"o\", facecolors=\"cyan\", edgecolors=\"black\")\n",
    "plt.plot()"
   ]
  },
  {
   "cell_type": "markdown",
   "metadata": {},
   "source": [
    "#Latitude vs. Humidity Plot"
   ]
  },
  {
   "cell_type": "code",
   "execution_count": 64,
   "metadata": {
    "scrolled": true
   },
   "outputs": [
    {
     "data": {
      "text/plain": [
       "[]"
      ]
     },
     "execution_count": 64,
     "metadata": {},
     "output_type": "execute_result"
    },
    {
     "data": {
      "image/png": "[encoded data removed]",
      "text/plain": [
       "<Figure size 432x288 with 1 Axes>"
      ]
     },
     "metadata": {
      "needs_background": "light"
     },
     "output_type": "display_data"
    }
   ],
   "source": [
    "x_axis = weather_df[\"Lat\"]\n",
    "y_axis = weather_df[\"Humidity\"]\n",
    "plt.title(\"City Latitude vs. Humidity (3/12/2021)\") # To ask help\n",
    "plt.xlabel(\"Latitude\")\n",
    "plt.ylabel(\"Humidity (%)\")\n",
    "plt.scatter(x_axis, y_axis,marker=\"o\", facecolors=\"cyan\", edgecolors=\"black\")\n",
    "plt.plot()"
   ]
  },
  {
   "cell_type": "markdown",
   "metadata": {},
   "source": [
    "##### Latitude vs. Cloudiness Plot"
   ]
  },
  {
   "cell_type": "code",
   "execution_count": 66,
   "metadata": {},
   "outputs": [
    {
     "data": {
      "text/plain": [
       "[]"
      ]
     },
     "execution_count": 66,
     "metadata": {},
     "output_type": "execute_result"
    },
    {
     "data": {
      "image/png": "[encoded data removed]",
      "text/plain": [
       "<Figure size 432x288 with 1 Axes>"
      ]
     },
     "metadata": {
      "needs_background": "light"
     },
     "output_type": "display_data"
    }
   ],
   "source": [
    "\n",
    "x_axis = weather_df[\"Lat\"]\n",
    "y_axis = weather_df[\"Cloudiness\"]\n",
    "plt.title(\"City Latitude vs. Cloudiness (3/12/2021)\") # To ask help\n",
    "plt.xlabel(\"Latitude\")\n",
    "plt.ylabel(\"Cloudiness (%)\")\n",
    "plt.scatter(x_axis, y_axis,marker=\"o\", facecolors=\"cyan\", edgecolors=\"black\")\n",
    "plt.plot()"
   ]
  },
  {
   "cell_type": "markdown",
   "metadata": {},
   "source": [
    "## Latitude vs. Wind Speed Plot"
   ]
  },
  {
   "cell_type": "code",
   "execution_count": 68,
   "metadata": {},
   "outputs": [
    {
     "data": {
      "text/plain": [
       "[]"
      ]
     },
     "execution_count": 68,
     "metadata": {},
     "output_type": "execute_result"
    },
    {
     "data": {
      "image/png": "[encoded data removed]",
      "text/plain": [
       "<Figure size 432x288 with 1 Axes>"
      ]
     },
     "metadata": {
      "needs_background": "light"
     },
     "output_type": "display_data"
    }
   ],
   "source": [
    "x_axis = weather_df[\"Lat\"]\n",
    "y_axis = weather_df[\"Wind Speed\"]\n",
    "plt.title(\"City Latitude vs. Wind Speed (3/12/2021)\") # To ask help\n",
    "plt.xlabel(\"Latitude\")\n",
    "plt.ylabel(\"Wind Speed (mph)\")\n",
    "plt.scatter(x_axis, y_axis,marker=\"o\", facecolors=\"cyan\", edgecolors=\"black\")\n",
    "plt.plot()"
   ]
  },
  {
   "cell_type": "markdown",
   "metadata": {},
   "source": [
    "## Linear Regression"
   ]
  },
  {
   "cell_type": "code",
   "execution_count": 70,
   "metadata": {},
   "outputs": [
    {
     "data": {
      "text/html": [
       "<div>\n",
       "<style scoped>\n",
       "    .dataframe tbody tr th:only-of-type {\n",
       "        vertical-align: middle;\n",
       "    }\n",
       "\n",
       "    .dataframe tbody tr th {\n",
       "        vertical-align: top;\n",
       "    }\n",
       "\n",
       "    .dataframe thead th {\n",
       "        text-align: right;\n",
       "    }\n",
       "</style>\n",
       "<table border=\"1\" class=\"dataframe\">\n",
       "  <thead>\n",
       "    <tr style=\"text-align: right;\">\n",
       "      <th></th>\n",
       "      <th>City</th>\n",
       "      <th>Lat</th>\n",
       "      <th>Lng</th>\n",
       "      <th>Max Temp</th>\n",
       "      <th>Humidity</th>\n",
       "      <th>Cloudiness</th>\n",
       "      <th>Wind Speed</th>\n",
       "      <th>Country</th>\n",
       "      <th>Date</th>\n",
       "    </tr>\n",
       "  </thead>\n",
       "  <tbody>\n",
       "    <tr>\n",
       "      <th>1</th>\n",
       "      <td>katsuura</td>\n",
       "      <td>35.1333</td>\n",
       "      <td>140.3000</td>\n",
       "      <td>53.01</td>\n",
       "      <td>88</td>\n",
       "      <td>100</td>\n",
       "      <td>3.00</td>\n",
       "      <td>JP</td>\n",
       "      <td>1615571135</td>\n",
       "    </tr>\n",
       "    <tr>\n",
       "      <th>2</th>\n",
       "      <td>igarka</td>\n",
       "      <td>67.4667</td>\n",
       "      <td>86.5833</td>\n",
       "      <td>-17.88</td>\n",
       "      <td>86</td>\n",
       "      <td>18</td>\n",
       "      <td>15.82</td>\n",
       "      <td>RU</td>\n",
       "      <td>1615570859</td>\n",
       "    </tr>\n",
       "    <tr>\n",
       "      <th>5</th>\n",
       "      <td>dudinka</td>\n",
       "      <td>69.4058</td>\n",
       "      <td>86.1778</td>\n",
       "      <td>-11.07</td>\n",
       "      <td>95</td>\n",
       "      <td>100</td>\n",
       "      <td>28.77</td>\n",
       "      <td>RU</td>\n",
       "      <td>1615570924</td>\n",
       "    </tr>\n",
       "    <tr>\n",
       "      <th>6</th>\n",
       "      <td>raga</td>\n",
       "      <td>8.4596</td>\n",
       "      <td>25.6780</td>\n",
       "      <td>86.90</td>\n",
       "      <td>17</td>\n",
       "      <td>80</td>\n",
       "      <td>3.53</td>\n",
       "      <td>SS</td>\n",
       "      <td>1615571138</td>\n",
       "    </tr>\n",
       "    <tr>\n",
       "      <th>7</th>\n",
       "      <td>baykit</td>\n",
       "      <td>61.6700</td>\n",
       "      <td>96.3700</td>\n",
       "      <td>14.50</td>\n",
       "      <td>92</td>\n",
       "      <td>100</td>\n",
       "      <td>7.72</td>\n",
       "      <td>RU</td>\n",
       "      <td>1615571139</td>\n",
       "    </tr>\n",
       "  </tbody>\n",
       "</table>\n",
       "</div>"
      ],
      "text/plain": [
       "       City      Lat       Lng  Max Temp  Humidity  Cloudiness  Wind Speed  \\\n",
       "1  katsuura  35.1333  140.3000     53.01        88         100        3.00   \n",
       "2    igarka  67.4667   86.5833    -17.88        86          18       15.82   \n",
       "5   dudinka  69.4058   86.1778    -11.07        95         100       28.77   \n",
       "6      raga   8.4596   25.6780     86.90        17          80        3.53   \n",
       "7    baykit  61.6700   96.3700     14.50        92         100        7.72   \n",
       "\n",
       "  Country        Date  \n",
       "1      JP  1615571135  \n",
       "2      RU  1615570859  \n",
       "5      RU  1615570924  \n",
       "6      SS  1615571138  \n",
       "7      RU  1615571139  "
      ]
     },
     "execution_count": 70,
     "metadata": {},
     "output_type": "execute_result"
    }
   ],
   "source": [
    "#Separate the data in 2 dataframes to get the North and the South regions for ploting\n",
    "\n",
    "#North ['Lat']>=0]\n",
    "n_weather_df = weather_df.loc[weather_df['Lat']>=0]\n",
    "n_weather_df.head()"
   ]
  },
  {
   "cell_type": "code",
   "execution_count": 71,
   "metadata": {},
   "outputs": [
    {
     "data": {
      "text/html": [
       "<div>\n",
       "<style scoped>\n",
       "    .dataframe tbody tr th:only-of-type {\n",
       "        vertical-align: middle;\n",
       "    }\n",
       "\n",
       "    .dataframe tbody tr th {\n",
       "        vertical-align: top;\n",
       "    }\n",
       "\n",
       "    .dataframe thead th {\n",
       "        text-align: right;\n",
       "    }\n",
       "</style>\n",
       "<table border=\"1\" class=\"dataframe\">\n",
       "  <thead>\n",
       "    <tr style=\"text-align: right;\">\n",
       "      <th></th>\n",
       "      <th>City</th>\n",
       "      <th>Lat</th>\n",
       "      <th>Lng</th>\n",
       "      <th>Max Temp</th>\n",
       "      <th>Humidity</th>\n",
       "      <th>Cloudiness</th>\n",
       "      <th>Wind Speed</th>\n",
       "      <th>Country</th>\n",
       "      <th>Date</th>\n",
       "    </tr>\n",
       "  </thead>\n",
       "  <tbody>\n",
       "    <tr>\n",
       "      <th>0</th>\n",
       "      <td>ushuaia</td>\n",
       "      <td>-54.8000</td>\n",
       "      <td>-68.3000</td>\n",
       "      <td>53.60</td>\n",
       "      <td>66</td>\n",
       "      <td>75</td>\n",
       "      <td>23.02</td>\n",
       "      <td>AR</td>\n",
       "      <td>1615570878</td>\n",
       "    </tr>\n",
       "    <tr>\n",
       "      <th>3</th>\n",
       "      <td>avarua</td>\n",
       "      <td>-21.2078</td>\n",
       "      <td>-159.7750</td>\n",
       "      <td>77.00</td>\n",
       "      <td>88</td>\n",
       "      <td>75</td>\n",
       "      <td>2.30</td>\n",
       "      <td>CK</td>\n",
       "      <td>1615571136</td>\n",
       "    </tr>\n",
       "    <tr>\n",
       "      <th>4</th>\n",
       "      <td>mataura</td>\n",
       "      <td>-46.1927</td>\n",
       "      <td>168.8643</td>\n",
       "      <td>46.00</td>\n",
       "      <td>96</td>\n",
       "      <td>1</td>\n",
       "      <td>1.01</td>\n",
       "      <td>NZ</td>\n",
       "      <td>1615571137</td>\n",
       "    </tr>\n",
       "    <tr>\n",
       "      <th>8</th>\n",
       "      <td>new norfolk</td>\n",
       "      <td>-42.7826</td>\n",
       "      <td>147.0587</td>\n",
       "      <td>66.99</td>\n",
       "      <td>61</td>\n",
       "      <td>100</td>\n",
       "      <td>3.18</td>\n",
       "      <td>AU</td>\n",
       "      <td>1615571139</td>\n",
       "    </tr>\n",
       "    <tr>\n",
       "      <th>10</th>\n",
       "      <td>hervey bay</td>\n",
       "      <td>-25.2986</td>\n",
       "      <td>152.8535</td>\n",
       "      <td>73.00</td>\n",
       "      <td>87</td>\n",
       "      <td>12</td>\n",
       "      <td>5.88</td>\n",
       "      <td>AU</td>\n",
       "      <td>1615571140</td>\n",
       "    </tr>\n",
       "  </tbody>\n",
       "</table>\n",
       "</div>"
      ],
      "text/plain": [
       "           City      Lat       Lng  Max Temp  Humidity  Cloudiness  \\\n",
       "0       ushuaia -54.8000  -68.3000     53.60        66          75   \n",
       "3        avarua -21.2078 -159.7750     77.00        88          75   \n",
       "4       mataura -46.1927  168.8643     46.00        96           1   \n",
       "8   new norfolk -42.7826  147.0587     66.99        61         100   \n",
       "10   hervey bay -25.2986  152.8535     73.00        87          12   \n",
       "\n",
       "    Wind Speed Country        Date  \n",
       "0        23.02      AR  1615570878  \n",
       "3         2.30      CK  1615571136  \n",
       "4         1.01      NZ  1615571137  \n",
       "8         3.18      AU  1615571139  \n",
       "10        5.88      AU  1615571140  "
      ]
     },
     "execution_count": 71,
     "metadata": {},
     "output_type": "execute_result"
    }
   ],
   "source": [
    "#South ['Lat']<0]\n",
    "s_weather_df = weather_df.loc[weather_df['Lat']<0]\n",
    "s_weather_df.head()"
   ]
  },
  {
   "cell_type": "code",
   "execution_count": 130,
   "metadata": {},
   "outputs": [],
   "source": [
    "#Using a unic function to simplify the plotting steps\n",
    "def correlation_plot(x, y,\n",
    "                     title,\n",
    "                     xlabel, ylabel, xmin, ymin):\n",
    "    plt.scatter(x, y)\n",
    "    slope, intercept, r_value, p_value, std_err = linregress(x,y)\n",
    "    \n",
    "    regress_values = x * slope + intercept\n",
    "    line_eq = \"y = \" + str(round(slope,2)) + \"x + \" + str(round(intercept,2))\n",
    "    plt.plot(x,regress_values,\"r-\")\n",
    "    plt.annotate(line_eq,(xmin,ymin),fontsize=14,color=\"red\")\n",
    "    \n",
    "    print(f'r-value is = {r_value**2}')\n",
    "    plt.title(title)\n",
    "    plt.xlabel(xlabel)\n",
    "    plt.ylabel(ylabel)\n",
    "    #plt.tight_layout()\n",
    "    plt.show"
   ]
  },
  {
   "cell_type": "markdown",
   "metadata": {},
   "source": [
    "####  Northern Hemisphere - Max Temp vs. Latitude Linear Regression"
   ]
  },
  {
   "cell_type": "code",
   "execution_count": 139,
   "metadata": {
    "scrolled": false
   },
   "outputs": [
    {
     "name": "stdout",
     "output_type": "stream",
     "text": [
      "r-value is = 0.7887730451063649\n"
     ]
    },
    {
     "data": {
      "image/png": "[encoded data removed]",
      "text/plain": [
       "<Figure size 432x288 with 1 Axes>"
      ]
     },
     "metadata": {
      "needs_background": "light"
     },
     "output_type": "display_data"
    }
   ],
   "source": [
    "x = n_weather_df[\"Lat\"]\n",
    "y = n_weather_df[\"Max Temp\"]\n",
    "xmin = n_weather_df[\"Lat\"].min()\n",
    "ymin = n_weather_df[\"Max Temp\"].min()\n",
    "title = \"Northern Hemisphere - Max Temp vs. Latitude Linear Regression\"\n",
    "xlabel = \"Latitude\"\n",
    "ylabel = \"Max Temperature\"\n",
    "correlation_plot(x, y, title, xlabel, ylabel, xmin, ymin)\n"
   ]
  },
  {
   "cell_type": "markdown",
   "metadata": {},
   "source": [
    "####  Southern Hemisphere - Max Temp vs. Latitude Linear Regression"
   ]
  },
  {
   "cell_type": "code",
   "execution_count": 140,
   "metadata": {},
   "outputs": [
    {
     "name": "stdout",
     "output_type": "stream",
     "text": [
      "r-value is = 0.3776269220293186\n"
     ]
    },
    {
     "data": {
      "image/png": "[encoded data removed]",
      "text/plain": [
       "<Figure size 432x288 with 1 Axes>"
      ]
     },
     "metadata": {
      "needs_background": "light"
     },
     "output_type": "display_data"
    }
   ],
   "source": [
    "x = s_weather_df[\"Lat\"]\n",
    "y = s_weather_df[\"Max Temp\"]\n",
    "xmin = s_weather_df[\"Lat\"].min()\n",
    "ymin = s_weather_df[\"Max Temp\"].min()\n",
    "title = \"Southern Hemisphere - Max Temp vs. Latitude Linear Regression\"\n",
    "xlabel = \"Latitude\"\n",
    "ylabel = \"Max Temperature\"\n",
    "correlation_plot(x, y, title, xlabel, ylabel, xmin, ymin)"
   ]
  },
  {
   "cell_type": "markdown",
   "metadata": {},
   "source": [
    "####  Northern Hemisphere - Humidity (%) vs. Latitude Linear Regression"
   ]
  },
  {
   "cell_type": "code",
   "execution_count": 133,
   "metadata": {},
   "outputs": [
    {
     "name": "stdout",
     "output_type": "stream",
     "text": [
      "r-value is = 0.05202305574444186\n"
     ]
    },
    {
     "data": {
      "image/png": "[encoded data removed]",
      "text/plain": [
       "<Figure size 432x288 with 1 Axes>"
      ]
     },
     "metadata": {
      "needs_background": "light"
     },
     "output_type": "display_data"
    }
   ],
   "source": [
    "x = n_weather_df[\"Lat\"]\n",
    "y = n_weather_df[\"Humidity\"]\n",
    "xmin = n_weather_df[\"Lat\"].min()\n",
    "ymin = n_weather_df[\"Humidity\"].min()\n",
    "title = \"Northern Hemisphere - Humidity (%) vs. Latitude Linear Regression\"\n",
    "xlabel = \"Latitude\"\n",
    "ylabel = \"Humidity (%)\"\n",
    "correlation_plot(x, y, title, xlabel, ylabel, xmin, ymin)"
   ]
  },
  {
   "cell_type": "markdown",
   "metadata": {},
   "source": [
    "####  Southern Hemisphere - Humidity (%) vs. Latitude Linear Regression"
   ]
  },
  {
   "cell_type": "code",
   "execution_count": 134,
   "metadata": {},
   "outputs": [
    {
     "name": "stdout",
     "output_type": "stream",
     "text": [
      "r-value is = 0.0015754428419440735\n"
     ]
    },
    {
     "data": {
      "image/png": "[encoded data removed]",
      "text/plain": [
       "<Figure size 432x288 with 1 Axes>"
      ]
     },
     "metadata": {
      "needs_background": "light"
     },
     "output_type": "display_data"
    }
   ],
   "source": [
    "x = s_weather_df[\"Lat\"]\n",
    "y = s_weather_df[\"Humidity\"]\n",
    "xmin = s_weather_df[\"Lat\"].min()\n",
    "ymin = s_weather_df[\"Humidity\"].min()\n",
    "title = \"Southern Hemisphere - Humidity (%) vs. Latitude Linear Regression\"\n",
    "xlabel = \"Latitude\"\n",
    "ylabel = \"Humidity (%)\"\n",
    "correlation_plot(x, y, title, xlabel, ylabel, xmin, ymin)"
   ]
  },
  {
   "cell_type": "markdown",
   "metadata": {},
   "source": [
    "####  Northern Hemisphere - Cloudiness (%) vs. Latitude Linear Regression"
   ]
  },
  {
   "cell_type": "code",
   "execution_count": 136,
   "metadata": {},
   "outputs": [
    {
     "name": "stdout",
     "output_type": "stream",
     "text": [
      "r-value is = 0.019779847695356376\n"
     ]
    },
    {
     "data": {
      "image/png": "[encoded data removed]",
      "text/plain": [
       "<Figure size 432x288 with 1 Axes>"
      ]
     },
     "metadata": {
      "needs_background": "light"
     },
     "output_type": "display_data"
    }
   ],
   "source": [
    "x = n_weather_df[\"Lat\"]\n",
    "y = n_weather_df[\"Cloudiness\"]\n",
    "xmin = n_weather_df[\"Lat\"].min()\n",
    "ymin = n_weather_df[\"Cloudiness\"].min()\n",
    "title = \"Northern Hemisphere - Cloudiness (%) vs. Latitude Linear Regression\"\n",
    "xlabel = \"Latitude\"\n",
    "ylabel = \"Cloudiness\"\n",
    "correlation_plot(x, y, title, xlabel, ylabel, xmin, ymin)"
   ]
  },
  {
   "cell_type": "markdown",
   "metadata": {},
   "source": [
    "####  Southern Hemisphere - Cloudiness (%) vs. Latitude Linear Regression"
   ]
  },
  {
   "cell_type": "code",
   "execution_count": 135,
   "metadata": {},
   "outputs": [
    {
     "name": "stdout",
     "output_type": "stream",
     "text": [
      "r-value is = 0.11959340382815536\n"
     ]
    },
    {
     "data": {
      "image/png": "[encoded data removed]",
      "text/plain": [
       "<Figure size 432x288 with 1 Axes>"
      ]
     },
     "metadata": {
      "needs_background": "light"
     },
     "output_type": "display_data"
    }
   ],
   "source": [
    "x = s_weather_df[\"Lat\"]\n",
    "y = s_weather_df[\"Cloudiness\"]\n",
    "xmin = s_weather_df[\"Lat\"].min()\n",
    "ymin = s_weather_df[\"Cloudiness\"].min()\n",
    "title = \"Southern Hemisphere - Cloudiness (%) vs. Latitude Linear Regression\"\n",
    "xlabel = \"Latitude\"\n",
    "ylabel = \"Cloudiness\"\n",
    "correlation_plot(x, y, title, xlabel, ylabel, xmin, ymin)"
   ]
  },
  {
   "cell_type": "markdown",
   "metadata": {},
   "source": [
    "####  Northern Hemisphere - Wind Speed (mph) vs. Latitude Linear Regression"
   ]
  },
  {
   "cell_type": "code",
   "execution_count": 137,
   "metadata": {},
   "outputs": [
    {
     "name": "stdout",
     "output_type": "stream",
     "text": [
      "r-value is = 0.050696941862707276\n"
     ]
    },
    {
     "data": {
      "image/png": "[encoded data removed]",
      "text/plain": [
       "<Figure size 432x288 with 1 Axes>"
      ]
     },
     "metadata": {
      "needs_background": "light"
     },
     "output_type": "display_data"
    }
   ],
   "source": [
    "x = n_weather_df[\"Lat\"]\n",
    "y = n_weather_df[\"Wind Speed\"]\n",
    "xmin = n_weather_df[\"Lat\"].min()\n",
    "ymin = n_weather_df[\"Wind Speed\"].min()\n",
    "title = \"Northern Hemisphere - Wind Speed (mph) vs. Latitude Linear Regression\"\n",
    "xlabel = \"Latitude\"\n",
    "ylabel = \"Wind Speed (mph)\"\n",
    "correlation_plot(x, y, title, xlabel, ylabel, xmin, ymin)"
   ]
  },
  {
   "cell_type": "markdown",
   "metadata": {},
   "source": [
    "####  Southern Hemisphere - Wind Speed (mph) vs. Latitude Linear Regression"
   ]
  },
  {
   "cell_type": "code",
   "execution_count": 138,
   "metadata": {},
   "outputs": [
    {
     "name": "stdout",
     "output_type": "stream",
     "text": [
      "r-value is = 0.020941075704200576\n"
     ]
    },
    {
     "data": {
      "image/png": "[encoded data removed]",
      "text/plain": [
       "<Figure size 432x288 with 1 Axes>"
      ]
     },
     "metadata": {
      "needs_background": "light"
     },
     "output_type": "display_data"
    }
   ],
   "source": [
    "x = s_weather_df[\"Lat\"]\n",
    "y = s_weather_df[\"Wind Speed\"]\n",
    "xmin = s_weather_df[\"Lat\"].min()\n",
    "ymin = s_weather_df[\"Wind Speed\"].min()\n",
    "title = \"Southern Hemisphere - Wind Speed (mph) vs. Latitude Linear Regression\"\n",
    "xlabel = \"Latitude\"\n",
    "ylabel = \"Wind Speed (mph)\"\n",
    "correlation_plot(x, y, title, xlabel, ylabel, xmin, ymin)"
   ]
  }
 ],
 "metadata": {
  "anaconda-cloud": {},
  "kernel_info": {
   "name": "python3"
  },
  "kernelspec": {
   "display_name": "Python 3",
   "language": "python",
   "name": "python3"
  },
  "language_info": {
   "codemirror_mode": {
    "name": "ipython",
    "version": 3
   },
   "file_extension": ".py",
   "mimetype": "text/x-python",
   "name": "python",
   "nbconvert_exporter": "python",
   "pygments_lexer": "ipython3",
   "version": "3.8.5"
  },
  "latex_envs": {
   "LaTeX_envs_menu_present": true,
   "autoclose": false,
   "autocomplete": true,
   "bibliofile": "biblio.bib",
   "cite_by": "apalike",
   "current_citInitial": 1,
   "eqLabelWithNumbers": true,
   "eqNumInitial": 1,
   "hotkeys": {
    "equation": "Ctrl-E",
    "itemize": "Ctrl-I"
   },
   "labels_anchors": false,
   "latex_user_defs": false,
   "report_style_numbering": false,
   "user_envs_cfg": false
  },
  "nteract": {
   "version": "0.12.3"
  }
 },
 "nbformat": 4,
 "nbformat_minor": 2
}
